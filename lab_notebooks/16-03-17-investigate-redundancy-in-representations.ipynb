{
 "cells": [
  {
   "cell_type": "code",
   "execution_count": 1,
   "metadata": {
    "collapsed": true
   },
   "outputs": [],
   "source": [
    "import sys\n",
    "sys.path = ['/nfs/gns/homes/willj/anaconda3/envs/GTEx/lib/python3.5/site-packages'] + sys.path\n",
    "import pickle\n",
    "import math\n",
    "import numpy as np\n",
    "import matplotlib.pyplot as plt\n",
    "import random\n",
    "from scipy.stats import pearsonr\n",
    "%matplotlib inline"
   ]
  },
  {
   "cell_type": "code",
   "execution_count": 19,
   "metadata": {
    "collapsed": false
   },
   "outputs": [
    {
     "name": "stdout",
     "output_type": "stream",
     "text": [
      "(273, 273)\n"
     ]
    }
   ],
   "source": [
    "[X_matrix, y_pheno] = pickle.load(open('../data/processed/associations/covering_data_mean.py','rb'))\n",
    "\n",
    "correlation_matrix = np.corrcoef(y_pheno)\n",
    "\n",
    "print (correlation_matrix.shape)"
   ]
  },
  {
   "cell_type": "markdown",
   "metadata": {},
   "source": [
    "# Lots of redundancy in representations..."
   ]
  },
  {
   "cell_type": "code",
   "execution_count": 18,
   "metadata": {
    "collapsed": false
   },
   "outputs": [
    {
     "data": {
      "image/png": "[encoded data removed]",
      "text/plain": [
       "<matplotlib.figure.Figure at 0x2b9dc6ecce10>"
      ]
     },
     "metadata": {},
     "output_type": "display_data"
    }
   ],
   "source": [
    "plt.title(\"Histogram of correlations\")\n",
    "plt.hist(correlation_matrix[0,:], bins=20)\n",
    "plt.show()"
   ]
  },
  {
   "cell_type": "code",
   "execution_count": 21,
   "metadata": {
    "collapsed": false
   },
   "outputs": [],
   "source": [
    "from sklearn.decomposition import PCA"
   ]
  },
  {
   "cell_type": "code",
   "execution_count": 23,
   "metadata": {
    "collapsed": false
   },
   "outputs": [
    {
     "data": {
      "text/plain": [
       "array([[ -1.12889814e+05,  -5.30708795e+03,   1.61418489e+04, ...,\n",
       "         -1.10209522e+01,  -2.93414330e+00,   4.02436380e-11],\n",
       "       [ -1.48684062e+04,   1.45490171e+04,  -2.51335962e+03, ...,\n",
       "         -1.44118719e+00,  -5.81461247e+00,   4.02436380e-11],\n",
       "       [ -7.87378121e+04,   9.93571779e+03,   6.86956893e+03, ...,\n",
       "          3.75869947e-01,  -2.27871181e+00,   4.02436380e-11],\n",
       "       ..., \n",
       "       [  1.01187496e+05,  -2.06640735e+04,  -1.31596545e+04, ...,\n",
       "         -6.87119646e+00,   7.68395773e+00,   4.02436380e-11],\n",
       "       [  8.46473469e+04,   1.13470433e+04,  -1.89848089e+03, ...,\n",
       "          5.58617079e+00,   3.80125150e+00,   4.02436380e-11],\n",
       "       [ -4.76163787e+04,  -1.47043590e+04,  -3.42668171e+03, ...,\n",
       "          1.53521482e+00,  -9.33393446e+00,   4.02436380e-11]])"
      ]
     },
     "execution_count": 23,
     "metadata": {},
     "output_type": "execute_result"
    }
   ],
   "source": [
    "pca = PCA()\n",
    "pca.fit_transform(y_pheno)"
   ]
  },
  {
   "cell_type": "code",
   "execution_count": 34,
   "metadata": {
    "collapsed": false
   },
   "outputs": [
    {
     "data": {
      "text/plain": [
       "<matplotlib.text.Text at 0x2b9dc6e6c240>"
      ]
     },
     "execution_count": 34,
     "metadata": {},
     "output_type": "execute_result"
    },
    {
     "data": {
      "image/png": "[encoded data removed]",
      "text/plain": [
       "<matplotlib.figure.Figure at 0x2b9dc6ec7438>"
      ]
     },
     "metadata": {},
     "output_type": "display_data"
    }
   ],
   "source": [
    "k=5\n",
    "plt.bar(range(k),pca.explained_variance_ratio_[0:k])\n",
    "plt.title(\"Most of variance is explained by component 0\")\n",
    "plt.xlabel(\"PCA Component\")\n",
    "plt.ylabel(\"Proportion of variance explained\")"
   ]
  }
 ],
 "metadata": {
  "anaconda-cloud": {},
  "kernelspec": {
   "display_name": "Python [default]",
   "language": "python",
   "name": "python3"
  },
  "language_info": {
   "codemirror_mode": {
    "name": "ipython",
    "version": 3
   },
   "file_extension": ".py",
   "mimetype": "text/x-python",
   "name": "python",
   "nbconvert_exporter": "python",
   "pygments_lexer": "ipython3",
   "version": "3.5.2"
  },
  "nav_menu": {},
  "toc": {
   "navigate_menu": true,
   "number_sections": true,
   "sideBar": true,
   "threshold": 6,
   "toc_cell": false,
   "toc_section_display": "block",
   "toc_window_display": false
  },
  "widgets": {
   "state": {},
   "version": "1.1.2"
  }
 },
 "nbformat": 4,
 "nbformat_minor": 1
}
