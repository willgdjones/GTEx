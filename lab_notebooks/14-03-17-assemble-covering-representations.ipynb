{
 "cells": [
  {
   "cell_type": "code",
   "execution_count": 2,
   "metadata": {
    "collapsed": false
   },
   "outputs": [],
   "source": [
    "import os\n",
    "import pickle\n",
    "import matplotlib.pyplot as plt\n",
    "import numpy as np\n",
    "%matplotlib inline"
   ]
  },
  {
   "cell_type": "code",
   "execution_count": 3,
   "metadata": {
    "collapsed": false
   },
   "outputs": [
    {
     "name": "stdout",
     "output_type": "stream",
     "text": [
      "337 GTEX-1313W-0926 18001\n",
      "327 GTEX-139T6-0426 16001\n",
      "317 GTEX-13VXU-2726 28001\n",
      "307 GTEX-1211K-0826 20001\n",
      "297 GTEX-12WSE-0826 20001\n",
      "287 GTEX-Y9LG-0526 10000\n",
      "277 GTEX-P44H-1126 10001\n",
      "267 GTEX-ZAB4-0626 16001\n",
      "257 GTEX-12WSG-0326 16001\n",
      "247 GTEX-11TUW-0526 34001\n",
      "237 GTEX-133LE-0526 18001\n",
      "227 GTEX-11LCK-0426 28001\n",
      "217 GTEX-11O72-1326 24001\n",
      "207 GTEX-NPJ8-0326 12001\n",
      "197 GTEX-146FH-1226 18001\n",
      "187 GTEX-PSDG-1126 26001\n",
      "177 GTEX-13NZ8-0326 24001\n",
      "167 GTEX-YF7O-0626 26001\n",
      "157 GTEX-ZYFG-0226 24001\n",
      "147 GTEX-QEG4-0526 16001\n",
      "137 GTEX-T2IS-0526 12001\n",
      "127 GTEX-P44G-0926 8001\n",
      "117 GTEX-O5YT-0526 46001\n",
      "107 GTEX-131XW-1126 16001\n",
      "97 GTEX-12WSN-0626 12001\n",
      "87 GTEX-ZY6K-0326 20001\n",
      "77 GTEX-Q2AI-0526 28001\n",
      "67 GTEX-ZYVF-1726 24001\n",
      "57 GTEX-UPIC-0826 18001\n",
      "47 GTEX-WZTO-0426 20001\n",
      "37 GTEX-132NY-1226 20001\n",
      "27 GTEX-SN8G-0926 14001\n",
      "17 GTEX-ZDYS-0426 14001\n",
      "7 GTEX-O5YW-0526 12001\n"
     ]
    }
   ],
   "source": [
    "IDs = os.listdir('../data/processed/representations')\n",
    "\n",
    "ID = IDs[0]\n",
    "ID_activations = {}\n",
    "\n",
    "for (k,ID) in enumerate(IDs):\n",
    "    batches = '../data/processed/representations/{}'.format(ID)\n",
    "    reps = []\n",
    "    for b in os.listdir(batches):\n",
    "        x = pickle.load(open('../data/processed/representations/{}/{}'.format(ID,b), 'rb'))\n",
    "        reps.append(x)\n",
    "    reps = np.vstack(reps)\n",
    "    pickle.dump(reps, open('../data/processed/assembled_representations/{}'.format(ID),'wb'))\n",
    "    if k%10 == 0:\n",
    "        print (len(IDs) - k, ID, reps.shape[0])\n",
    "#     ID_activations[ID] = reps\n",
    "    "
   ]
  }
 ],
 "metadata": {
  "anaconda-cloud": {},
  "kernelspec": {
   "display_name": "Python [default]",
   "language": "python",
   "name": "python3"
  },
  "language_info": {
   "codemirror_mode": {
    "name": "ipython",
    "version": 3
   },
   "file_extension": ".py",
   "mimetype": "text/x-python",
   "name": "python",
   "nbconvert_exporter": "python",
   "pygments_lexer": "ipython3",
   "version": "3.5.2"
  },
  "nav_menu": {},
  "toc": {
   "navigate_menu": true,
   "number_sections": true,
   "sideBar": true,
   "threshold": 6,
   "toc_cell": false,
   "toc_section_display": "block",
   "toc_window_display": false
  },
  "widgets": {
   "state": {},
   "version": "1.1.2"
  }
 },
 "nbformat": 4,
 "nbformat_minor": 1
}
