{
 "cells": [
  {
   "cell_type": "code",
   "execution_count": 1,
   "metadata": {
    "collapsed": true
   },
   "outputs": [],
   "source": [
    "%reset -f"
   ]
  },
  {
   "cell_type": "code",
   "execution_count": 1,
   "metadata": {
    "collapsed": false,
    "scrolled": true
   },
   "outputs": [],
   "source": [
    "#Preprocessing\n",
    "import sys\n",
    "sys.path = ['/nfs/gns/homes/willj/anaconda3/envs/GTEx/lib/python3.5/site-packages'] + sys.path\n",
    "import h5py\n",
    "import numpy as np\n",
    "import matplotlib.pyplot as plt\n",
    "# from matplotlib_venn import venn3, venn3_circles\n",
    "import pickle\n",
    "import gzip\n",
    "import pandas as pd\n",
    "import requests\n",
    "import openslide\n",
    "from openslide.deepzoom import DeepZoomGenerator\n",
    "from openslide import open_slide\n",
    "import math\n",
    "import pdb\n",
    "import time\n",
    "import os\n",
    "import matplotlib.patches as mpatches"
   ]
  },
  {
   "cell_type": "markdown",
   "metadata": {},
   "source": [
    "# Functions"
   ]
  },
  {
   "cell_type": "code",
   "execution_count": 4,
   "metadata": {
    "collapsed": false
   },
   "outputs": [],
   "source": [
    "tissue_types = ['Lung', 'Artery - Tibial', 'Heart - Left Ventricle', 'Breast - Mammary Tissue', 'Brain - Cerebellum', 'Pancreas', 'Testis', 'Liver', 'Ovary', 'Stomach']\n",
    "\n",
    "genotypes_filepath = '/nfs/research2/stegle/stegle_secure/GTEx/download/49139/PhenoGenotypeFiles/RootStudyConsentSet_phs000424.GTEx.v6.p1.c1.GRU/GenotypeFiles/phg000520.v2.GTEx_MidPoint_Imputation.genotype-calls-vcf.c1/parse_data/GTEx_Analysis_20150112_OMNI_2.5M_5M_450Indiv_chr1to22_genot_imput_info04_maf01_HWEp1E6_ConstrVarIDs_all_chrom_filered_maf_subset_individuals_44_tissues.hdf5'\n",
    "expression_filepath = '/nfs/research2/stegle/stegle_secure/GTEx/download/49139/PhenoGenotypeFiles/RootStudyConsentSet_phs000424.GTEx.v6.p1.c1.GRU/ExpressionFiles/phe000006.v2.GTEx_RNAseq.expression-data-matrixfmt.c1/parse_data/44_tissues/GTEx_Data_20150112_RNAseq_RNASeQCv1.1.8_gene_rpkm_*_normalised_without_inverse_gene_expression.txt'\n",
    "phenotype_filepath = '/nfs/research2/stegle/stegle_secure/GTEx/download/49139/PhenoGenotypeFiles/RootStudyConsentSet_phs000424.GTEx.v6.p1.c1.GRU/PhenotypeFiles/phs000424.v6.pht002743.v6.p1.c1.GTEx_Sample_Attributes.GRU.txt.gz'\n",
    "\n",
    "def build_empty_model():\n",
    "    inception_model = InceptionV3(weights='imagenet', include_top=False)\n",
    "\n",
    "    x = inception_model.output\n",
    "\n",
    "    x = GlobalAveragePooling2D()(x)\n",
    "    x = Dense(1024, activation='relu')(x)\n",
    "    predictions = Dense(10, activation='softmax')(x)\n",
    "\n",
    "    model = Model(input=inception_model.input, output=predictions)\n",
    "    return model"
   ]
  },
  {
   "cell_type": "markdown",
   "metadata": {},
   "source": [
    "# Load data"
   ]
  },
  {
   "cell_type": "code",
   "execution_count": 3,
   "metadata": {
    "collapsed": false,
    "scrolled": true
   },
   "outputs": [
    {
     "ename": "NameError",
     "evalue": "name 'tissue_types' is not defined",
     "output_type": "error",
     "traceback": [
      "\u001b[0;31m---------------------------------------------------------------------------\u001b[0m",
      "\u001b[0;31mNameError\u001b[0m                                 Traceback (most recent call last)",
      "\u001b[0;32m<ipython-input-3-ac0f77c36479>\u001b[0m in \u001b[0;36m<module>\u001b[0;34m()\u001b[0m\n\u001b[1;32m      4\u001b[0m \u001b[0mtissue_labels\u001b[0m \u001b[0;34m=\u001b[0m \u001b[0;34m[\u001b[0m\u001b[0;34m]\u001b[0m\u001b[0;34m\u001b[0m\u001b[0m\n\u001b[1;32m      5\u001b[0m \u001b[0mIDs\u001b[0m \u001b[0;34m=\u001b[0m \u001b[0;34m[\u001b[0m\u001b[0;34m]\u001b[0m\u001b[0;34m\u001b[0m\u001b[0m\n\u001b[0;32m----> 6\u001b[0;31m \u001b[0;32mfor\u001b[0m \u001b[0mt\u001b[0m \u001b[0;32min\u001b[0m \u001b[0mtissue_types\u001b[0m\u001b[0;34m:\u001b[0m\u001b[0;34m\u001b[0m\u001b[0m\n\u001b[0m\u001b[1;32m      7\u001b[0m     \u001b[0mprint\u001b[0m \u001b[0;34m(\u001b[0m\u001b[0mt\u001b[0m\u001b[0;34m)\u001b[0m\u001b[0;34m\u001b[0m\u001b[0m\n\u001b[1;32m      8\u001b[0m     \u001b[0;34m[\u001b[0m\u001b[0mrX\u001b[0m\u001b[0;34m,\u001b[0m \u001b[0mtl\u001b[0m\u001b[0;34m,\u001b[0m \u001b[0mID\u001b[0m\u001b[0;34m]\u001b[0m \u001b[0;34m=\u001b[0m \u001b[0mpickle\u001b[0m\u001b[0;34m.\u001b[0m\u001b[0mload\u001b[0m\u001b[0;34m(\u001b[0m\u001b[0mopen\u001b[0m\u001b[0;34m(\u001b[0m\u001b[0;34m'../data/processed/patches/data_{}_{}_{}.py'\u001b[0m\u001b[0;34m.\u001b[0m\u001b[0mformat\u001b[0m\u001b[0;34m(\u001b[0m\u001b[0mt\u001b[0m\u001b[0;34m,\u001b[0m\u001b[0mdata_tile_number\u001b[0m\u001b[0;34m,\u001b[0m\u001b[0mdata_tile_level_index\u001b[0m\u001b[0;34m)\u001b[0m\u001b[0;34m,\u001b[0m \u001b[0;34m'rb'\u001b[0m\u001b[0;34m)\u001b[0m\u001b[0;34m)\u001b[0m\u001b[0;34m\u001b[0m\u001b[0m\n",
      "\u001b[0;31mNameError\u001b[0m: name 'tissue_types' is not defined"
     ]
    }
   ],
   "source": [
    "data_tile_number = 10\n",
    "data_tile_level_index = -1\n",
    "raw_X = []\n",
    "tissue_labels = []\n",
    "IDs = []\n",
    "for t in tissue_types:\n",
    "    print (t)\n",
    "    [rX, tl, ID] = pickle.load(open('../data/processed/patches/data_{}_{}_{}.py'.format(t,data_tile_number,data_tile_level_index), 'rb'))\n",
    "    raw_X.extend(rX)\n",
    "    tissue_labels.extend(tl)\n",
    "    IDs.extend(ID)\n",
    "X = np.array(raw_X)"
   ]
  },
  {
   "cell_type": "markdown",
   "metadata": {},
   "source": [
    "# Extract genotypes"
   ]
  },
  {
   "cell_type": "code",
   "execution_count": 4,
   "metadata": {
    "collapsed": false
   },
   "outputs": [],
   "source": [
    "def get_donor_IDs(IDlist):\n",
    "    return [str(x).split('-')[1] for x in IDlist]\n",
    "\n",
    "with h5py.File(genotypes_filepath,'r') as f:\n",
    "    sampleIDs = list(f['genotype']['row_header']['sample_ID'])\n",
    "    genotype_matrix = np.array(f['genotype']['matrix'])\n",
    "    genotype_matrix[genotype_matrix == 255] = 0"
   ]
  },
  {
   "cell_type": "markdown",
   "metadata": {},
   "source": [
    "# Get donor IDs of the images"
   ]
  },
  {
   "cell_type": "code",
   "execution_count": 5,
   "metadata": {
    "collapsed": false
   },
   "outputs": [],
   "source": [
    "donor_IDs = get_donor_IDs(sampleIDs)\n",
    "image_donor_IDs = get_donor_IDs(IDs)"
   ]
  },
  {
   "cell_type": "markdown",
   "metadata": {},
   "source": [
    "# Filter to genotypes we actually have"
   ]
  },
  {
   "cell_type": "code",
   "execution_count": 6,
   "metadata": {
    "collapsed": false
   },
   "outputs": [
    {
     "name": "stdout",
     "output_type": "stream",
     "text": [
      "8430\n"
     ]
    }
   ],
   "source": [
    "genotype_exists = np.array([x in donor_IDs for x in image_donor_IDs])\n",
    "print (sum(genotype_exists))"
   ]
  },
  {
   "cell_type": "code",
   "execution_count": 7,
   "metadata": {
    "collapsed": false,
    "scrolled": true
   },
   "outputs": [
    {
     "name": "stdout",
     "output_type": "stream",
     "text": [
      "8430 8430 8430\n"
     ]
    }
   ],
   "source": [
    "f_X = X[genotype_exists]\n",
    "f_tissue_labels = np.array(tissue_labels)[genotype_exists]\n",
    "f_IDs = np.array(IDs)[genotype_exists]\n",
    "print (len(f_X), len(f_tissue_labels), len(f_IDs))"
   ]
  },
  {
   "cell_type": "code",
   "execution_count": 8,
   "metadata": {
    "collapsed": false
   },
   "outputs": [],
   "source": [
    "f_image_donor_IDs = get_donor_IDs(f_IDs)\n",
    "#Now all image donors have genotypes\n",
    "assert all([x in donor_IDs for x in f_image_donor_IDs]) == True"
   ]
  },
  {
   "cell_type": "markdown",
   "metadata": {},
   "source": [
    "# Load representations"
   ]
  },
  {
   "cell_type": "code",
   "execution_count": 9,
   "metadata": {
    "collapsed": false
   },
   "outputs": [],
   "source": [
    "model_tile_number = 50\n",
    "model_tile_level_index = -1\n",
    "\n",
    "full_representations = pickle.load(open('../data/processed/representations/representations_model_{}_{}_gs{}_data_{}_{}'.format(model_tile_number,model_tile_level_index,1,data_tile_number,data_tile_level_index), 'rb'))\n",
    "f_full_representations = full_representations[genotype_exists]\n",
    "f_donor_IDs = get_donor_IDs(f_IDs)"
   ]
  },
  {
   "cell_type": "markdown",
   "metadata": {},
   "source": [
    "# Extract necessary matrix rows in correct order from genotype matrix"
   ]
  },
  {
   "cell_type": "code",
   "execution_count": 11,
   "metadata": {
    "collapsed": false
   },
   "outputs": [
    {
     "data": {
      "text/plain": [
       "(449, 10727091)"
      ]
     },
     "execution_count": 11,
     "metadata": {},
     "output_type": "execute_result"
    }
   ],
   "source": [
    "genotype_matrix.shape"
   ]
  },
  {
   "cell_type": "code",
   "execution_count": 14,
   "metadata": {
    "collapsed": false
   },
   "outputs": [
    {
     "data": {
      "text/plain": [
       "5299691424"
      ]
     },
     "execution_count": 14,
     "metadata": {},
     "output_type": "execute_result"
    }
   ],
   "source": [
    "sys.getsizeof(X)"
   ]
  },
  {
   "cell_type": "code",
   "execution_count": 13,
   "metadata": {
    "collapsed": false
   },
   "outputs": [
    {
     "data": {
      "text/plain": [
       "4816463971"
      ]
     },
     "execution_count": 13,
     "metadata": {},
     "output_type": "execute_result"
    }
   ],
   "source": [
    "sys.getsizeof(genotype_matrix)"
   ]
  },
  {
   "cell_type": "code",
   "execution_count": null,
   "metadata": {
    "collapsed": true
   },
   "outputs": [],
   "source": [
    "sample_idx = np.array([donor_IDs.index(x) for x in f_donor_IDs])"
   ]
  },
  {
   "cell_type": "code",
   "execution_count": null,
   "metadata": {
    "collapsed": false
   },
   "outputs": [],
   "source": [
    "f_genotype_matrix = genotype_matrix[sample_idx, :]\n",
    "print (f_genotype_matrix.shape)"
   ]
  },
  {
   "cell_type": "markdown",
   "metadata": {},
   "source": [
    "# Example linear associations with lim"
   ]
  },
  {
   "cell_type": "code",
   "execution_count": 20,
   "metadata": {
    "collapsed": false
   },
   "outputs": [
    {
     "name": "stderr",
     "output_type": "stream",
     "text": [
      "INFO:lim.genetics.qtl._scan:Normal association scan has started.\n",
      "INFO:lim.genetics.qtl._scan:Number of candidate markers to scan: 100\n",
      "INFO:lim.genetics.qtl._scan:Genetic markers normalization.\n",
      "INFO:lim.genetics.qtl._scan:Computing the economic eigen decomposition.\n",
      "INFO:lim.genetics.qtl._scan:Genetic marker candidates normalization.\n",
      "INFO:lim.genetics.qtl._qtl:Computing likelihood-ratio test statistics.\n",
      "INFO:lim.genetics.qtl._qtl:Computing likelihood-ratio test statistics.\n",
      "INFO:lim.genetics.qtl._qtl:Computing likelihood-ratio test statistics.\n",
      "INFO:lim.genetics.qtl._qtl:Computing likelihood-ratio test statistics.\n"
     ]
    },
    {
     "name": "stdout",
     "output_type": "stream",
     "text": [
      "[ 0.0059433   0.02481828  0.01364253  0.00796372  0.01665129  0.0139813\n",
      "  0.99797416  0.82462016  0.10035177  0.94504485  0.54028934  0.60235573\n",
      "  0.58967876  0.80357017  0.7430283   0.88782955  0.45937029  0.65233407\n",
      "  0.4631676   0.35344608  0.39094646  0.66382861  0.70909249  0.93160763\n",
      "  0.59810102  0.14507473  0.10088497  0.00967413  0.24217988  0.6726014\n",
      "  0.35020917  0.75734146  0.4376674   0.94870166  0.88362786  0.92749008\n",
      "  0.30058976  0.34372389  0.15346698  0.10287649  0.02084949  0.17561226\n",
      "  0.74867121  0.89208037  0.58584088  0.17302564  0.8044232   0.47024474\n",
      "  0.34775072  0.25478353  0.6515139   0.18032672  0.35264529  0.81173092\n",
      "  0.11153409  0.81657815  0.4729755   0.76140385  0.12763198  0.25481329\n",
      "  0.15908389  0.40858544  0.1714145   0.38068986  0.77456634  0.97351764\n",
      "  0.15354026  0.12652926  0.2886353   0.2691533   0.63232665  0.88815939\n",
      "  0.33865953  0.53291733  0.38837006  0.98472595  0.30993077  0.92855554\n",
      "  0.3519052   0.53092571  0.61686339  0.93070914  0.59382121  0.38525718\n",
      "  0.40795578  0.69547075  0.44919695  0.17929418  0.7940649   0.93245429\n",
      "  0.87516054  0.56628138  0.07451414  0.95301402  0.22256301  0.69720616\n",
      "  0.58438183  0.86773005  0.22871287  0.68425119]\n"
     ]
    }
   ],
   "source": [
    "from lim.tool import normalize\n",
    "from lim.genetics import qtl\n",
    "from lim.genetics.phenotype import NormalPhenotype\n",
    "\n",
    "from numpy import random\n",
    "from numpy import ones\n",
    "from numpy import zeros\n",
    "from numpy import sqrt\n",
    "from numpy import ones\n",
    "\n",
    "random = random.RandomState(0)\n",
    "N = 50\n",
    "P = 100\n",
    "\n",
    "# genetic markers\n",
    "X = random.randn(N, P)\n",
    "X = normalize.stdnorm(X, axis=0)\n",
    "X /= sqrt(X.shape[1])\n",
    "\n",
    "# effect sizes\n",
    "u = zeros(P)\n",
    "u[0] = +1\n",
    "u[1] = +1\n",
    "u[2] = -1\n",
    "u[3] = -1\n",
    "u[4] = -1\n",
    "u[5] = +1\n",
    "\n",
    "offset = 0.4\n",
    "\n",
    "# phenotype definition\n",
    "y = offset + X.dot(u) + 0.2 * random.randn(N)\n",
    "\n",
    "G = X[:, 2:].copy()\n",
    "\n",
    "lrt = qtl.scan(NormalPhenotype(y), X, G, progress=False)\n",
    "print(lrt.pvalues())"
   ]
  },
  {
   "cell_type": "markdown",
   "metadata": {},
   "source": [
    "# Finding Linear associations"
   ]
  },
  {
   "cell_type": "code",
   "execution_count": 13,
   "metadata": {
    "collapsed": false
   },
   "outputs": [
    {
     "name": "stdout",
     "output_type": "stream",
     "text": [
      "(861, 1024)\n",
      "(861, 10727091)\n"
     ]
    }
   ],
   "source": [
    "print (f_full_representations.shape)\n",
    "print (f_genotype_matrix.shape)"
   ]
  },
  {
   "cell_type": "code",
   "execution_count": 14,
   "metadata": {
    "collapsed": true
   },
   "outputs": [],
   "source": [
    "from lim.genetics import qtl\n",
    "from lim.genetics.phenotype import NormalPhenotype"
   ]
  },
  {
   "cell_type": "code",
   "execution_count": 62,
   "metadata": {
    "collapsed": false
   },
   "outputs": [
    {
     "name": "stderr",
     "output_type": "stream",
     "text": [
      "INFO:lim.genetics.qtl._scan:Normal association scan has started.\n",
      "INFO:lim.genetics.qtl._scan:Number of candidate markers to scan: 1000\n",
      "INFO:lim.genetics.qtl._scan:Genetic markers normalization.\n",
      "INFO:lim.genetics.qtl._scan:Computing the economic eigen decomposition.\n",
      "INFO:lim.genetics.qtl._scan:Genetic marker candidates normalization.\n",
      "INFO:lim.genetics.qtl._qtl:Computing likelihood-ratio test statistics.\n",
      "INFO:lim.genetics.qtl._qtl:Computing likelihood-ratio test statistics.\n",
      "INFO:lim.genetics.qtl._qtl:Computing likelihood-ratio test statistics.\n",
      "INFO:lim.genetics.qtl._qtl:Computing likelihood-ratio test statistics.\n"
     ]
    },
    {
     "name": "stdout",
     "output_type": "stream",
     "text": [
      "0.000105358920954\n"
     ]
    }
   ],
   "source": [
    "n_samples = 600\n",
    "X_matrix = f_genotype_matrix[:,0:1000]\n",
    "y_pheno = f_full_representations[:,0]\n",
    "\n",
    "N = f_genotype_matrix.shape[0]\n",
    "P = f_genotype_matrix.shape[1]\n",
    "y_pheno_obj = NormalPhenotype(y_pheno)\n",
    "\n",
    "G = X_matrix[:, 1:].copy()\n",
    "\n",
    "lrt = qtl.scan(y_pheno_obj, X_matrix, G, progress=False)\n",
    "\n",
    "print(min(lrt.pvalues()))"
   ]
  },
  {
   "cell_type": "code",
   "execution_count": null,
   "metadata": {
    "collapsed": true
   },
   "outputs": [],
   "source": [
    "lr"
   ]
  }
 ],
 "metadata": {
  "anaconda-cloud": {},
  "kernelspec": {
   "display_name": "Python [default]",
   "language": "python",
   "name": "python3"
  },
  "language_info": {
   "codemirror_mode": {
    "name": "ipython",
    "version": 3
   },
   "file_extension": ".py",
   "mimetype": "text/x-python",
   "name": "python",
   "nbconvert_exporter": "python",
   "pygments_lexer": "ipython3",
   "version": "3.5.2"
  },
  "nav_menu": {},
  "toc": {
   "navigate_menu": true,
   "number_sections": true,
   "sideBar": true,
   "threshold": 6,
   "toc_cell": false,
   "toc_section_display": "block",
   "toc_window_display": false
  },
  "widgets": {
   "state": {},
   "version": "1.1.2"
  }
 },
 "nbformat": 4,
 "nbformat_minor": 2
}
