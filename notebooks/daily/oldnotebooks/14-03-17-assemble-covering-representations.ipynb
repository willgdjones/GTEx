{
 "cells": [
  {
   "cell_type": "code",
   "execution_count": 2,
   "metadata": {
    "collapsed": false
   },
   "outputs": [],
   "source": [
    "import os\n",
    "import pickle\n",
    "import matplotlib.pyplot as plt\n",
    "import numpy as np\n",
    "%matplotlib inline\n",
    "\n",
    "IDs = os.listdir('../data/processed/representations')\n",
    "\n",
    "ID = IDs[0]\n",
    "ID_activations = {}\n",
    "\n",
    "for (k,ID) in enumerate(IDs):\n",
    "    batches = '../data/processed/representations/{}'.format(ID)\n",
    "    reps = []\n",
    "    for b in os.listdir(batches):\n",
    "        x = pickle.load(open('../data/processed/representations/{}/{}'.format(ID,b), 'rb'))\n",
    "        reps.append(x)\n",
    "    reps = np.vstack(reps)\n",
    "    pickle.dump(reps, open('../data/processed/assembled_representations/{}'.format(ID),'wb'))\n",
    "    if k%10 == 0:\n",
    "        print (len(IDs) - k, ID, reps.shape[0])\n",
    "#     ID_activations[ID] = reps\n",
    "    "
   ]
  }
 ],
 "metadata": {
  "anaconda-cloud": {},
  "kernelspec": {
   "display_name": "Python [default]",
   "language": "python",
   "name": "python3"
  },
  "language_info": {
   "codemirror_mode": {
    "name": "ipython",
    "version": 3
   },
   "file_extension": ".py",
   "mimetype": "text/x-python",
   "name": "python",
   "nbconvert_exporter": "python",
   "pygments_lexer": "ipython3",
   "version": "3.5.2"
  },
  "nav_menu": {},
  "toc": {
   "navigate_menu": true,
   "number_sections": true,
   "sideBar": true,
   "threshold": 6,
   "toc_cell": false,
   "toc_section_display": "block",
   "toc_window_display": false
  },
  "widgets": {
   "state": {},
   "version": "1.1.2"
  }
 },
 "nbformat": 4,
 "nbformat_minor": 1
}
