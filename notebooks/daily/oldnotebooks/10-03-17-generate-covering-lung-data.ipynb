{
 "cells": [
  {
   "cell_type": "code",
   "execution_count": 111,
   "metadata": {
    "collapsed": true
   },
   "outputs": [],
   "source": [
    "#Preprocessing\n",
    "import sys\n",
    "sys.path = ['/nfs/gns/homes/willj/anaconda3/envs/GTEx/lib/python3.5/site-packages'] + sys.path\n",
    "import h5py\n",
    "import numpy as np\n",
    "import matplotlib.pyplot as plt\n",
    "import pickle\n",
    "import gzip\n",
    "import pandas as pd\n",
    "import requests\n",
    "import openslide\n",
    "from openslide.deepzoom import DeepZoomGenerator\n",
    "from openslide import open_slide\n",
    "import math\n",
    "import pdb\n",
    "import os\n",
    "%matplotlib inline\n",
    "GTEx_directory = '/hps/nobackup/research/stegle/users/willj/GTEx'\n",
    "import mahotas\n",
    "import sys\n",
    "import argparse\n",
    "\n",
    "\n",
    "ID = 'GTEX-13NZA-1426'\n",
    "image_path = os.path.join(GTEx_directory,'data','raw','Lung',ID + '.svs')\n",
    "tile_size = 128\n",
    "tile_level_index = -1\n",
    "slide = open_slide(image_path)\n",
    "\n",
    "\n",
    "\n",
    "tiles = DeepZoomGenerator(slide, tile_size=tile_size, overlap=0, limit_bounds=False)\n",
    "tile_level = range(len(tiles.level_tiles))[tile_level_index]\n",
    "tile_dims = tiles.level_tiles[tile_level_index]\n",
    "\n",
    "tile_stack = []\n",
    "k = 0\n",
    "os.makedirs(os.path.join('../data','processed','covering_patches',ID), exist_ok = True)\n",
    "for i in range(tile_dims[0]):\n",
    "    for j in range(tile_dims[1]):\n",
    "        tile = np.array(tiles.get_tile(tile_level, (i, j)))\n",
    "        #If mean pixel > 0\n",
    "        if np.mean(tile.flatten()) < 230:\n",
    "            tile_stack.append(tile)\n",
    "            if k % 200 == 0 and k > 0:\n",
    "                pickle.dump(tile_stack,open(os.path.join('../data','processed','covering_patches',ID,'{}_{}'.format(ID,k)), 'wb'))\n",
    "            print (k, i, j)                \n",
    "            k += 1\n",
    "            \n",
    "        #Otherwise we are in whitespace\n",
    "        \n",
    "\n",
    " \n",
    "            "
   ]
  },
  {
   "cell_type": "code",
   "execution_count": 34,
   "metadata": {
    "collapsed": true
   },
   "outputs": [],
   "source": [
    "tile = tiles.get_tile(tile_level, (np.random.randint(tile_dims[0]), np.random.randint(tile_dims[1])))"
   ]
  },
  {
   "cell_type": "code",
   "execution_count": null,
   "metadata": {
    "collapsed": true
   },
   "outputs": [],
   "source": [
    "def get_covering_tiles_from_image(tile_size,image_path):\n",
    "    #Sample n tiles of size mxm from image\n",
    "    sampled_tiles = []\n",
    "    try:\n",
    "        slide = open_slide(os.path.join(GTEx_directory,image_path))\n",
    "        tiles = DeepZoomGenerator(slide, tile_size=tile_size, overlap=0, limit_bounds=False)\n",
    "        tile_level = range(len(tiles.level_tiles))[tile_level_index]\n",
    "        tile_dims = tiles.level_tiles[tile_level_index]\n",
    "    #     f,a = plt.subplots(4,4,figsize=(10,10))\n",
    "        count = 0\n",
    "\n",
    "        t = time.time()\n",
    "\n",
    "\n",
    "    return sampled_tiles"
   ]
  }
 ],
 "metadata": {
  "anaconda-cloud": {},
  "kernelspec": {
   "display_name": "Python [default]",
   "language": "python",
   "name": "python3"
  },
  "language_info": {
   "codemirror_mode": {
    "name": "ipython",
    "version": 3
   },
   "file_extension": ".py",
   "mimetype": "text/x-python",
   "name": "python",
   "nbconvert_exporter": "python",
   "pygments_lexer": "ipython3",
   "version": "3.5.2"
  },
  "nav_menu": {},
  "toc": {
   "navigate_menu": true,
   "number_sections": true,
   "sideBar": true,
   "threshold": 6,
   "toc_cell": false,
   "toc_section_display": "block",
   "toc_window_display": false
  },
  "widgets": {
   "state": {},
   "version": "1.1.2"
  }
 },
 "nbformat": 4,
 "nbformat_minor": 1
}
