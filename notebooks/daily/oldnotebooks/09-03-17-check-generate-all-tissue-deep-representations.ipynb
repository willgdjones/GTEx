{
 "cells": [
  {
   "cell_type": "code",
   "execution_count": null,
   "metadata": {
    "collapsed": true
   },
   "outputs": [],
   "source": [
    "#Preprocessing\n",
    "import sys\n",
    "sys.path = ['/nfs/gns/homes/willj/anaconda3/envs/GTEx/lib/python3.5/site-packages'] + sys.path\n",
    "import h5py\n",
    "import numpy as np\n",
    "import matplotlib.pyplot as plt\n",
    "# from matplotlib_venn import venn3, venn3_circles\n",
    "import pickle\n",
    "import gzip\n",
    "import pandas as pd\n",
    "import requests\n",
    "import openslide\n",
    "from openslide.deepzoom import DeepZoomGenerator\n",
    "from openslide import open_slide\n",
    "import math\n",
    "import pdb\n",
    "import time\n",
    "import os\n",
    "import matplotlib.patches as mpatches\n",
    "%matplotlib inline\n",
    "\n",
    "from keras.models import Sequential, Model\n",
    "from keras.layers import Convolution2D, MaxPooling2D, GlobalAveragePooling2D, Input, Dense\n",
    "from keras.applications.inception_v3 import InceptionV3\n",
    "from keras.optimizers import SGD\n",
    "from keras.preprocessing.image import ImageDataGenerator\n",
    "from keras.utils import np_utils\n",
    "from keras.models import load_model\n",
    "from keras import backend as K\n",
    "\n",
    "tissue_types = ['Lung', 'Artery - Tibial', 'Heart - Left Ventricle', 'Breast - Mammary Tissue', 'Brain - Cerebellum', 'Pancreas', 'Testis', 'Liver', 'Ovary', 'Stomach']\n",
    "genotypes_filepath = '/nfs/research2/stegle/stegle_secure/GTEx/download/49139/PhenoGenotypeFiles/RootStudyConsentSet_phs000424.GTEx.v6.p1.c1.GRU/GenotypeFiles/phg000520.v2.GTEx_MidPoint_Imputation.genotype-calls-vcf.c1/parse_data/GTEx_Analysis_20150112_OMNI_2.5M_5M_450Indiv_chr1to22_genot_imput_info04_maf01_HWEp1E6_ConstrVarIDs_all_chrom_filered_maf_subset_individuals_44_tissues.hdf5'\n",
    "expression_filepath = '/nfs/research2/stegle/stegle_secure/GTEx/download/49139/PhenoGenotypeFiles/RootStudyConsentSet_phs000424.GTEx.v6.p1.c1.GRU/ExpressionFiles/phe000006.v2.GTEx_RNAseq.expression-data-matrixfmt.c1/parse_data/44_tissues/GTEx_Data_20150112_RNAseq_RNASeQCv1.1.8_gene_rpkm_*_normalised_without_inverse_gene_expression.txt'\n",
    "phenotype_filepath = '/nfs/research2/stegle/stegle_secure/GTEx/download/49139/PhenoGenotypeFiles/RootStudyConsentSet_phs000424.GTEx.v6.p1.c1.GRU/PhenotypeFiles/phs000424.v6.pht002743.v6.p1.c1.GTEx_Sample_Attributes.GRU.txt.gz'\n",
    "lung_expression_filepath = '/nfs/research2/stegle/stegle_secure/GTEx/download/49139/PhenoGenotypeFiles/RootStudyConsentSet_phs000424.GTEx.v6.p1.c1.GRU/ExpressionFiles/phe000006.v2.GTEx_RNAseq.expression-data-matrixfmt.c1/parse_data/44_tissues/GTEx_Data_20150112_RNAseq_RNASeQCv1.1.8_gene_rpkm_{}_normalised_without_inverse_gene_expression.txt'.format(\"Lung\")\n",
    "\n",
    "def build_empty_model():\n",
    "    inception_model = InceptionV3(weights='imagenet', include_top=False)\n",
    "\n",
    "    x = inception_model.output\n",
    "\n",
    "    x = GlobalAveragePooling2D()(x)\n",
    "    x = Dense(1024, activation='relu')(x)\n",
    "    predictions = Dense(10, activation='softmax')(x)\n",
    "\n",
    "    model = Model(input=inception_model.input, output=predictions)\n",
    "    return model\n",
    "\n",
    "def get_donor_IDs(IDlist):\n",
    "    return [str(x).split('-')[1] for x in IDlist]"
   ]
  },
  {
   "cell_type": "markdown",
   "metadata": {},
   "source": [
    "# Load lung data, generate and aggregate representations"
   ]
  },
  {
   "cell_type": "code",
   "execution_count": 1,
   "metadata": {
    "collapsed": true
   },
   "outputs": [],
   "source": [
    "data_tile_number = 10\n",
    "data_tile_level_index = -1\n",
    "t = \"Lung\"\n",
    "[lung_X, tl, lung_ID] = pickle.load(open('../data/processed/patches/data_{}_{}_{}_check.py'.format(t,data_tile_number,data_tile_level_index), 'rb'))\n",
    "\n",
    "# Generate representations\n",
    "\n",
    "# Generate from scratch\n",
    "model_tile_number = 50\n",
    "model_tile_level_index = -1\n",
    "model = build_empty_model()\n",
    "model.load_weights('../models/inception_50_-1_gs1.h5')\n",
    "\n",
    "final_layer_model = Model(model.input, model.layers[-2].output)\n",
    "lung_full_representations = final_layer_model.predict(lung_X)\n",
    "\n",
    "pickle.dump(lung_full_representations,open('../data/processed/representations/lung_representations_model_{}_{}_gs{}_data_{}_{}_check'.format(model_tile_number,model_tile_level_index,1,data_tile_number,data_tile_level_index), 'wb'))\n",
    "\n",
    "\n",
    "lung_full_representations = pickle.load(open('../data/processed/representations/lung_representations_model_{}_{}_gs{}_data_{}_{}_check'.format(model_tile_number,model_tile_level_index,1,data_tile_number,data_tile_level_index), 'rb'))\n",
    "\n",
    "# Aggregate representations\n",
    "\n",
    "agg_lung_full_representations = []\n",
    "for i in range(int(len(lung_full_representations) / 10)):\n",
    "    reps_from_person = lung_full_representations[10*i:10*(i+1),:]\n",
    "    agg_reps = np.mean(reps_from_person,axis=0)\n",
    "    agg_lung_full_representations.append(agg_reps)\n",
    "agg_lung_full_representations = np.array(agg_lung_full_representations)\n",
    "\n"
   ]
  },
  {
   "cell_type": "markdown",
   "metadata": {},
   "source": [
    "# Load and filter expression data for Lung"
   ]
  },
  {
   "cell_type": "code",
   "execution_count": null,
   "metadata": {
    "collapsed": true
   },
   "outputs": [],
   "source": [
    "\n",
    "\n",
    "with open(lung_expression_filepath, 'r') as f:\n",
    "    expression_table = np.array([x.split('\\t') for x in f.read().splitlines()])\n",
    "\n",
    "# These are the individual donor IDs from the RNA expression matrix\n",
    "individual_lung_expression_donor_IDs = [x.split('-')[1] for x in expression_table[0,:][1:]]\n",
    "print (len(individual_lung_expression_donor_IDs)) #278\n",
    "\n",
    "# These are the individual donor IDs from the images.\n",
    "individual_lung_image_donor_IDs = np.array(get_donor_IDs([lung_ID[data_tile_number*i] for i in range(int(len(lung_ID) / 10))]))\n",
    "print (len(individual_lung_image_donor_IDs)) #96\n",
    "\n",
    "# #However these image donors are not unique. I.e. there are multiple images per donor.\n",
    "# print (len(np.unique(individual_lung_image_donor_IDs)), len(individual_lung_image_donor_IDs))\n",
    "\n",
    "# # We however only want one image per donor, so we only select representations with unique donors.\n",
    "# unique_image_ID_idx = np.unique(individual_lung_image_donor_IDs, return_index=True)[1]\n",
    "# unique_agg_reps = agg_reps[unique_image_ID_idx]\n",
    "\n",
    "# Filter image IDs to ones where RNA expression exists\n",
    "rna_exists = np.array([x in individual_lung_expression_donor_IDs for x in individual_lung_image_donor_IDs])\n",
    "print (sum(rna_exists)) #74\n",
    "f_individual_lung_image_donor_IDs = individual_lung_image_donor_IDs[rna_exists]\n",
    "\n",
    "#Find the unique indexes of these IDs in the individual donor IDs which correspond to a single aggregated representation.\n",
    "f_individual_lung_IDs_reps_idx = np.unique([list(individual_lung_image_donor_IDs).index(x) for x in f_individual_lung_image_donor_IDs])\n",
    "print (len(f_individual_lung_IDs_reps_idx)) #63\n",
    "\n",
    "#Find the indexes of these IDs in the RNA expression\n",
    "f_individual_lung_IDs_exp_idx = np.unique([list(individual_lung_expression_donor_IDs).index(x) for x in f_individual_lung_image_donor_IDs])\n",
    "print (len(f_individual_lung_IDs_exp_idx)) #63\n",
    "\n",
    "#Find the unique indexes of these IDs in the individual donor IDs which correspond to a single aggregated representation.\n",
    "f_individual_lung_IDs_reps_idx = np.unique([list(individual_lung_image_donor_IDs).index(x) for x in f_individual_lung_image_donor_IDs])\n",
    "print (len(f_individual_lung_IDs_reps_idx)) #57\n",
    "\n",
    "#Find the indexes of these IDs in the RNA expression\n",
    "f_individual_lung_IDs_exp_idx = np.unique([list(individual_lung_expression_donor_IDs).index(x) for x in f_individual_lung_image_donor_IDs])\n",
    "print (len(f_individual_lung_IDs_exp_idx)) #57\n",
    "\n",
    "#Extract the correct data from the expression matrix and the aggregate representations.\n",
    "expression_matrix = expression_table[1:,1:].astype(np.float32)\n",
    "\n",
    "f_agg_lung_full_representations = agg_lung_full_representations[f_individual_lung_IDs_reps_idx,:]\n",
    "f_expression_matrix = expression_matrix[:,f_individual_lung_IDs_exp_idx].T\n",
    "print (f_agg_lung_full_representations.shape, f_expression_matrix.shape) # (63, 1024) (63, 28683)\n",
    "\n",
    "\n",
    "pickle.dump([f_expression_matrix, f_agg_lung_full_representations], open('../data/processed/associations/lung_associations_check.py','wb'))"
   ]
  },
  {
   "cell_type": "markdown",
   "metadata": {},
   "source": [
    "# Perform association tests"
   ]
  },
  {
   "cell_type": "code",
   "execution_count": 66,
   "metadata": {
    "collapsed": true
   },
   "outputs": [],
   "source": [
    "import random\n",
    "\n",
    "from lim.genetics import qtl\n",
    "from lim.genetics.phenotype import NormalPhenotype\n",
    "\n",
    "import logging\n",
    "lim_logging = logging.getLogger('lim')\n",
    "lim_logging.setLevel(logging.CRITICAL)\n",
    "[X_matrix, y_pheno] = pickle.load(open('../data/processed/associations/lung_associations_check.py','rb'))\n",
    "filter_limit = 1\n",
    "filtered_indexes = np.mean(X_matrix, axis=0) > filter_limit\n",
    "f_X_matrix = X_matrix[:,filtered_indexes]\n",
    "print (f_X_matrix.shape)\n",
    "shuffle = '1'\n",
    "upper_limit = math.floor(f_X_matrix.shape[1] / 100) + 1\n",
    "\n",
    "p_values = []\n",
    "f_y_pheno = y_pheno[:,266].copy()\n",
    "if shuffle == '1':\n",
    "    random.shuffle(f_y_pheno)\n",
    "    f_y_pheno_obj = NormalPhenotype(f_y_pheno)\n",
    "else:\n",
    "    f_y_pheno_obj = NormalPhenotype(f_y_pheno)\n",
    "f_y_pheno_obj = NormalPhenotype(f_y_pheno)\n",
    "for i in range(upper_limit):\n",
    "    sm_X_matrix = f_X_matrix[:, 100*i:100*(i+1)]\n",
    "    G = sm_X_matrix[:, 1:].copy()\n",
    "#     print (f_X_matrix.shape, f_y_pheno.shape)\n",
    "\n",
    "    lrt = qtl.scan(f_y_pheno_obj, sm_X_matrix, G, progress=False)\n",
    "    p_values.extend(lrt.pvalues())\n",
    "    if i % 10 == 0:\n",
    "        print (i)\n",
    "\n",
    "pickle.dump(p_values, open('../data/processed/associations/266_lung_p_values_check_shuffle{}_filterlimit{}_check.py'.format(shuffle,filter_limit),'wb'))"
   ]
  },
  {
   "cell_type": "code",
   "execution_count": 78,
   "metadata": {
    "collapsed": false
   },
   "outputs": [
    {
     "data": {
      "image/png": "[encoded data removed]",
      "text/plain": [
       "<matplotlib.figure.Figure at 0x2ab90ca95048>"
      ]
     },
     "metadata": {},
     "output_type": "display_data"
    },
    {
     "data": {
      "text/plain": [
       "<matplotlib.text.Text at 0x2ab90a7257b8>"
      ]
     },
     "execution_count": 78,
     "metadata": {},
     "output_type": "execute_result"
    },
    {
     "data": {
      "image/png": "[encoded data removed]",
      "text/plain": [
       "<matplotlib.figure.Figure at 0x2ab90bbd6940>"
      ]
     },
     "metadata": {},
     "output_type": "display_data"
    }
   ],
   "source": [
    "\n",
    "import sys\n",
    "sys.path = ['/nfs/gns/homes/willj/anaconda3/envs/GTEx/lib/python3.5/site-packages'] + sys.path\n",
    "import pickle\n",
    "import math\n",
    "import numpy as np\n",
    "import matplotlib.pyplot as plt\n",
    "import random\n",
    "from scipy.stats import pearsonr\n",
    "%matplotlib inline\n",
    "\n",
    "real_pvalues = np.array(pickle.load(open('../data/processed/associations/266_lung_p_values_check_shuffle0_filterlimit1_check.py','rb')))\n",
    "shuffled_pvalues = np.array(pickle.load(open('../data/processed/associations/266_lung_p_values_check_shuffle1_filterlimit1_check.py','rb')))\n",
    "[X_matrix, y_pheno] = pickle.load(open('../data/processed/associations/lung_associations.py','rb'))\n",
    "\n",
    "f,a = plt.subplots(2,2, figsize=(12,8))\n",
    "f.suptitle(\"Histograms Real/Shuffled raw/log\")\n",
    "a[0][0].set_title(\"Histogram Real p-value\")\n",
    "a[0][0].hist([x for x in real_pvalues],bins=1000)\n",
    "a[0][1].set_title(\"Histogram Shuffled p-value\")\n",
    "a[0][1].hist([x for x in shuffled_pvalues],bins=1000)\n",
    "a[1][0].set_title(\"Histogram Read -log p-value\")\n",
    "a[1][0].hist([-math.log(x) for x in real_pvalues],bins=1000)\n",
    "a[1][1].set_title(\"Histogram Shuffled -log p-value\")\n",
    "a[1][1].hist([-math.log(x) for x in shuffled_pvalues],bins=1000)\n",
    "plt.show()\n",
    "\n",
    "sorted_real_indexes = np.argsort(real_pvalues)\n",
    "sorted_real_pvalues = real_pvalues[sorted_real_indexes]\n",
    "sorted_shuffled_indexes = np.argsort(shuffled_pvalues)\n",
    "sorted_shuffled_pvalues = shuffled_pvalues[sorted_shuffled_indexes]\n",
    "\n",
    "\n",
    "sample_real = sorted_real_pvalues\n",
    "expected_real = np.linspace(1/len(sorted_real_pvalues), 1, len(sorted_real_pvalues))\n",
    "sample_shuffle = sorted_shuffled_pvalues\n",
    "expected_shuffle = np.linspace(1/len(sorted_shuffled_pvalues), 1, len(sorted_shuffled_pvalues))\n",
    "# \n",
    "f,a = plt.subplots(1,2, figsize=(15,5))\n",
    "f.suptitle('-log QQ plots')\n",
    "a[0].scatter([-math.log(x) for x in expected_real], [-math.log(x) for x in sample_real], s=3)\n",
    "a[0].plot(np.linspace(0,12,100), np.linspace(0,12,100),c='red')\n",
    "a[0].set_title('Real')\n",
    "a[1].scatter([-math.log(x) for x in expected_shuffle], [-math.log(x) for x in sample_shuffle], s=3)\n",
    "a[1].plot(np.linspace(0,12,100), np.linspace(0,12,100),c='red')\n",
    "a[1].set_title('Shuffled')\n"
   ]
  }
 ],
 "metadata": {
  "anaconda-cloud": {},
  "kernelspec": {
   "display_name": "Python [default]",
   "language": "python",
   "name": "python3"
  },
  "language_info": {
   "codemirror_mode": {
    "name": "ipython",
    "version": 3
   },
   "file_extension": ".py",
   "mimetype": "text/x-python",
   "name": "python",
   "nbconvert_exporter": "python",
   "pygments_lexer": "ipython3",
   "version": "3.5.2"
  },
  "nav_menu": {},
  "toc": {
   "navigate_menu": true,
   "number_sections": true,
   "sideBar": true,
   "threshold": 6,
   "toc_cell": false,
   "toc_section_display": "block",
   "toc_window_display": false
  },
  "widgets": {
   "state": {},
   "version": "1.1.2"
  }
 },
 "nbformat": 4,
 "nbformat_minor": 1
}
