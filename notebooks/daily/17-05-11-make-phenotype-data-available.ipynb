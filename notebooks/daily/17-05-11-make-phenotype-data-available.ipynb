{
 "cells": [
  {
   "cell_type": "code",
   "execution_count": null,
   "metadata": {
    "collapsed": true
   },
   "outputs": [],
   "source": [
    "import gzip\n",
    "import pandas as pd\n",
    "import numpy as np\n",
    "import pickle\n",
    "\n",
    "GTEx_directory = '/hps/nobackup/research/stegle/users/willj/GTEx'\n",
    "\n",
    "def get_donor_IDs(IDlist):\n",
    "    return [str(x).split('-')[1] for x in IDlist]\n",
    "\n",
    "phenotype_filepath = '/nfs/research2/stegle/stegle_secure/GTEx/download/49139/PhenoGenotypeFiles/RootStudyConsentSet_phs000424.GTEx.v6.p1.c1.GRU/PhenotypeFiles/phs000424.v6.pht002743.v6.p1.c1.GTEx_Sample_Attributes.GRU.txt.gz'\n",
    "\n",
    "with gzip.open(phenotype_filepath, 'rb') as f:\n",
    "    phenotype_df = pd.DataFrame([str(x, 'utf-8').split('\\t') for x in f.read().splitlines() if not str(x, 'utf-8').startswith('#')][1:])\n",
    "    phenotype_df.columns = phenotype_df.iloc[0]\n",
    "    phenotype_df = phenotype_df[1:]\n",
    "    phenotype_IDs = ['-'.join(x.split('-')[0:3]) for x in list(phenotype_df['SAMPID']) if x.startswith('GTEX')]\n",
    "    donor_phenotype_IDs = get_donor_IDs(phenotype_IDs)\n",
    "    unique_donor_phenotype_IDs = np.unique(donor_phenotype_IDs)\n",
    "\n",
    "pickle.dump(phenotype_df, open(GTEx_directory + '/data/phenotype_pandas_dataframe.py','w'))"
   ]
  }
 ],
 "metadata": {
  "kernelspec": {
   "display_name": "Python 3",
   "language": "python",
   "name": "python3"
  },
  "language_info": {
   "codemirror_mode": {
    "name": "ipython",
    "version": 3
   },
   "file_extension": ".py",
   "mimetype": "text/x-python",
   "name": "python",
   "nbconvert_exporter": "python",
   "pygments_lexer": "ipython3",
   "version": "3.5.2"
  },
  "nav_menu": {},
  "toc": {
   "navigate_menu": true,
   "number_sections": true,
   "sideBar": true,
   "threshold": 6,
   "toc_cell": false,
   "toc_section_display": "block",
   "toc_window_display": false
  }
 },
 "nbformat": 4,
 "nbformat_minor": 2
}
