{
 "cells": [
  {
   "cell_type": "code",
   "execution_count": 1,
   "metadata": {
    "collapsed": true
   },
   "outputs": [],
   "source": [
    "import pdb\n",
    "import sys\n",
    "sys.path = ['/nfs/gns/homes/willj/anaconda3/envs/GTEx/lib/python3.5/site-packages'] + sys.path\n",
    "import pickle\n",
    "import math\n",
    "import numpy as np\n",
    "import matplotlib.pyplot as plt\n",
    "import random\n",
    "from scipy.stats import pearsonr\n",
    "from lim.genetics import qtl\n",
    "from lim.genetics.phenotype import NormalPhenotype\n",
    "import logging\n",
    "import argparse\n",
    "import os\n",
    "from pyensembl import EnsemblRelease\n",
    "lim_logging = logging.getLogger('lim')\n",
    "lim_logging.setLevel(logging.CRITICAL)\n",
    "import h5py\n",
    "GTEx_directory = '/hps/nobackup/research/stegle/users/willj/GTEx'\n",
    "\n",
    "parser = argparse.ArgumentParser(description='Generate assocation p-values for expression matrix X and image representation matrix y')\n",
    "# parser.add_argument('-f','--assoc_filepath', help='Path to X-y association data file', required=True)\n",
    "parser.add_argument('-l','--shuffle', help='Shuffle index', required=True)\n",
    "parser.add_argument('-a','--aggregation', help='Aggregation to use out of mean and median', required=True)\n",
    "parser.add_argument('-f','--feature', help='Image feature to use as the phenotype', required=True)\n",
    "parser.add_argument('-s','--size', help='Patch size to use', required=True)\n",
    "\n",
    "args = vars(parser.parse_args())\n",
    "shuffle = args['shuffle']\n",
    "aggregation = args['aggregation']\n",
    "feature = args['feature']\n",
    "size = args['size']\n",
    "\n",
    "# size = '128'\n",
    "# aggregation = 'median'\n",
    "# feature = 0\n",
    "# # shuffle = ['real','1','2','3','4','5']\n",
    "shuffle = ['real']\n",
    "with h5py.File(GTEx_directory + '/data/retrained_inceptionet_aggregations.hdf5') as f:\n",
    "    image_features = f['lung/{}/{}'.format(size, aggregation)].value\n",
    "    expression_matrix = f['lung/{}/{}'.format(size, 'expression')].value\n",
    "    \n",
    "    for sh in shuffle:\n",
    "        single_feature = image_features[:,feature].copy()\n",
    "\n",
    "        p_values = []\n",
    "        shuffled_idx = list(range(len(single_feature)))\n",
    "        if shuffle != 'real':\n",
    "            random.shuffle(shuffled_idx)\n",
    "            single_feature = single_feature[shuffled_idx]\n",
    "            single_feature = NormalPhenotype(single_feature)\n",
    "        else:\n",
    "            single_feature = NormalPhenotype(f_y_pheno)\n",
    "            \n",
    "        upper_limit = math.floor(expression_matrix.shape[1] / 100) + 1\n",
    "        print (upper_limit)\n",
    "        for i in range(upper_limit)[0:1]:\n",
    "            small_expression_matrix = expression_matrix[:, 100*i:100*(i+1)]\n",
    "            G = small_expression_matrix.copy()\n",
    "            lrt = qtl.scan(single_feature, small_expression_matrix, G, progress=False)\n",
    "            p_values.extend(lrt.pvalues())\n",
    "            if i % 1 == 0:\n",
    "                print ('{} transcripts completed'.format(100*(i+1)))\n",
    "            \n",
    "        pickle.dump(p_values, open(str(GTEx_directory + '/data/retrained_inception_associations/pvalues-{}-{}-{}-{}.py'.format(size,feature,aggregation,sh)),'wb'))\n",
    "        \n",
    "            \n",
    "            \n",
    "            \n"
   ]
  },
  {
   "cell_type": "code",
   "execution_count": 25,
   "metadata": {},
   "outputs": [
    {
     "data": {
      "text/plain": [
       "'/hps/nobackup/research/stegle/users/willj/GTEx/data/retrained_inception_associations/pvalues-128-0-median-real.py'"
      ]
     },
     "execution_count": 25,
     "metadata": {},
     "output_type": "execute_result"
    }
   ],
   "source": [
    "str(GTEx_directory + '/data/retrained_inception_associations/pvalues-{}-{}-{}-{}.py'.format(size,feature,aggregation,sh))"
   ]
  }
 ],
 "metadata": {
  "kernelspec": {
   "display_name": "Python 3",
   "language": "python",
   "name": "python3"
  },
  "language_info": {
   "codemirror_mode": {
    "name": "ipython",
    "version": 3
   },
   "file_extension": ".py",
   "mimetype": "text/x-python",
   "name": "python",
   "nbconvert_exporter": "python",
   "pygments_lexer": "ipython3",
   "version": "3.5.2"
  },
  "nav_menu": {},
  "toc": {
   "navigate_menu": true,
   "number_sections": true,
   "sideBar": true,
   "threshold": 6,
   "toc_cell": false,
   "toc_section_display": "block",
   "toc_window_display": false
  }
 },
 "nbformat": 4,
 "nbformat_minor": 2
}
