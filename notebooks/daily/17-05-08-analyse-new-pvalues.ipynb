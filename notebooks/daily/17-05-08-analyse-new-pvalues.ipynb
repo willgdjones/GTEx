{
 "cells": [
  {
   "cell_type": "code",
   "execution_count": 7,
   "metadata": {
    "collapsed": true
   },
   "outputs": [],
   "source": [
    "import h5py\n",
    "import numpy as np\n",
    "import matplotlib.pyplot as plt\n",
    "import os\n",
    "GTEx_directory = '/hps/nobackup/research/stegle/users/willj/GTEx'"
   ]
  },
  {
   "cell_type": "code",
   "execution_count": 50,
   "metadata": {},
   "outputs": [],
   "source": [
    "pvalues_directory = os.path.join(GTEx_directory, 'data','retrained_inception_pvalues.hdf5')\n",
    "features_directory = os.path.join(GTEx_directory, 'data','retrained_inceptionet_aggregations.hdf5')\n",
    "with h5py.File(pvalues_directory,'r') as f, h5py.File(features_directory,'r') as g:\n",
    "    pvalue_group = f['128']['0']['mean']\n",
    "    real_pvalues = pvalue_group['real']['pvalues'].value\n",
    "    shuffled_pvalues = pvalue_group['3']['pvalues'].value    \n",
    "    shuffled_idx = pvalue_group['1']['shuffled_idx'].value\n",
    "    feature_matrix = g['lung']['128']['mean'].value\n",
    "    expression_matrix = g['lung']['128']['expression'].value\n",
    "    transcript_IDs = g['lung']['128']['expression_IDs'].value\n"
   ]
  },
  {
   "cell_type": "code",
   "execution_count": 52,
   "metadata": {},
   "outputs": [
    {
     "data": {
      "text/plain": [
       "2.3752620154761141e-05"
      ]
     },
     "execution_count": 52,
     "metadata": {},
     "output_type": "execute_result"
    }
   ],
   "source": [
    "min(shuffled_pvalues)"
   ]
  },
  {
   "cell_type": "code",
   "execution_count": null,
   "metadata": {
    "collapsed": true
   },
   "outputs": [],
   "source": [
    "real_pvalues = np.array(pickle.load(open(GTEx_directory + '/data/processed/association_results/expression/inception_50_-1.h5/small/{}/mean/pvalues/component{}_sh0_fl0.py'.format(tissue,component),'rb'))[1])\n",
    "shuffled_data = pickle.load(open(GTEx_directory + '/data/processed/association_results/expression/inception_50_-1.h5/small/{}/mean/pvalues/component{}_sh1_fl0.py'.format(tissue,component),'rb'))\n",
    "shuffled_idx = np.array(shuffled_data[0])\n",
    "shuffled_pvalues = np.array(shuffled_data[1])\n",
    "[X_matrix, y_pheno] = pickle.load(open(GTEx_directory + '/data/processed/association_data/expression/inception_50_-1.h5/small/{}/X_y_mean'.format(tissue),'rb'))\n",
    "shuffled_y_pheno = y_pheno[shuffled_idx]\n",
    "\n",
    "if tissue == 'Artery - Tibial':\n",
    "    tissue_filename = 'Artery_Tibial'\n",
    "elif tissue == 'Heart - Left Ventricle':\n",
    "    tissue_filename = 'Heart_Left_Ventricle'\n",
    "elif tissue == 'Breast - Mammary Tissue':\n",
    "    tissue_filename = 'Breast_Mammary_Tissue'\n",
    "elif tissue == 'Brain - Cerebellum':\n",
    "    tissue_filename = 'Brain_Cerebellum'\n",
    "else:\n",
    "    tissue_filename = tissue\n",
    "\n",
    "sorted_real_pvalues_idx = np.argsort(real_pvalues)\n",
    "sorted_shuffled_pvalues_idx = np.argsort(shuffled_pvalues)\n",
    "\n",
    "tissue_expression_filepath = '/nfs/research2/stegle/stegle_secure/GTEx/download/49139/PhenoGenotypeFiles/RootStudyConsentSet_phs000424.GTEx.v6.p1.c1.GRU/ExpressionFiles/phe000006.v2.GTEx_RNAseq.expression-data-matrixfmt.c1/parse_data/44_tissues/GTEx_Data_20150112_RNAseq_RNASeQCv1.1.8_gene_rpkm_{}_normalised_without_inverse_gene_expression.txt'.format(tissue_filename)\n",
    "with open(tissue_expression_filepath, 'r') as f:\n",
    "    expression_table = np.array([x.split('\\t') for x in f.read().splitlines()])\n",
    "\n",
    "transcript_IDs = [x.split('.')[0] for x in expression_table[:,0][1:]]"
   ]
  }
 ],
 "metadata": {
  "kernelspec": {
   "display_name": "Python 3",
   "language": "python",
   "name": "python3"
  },
  "language_info": {
   "codemirror_mode": {
    "name": "ipython",
    "version": 3
   },
   "file_extension": ".py",
   "mimetype": "text/x-python",
   "name": "python",
   "nbconvert_exporter": "python",
   "pygments_lexer": "ipython3",
   "version": "3.5.2"
  },
  "nav_menu": {},
  "toc": {
   "navigate_menu": true,
   "number_sections": true,
   "sideBar": true,
   "threshold": 6,
   "toc_cell": false,
   "toc_section_display": "block",
   "toc_window_display": false
  }
 },
 "nbformat": 4,
 "nbformat_minor": 2
}
