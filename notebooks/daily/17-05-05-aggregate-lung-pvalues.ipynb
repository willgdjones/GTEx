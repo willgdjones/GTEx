{
 "cells": [
  {
   "cell_type": "code",
   "execution_count": 2,
   "metadata": {
    "collapsed": true
   },
   "outputs": [],
   "source": [
    "import sys\n",
    "import os\n",
    "import numpy as np\n",
    "import h5py\n",
    "import pdb\n",
    "from scipy.misc import imresize\n",
    "import matplotlib.pyplot as plt\n",
    "%matplotlib inline\n",
    "GTEx_directory = '/hps/nobackup/research/stegle/users/willj/GTEx'"
   ]
  },
  {
   "cell_type": "code",
   "execution_count": null,
   "metadata": {
    "collapsed": true
   },
   "outputs": [],
   "source": [
    "import pickle"
   ]
  },
  {
   "cell_type": "code",
   "execution_count": null,
   "metadata": {},
   "outputs": [
    {
     "name": "stdout",
     "output_type": "stream",
     "text": [
      "128\n",
      "0\n",
      "100\n",
      "200\n",
      "300\n",
      "400\n",
      "500\n",
      "600\n",
      "700\n",
      "800\n",
      "900\n",
      "1000\n",
      "256\n",
      "0\n",
      "100\n",
      "200\n",
      "300\n",
      "400\n",
      "500\n",
      "600\n",
      "700\n",
      "800\n",
      "900\n",
      "1000\n",
      "512\n",
      "0\n",
      "100\n",
      "200\n",
      "300\n",
      "400\n",
      "500\n",
      "600\n",
      "700\n",
      "800\n",
      "900\n",
      "1000\n",
      "1024\n",
      "0\n",
      "100\n"
     ]
    }
   ],
   "source": [
    "features = range(1024)\n",
    "aggregations = ['mean','median']\n",
    "shuffles = ['real','1','2','3','4','5']\n",
    "sizes = ['128','256','512','1024','2048']\n",
    "\n",
    "pvalues_directory = GTEx_directory + '/data/retrained_inception_associations/'\n",
    "#size, feature aggreation shuffle\n",
    "\n",
    "with h5py.File(GTEx_directory + '/data/retrained_inception_pvalues.hdf5','w') as g:\n",
    "    for s in sizes:\n",
    "        print (s)\n",
    "        for f in features:\n",
    "            if f % 100 == 0:\n",
    "                print (f)\n",
    "            for a in aggregations:\n",
    "                for sh in shuffles:\n",
    "                    group = g.create_group('/{}/{}/{}/{}'.format(s,f,a,sh))\n",
    "                    pvalue_data = pickle.load(open(pvalues_directory + 'pvalues-{}-{}-{}-{}.py'.format(s,f,a,sh),'rb'))\n",
    "                    shuffle_idx = pvalue_data[0]\n",
    "                    pvalues = pvalue_data[1]\n",
    "                    group.create_dataset('pvalues',data=pvalues)\n",
    "                    group.create_dataset('shuffled_idx',data=shuffle_idx)\n",
    "\n",
    "\n"
   ]
  },
  {
   "cell_type": "code",
   "execution_count": 13,
   "metadata": {
    "collapsed": true
   },
   "outputs": [],
   "source": [
    "pvalues = pickle.load(open(pvalues_directory + 'pvalues-{}-{}-{}-{}.py'.format(s,f,a,sh),'rb'))"
   ]
  },
  {
   "cell_type": "code",
   "execution_count": 25,
   "metadata": {},
   "outputs": [
    {
     "data": {
      "text/plain": [
       "28683"
      ]
     },
     "execution_count": 25,
     "metadata": {},
     "output_type": "execute_result"
    }
   ],
   "source": [
    "len(pvalues[1])"
   ]
  }
 ],
 "metadata": {
  "kernelspec": {
   "display_name": "Python 3",
   "language": "python",
   "name": "python3"
  },
  "language_info": {
   "codemirror_mode": {
    "name": "ipython",
    "version": 3
   },
   "file_extension": ".py",
   "mimetype": "text/x-python",
   "name": "python",
   "nbconvert_exporter": "python",
   "pygments_lexer": "ipython3",
   "version": "3.5.2"
  },
  "nav_menu": {},
  "toc": {
   "navigate_menu": true,
   "number_sections": true,
   "sideBar": true,
   "threshold": 6,
   "toc_cell": false,
   "toc_section_display": "block",
   "toc_window_display": false
  }
 },
 "nbformat": 4,
 "nbformat_minor": 2
}
