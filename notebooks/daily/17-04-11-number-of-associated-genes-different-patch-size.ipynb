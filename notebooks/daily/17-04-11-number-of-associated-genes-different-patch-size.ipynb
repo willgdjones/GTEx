{
 "cells": [
  {
   "cell_type": "code",
   "execution_count": 3,
   "metadata": {
    "collapsed": true
   },
   "outputs": [],
   "source": [
    "import sys\n",
    "sys.path = ['/nfs/gns/homes/willj/anaconda3/envs/GTEx/lib/python3.5/site-packages'] + sys.path\n",
    "# sys.path = ['/hps/nobackup/research/stegle/users/willj/GTEx/deps/qvalue/qvalue'] + sys.path\n",
    "import pickle\n",
    "import math\n",
    "import numpy as np\n",
    "import matplotlib.pyplot as plt\n",
    "import random\n",
    "from scipy.stats import pearsonr\n",
    "import os\n",
    "%matplotlib inline\n",
    "import qvalue"
   ]
  },
  {
   "cell_type": "code",
   "execution_count": 4,
   "metadata": {
    "collapsed": true
   },
   "outputs": [],
   "source": [
    "from statsmodels.sandbox.stats.multicomp import multipletests"
   ]
  },
  {
   "cell_type": "code",
   "execution_count": 5,
   "metadata": {
    "collapsed": true
   },
   "outputs": [],
   "source": [
    "GTEx_directory = '/hps/nobackup/research/stegle/users/willj/GTEx'"
   ]
  },
  {
   "cell_type": "code",
   "execution_count": 15,
   "metadata": {
    "collapsed": true
   },
   "outputs": [],
   "source": [
    "from pyensembl import EnsemblRelease"
   ]
  },
  {
   "cell_type": "code",
   "execution_count": 16,
   "metadata": {
    "collapsed": false
   },
   "outputs": [
    {
     "name": "stdout",
     "output_type": "stream",
     "text": [
      "0\n",
      "1000\n",
      "2000\n",
      "3000\n",
      "4000\n",
      "5000\n",
      "6000\n",
      "7000\n",
      "8000\n",
      "9000\n",
      "10000\n",
      "11000\n",
      "12000\n",
      "13000\n",
      "14000\n",
      "15000\n",
      "16000\n",
      "17000\n",
      "18000\n",
      "19000\n",
      "20000\n",
      "21000\n",
      "22000\n",
      "23000\n",
      "24000\n",
      "25000\n",
      "26000\n",
      "27000\n",
      "28000\n"
     ]
    }
   ],
   "source": [
    "tissue = 'Lung'\n",
    "if tissue == 'Artery - Tibial':\n",
    "    tissue_filename = 'Artery_Tibial'\n",
    "elif tissue == 'Heart - Left Ventricle':\n",
    "    tissue_filename = 'Heart_Left_Ventricle'\n",
    "elif tissue == 'Breast - Mammary Tissue':\n",
    "    tissue_filename = 'Breast_Mammary_Tissue'\n",
    "elif tissue == 'Brain - Cerebellum':\n",
    "    tissue_filename = 'Brain_Cerebellum'\n",
    "else:\n",
    "    tissue_filename = tissue\n",
    "\n",
    "tissue_expression_filepath = '/nfs/research2/stegle/stegle_secure/GTEx/download/49139/PhenoGenotypeFiles/RootStudyConsentSet_phs000424.GTEx.v6.p1.c1.GRU/ExpressionFiles/phe000006.v2.GTEx_RNAseq.expression-data-matrixfmt.c1/parse_data/44_tissues/GTEx_Data_20150112_RNAseq_RNASeQCv1.1.8_gene_rpkm_{}_normalised_without_inverse_gene_expression.txt'.format(tissue_filename)\n",
    "\n",
    "with open(tissue_expression_filepath, 'r') as f:\n",
    "    expression_table = np.array([x.split('\\t') for x in f.read().splitlines()])\n",
    "transcript_IDs = [x.split('.')[0] for x in expression_table[:,0][1:]]\n",
    "data = EnsemblRelease(77)\n",
    "\n",
    "\n",
    "gene_functions = []\n",
    "for (i,ID) in enumerate(transcript_IDs):\n",
    "    try:\n",
    "        gene_functions.append(data.gene_by_id(ID).biotype)\n",
    "    except ValueError:\n",
    "        gene_functions.append('NA')\n",
    "    if i % 1000 == 0:\n",
    "        print (i)\n",
    "\n",
    "protein_coding_IDs = np.array(transcript_IDs)[np.array(gene_functions) == 'protein_coding']\n",
    "protein_coding_indexes = np.array([transcript_IDs.index(x) for x in protein_coding_IDs])"
   ]
  },
  {
   "cell_type": "code",
   "execution_count": 58,
   "metadata": {
    "collapsed": false,
    "scrolled": false
   },
   "outputs": [
    {
     "name": "stdout",
     "output_type": "stream",
     "text": [
      "small\n",
      "mean\n",
      "0\n",
      "50\n",
      "100\n",
      "150\n",
      "200\n",
      "250\n",
      "300\n",
      "350\n",
      "400\n",
      "450\n",
      "500\n",
      "550\n",
      "600\n",
      "650\n",
      "700\n",
      "750\n",
      "800\n",
      "850\n",
      "900\n",
      "950\n",
      "1000\n",
      "medium\n",
      "mean\n",
      "0\n",
      "50\n",
      "100\n",
      "150\n",
      "200\n",
      "250\n",
      "300\n",
      "350\n",
      "400\n",
      "450\n",
      "500\n",
      "550\n",
      "600\n",
      "650\n",
      "700\n",
      "750\n",
      "800\n",
      "850\n",
      "900\n",
      "950\n",
      "1000\n",
      "large\n",
      "mean\n",
      "0\n",
      "50\n",
      "100\n",
      "150\n",
      "200\n",
      "250\n",
      "300\n",
      "350\n",
      "400\n",
      "450\n",
      "500\n",
      "550\n",
      "600\n",
      "650\n",
      "700\n",
      "750\n",
      "800\n",
      "850\n",
      "900\n",
      "950\n",
      "1000\n"
     ]
    }
   ],
   "source": [
    "tissue = 'Lung'\n",
    "results = {}\n",
    "results['large'] = {}\n",
    "results['medium'] = {}\n",
    "results['small'] = {}\n",
    "for size in ['small','medium','large']:\n",
    "    print (size)\n",
    "    for aggregation in ['mean']:\n",
    "        print (aggregation)\n",
    "        all_real_pvalues = []\n",
    "        for c in range(1024):\n",
    "            if c%50 == 0:\n",
    "                print (c)\n",
    "            real_pvalues = np.array(pickle.load(open(GTEx_directory + '/data/processed/association_results/expression/inception_50_-1.h5/{}/{}/{}/pvalues/component{}_sh0_fl0.py'.format(size,tissue,aggregation,c),'rb'))[1])\n",
    "            shuffled_pvalues = np.array(shuffled_data[1])\n",
    "\n",
    "            all_real_pvalues.append(real_pvalues)\n",
    "            results[size][aggregation] = {}\n",
    "            results[size][aggregation]['real'] = real_pvalues\n",
    "            results[size][aggregation]['shuffled'] = shuffled_pvalues"
   ]
  },
  {
   "cell_type": "code",
   "execution_count": 59,
   "metadata": {
    "collapsed": false,
    "scrolled": true
   },
   "outputs": [
    {
     "data": {
      "text/plain": [
       "5.9445042314008272e-06"
      ]
     },
     "execution_count": 59,
     "metadata": {},
     "output_type": "execute_result"
    }
   ],
   "source": [
    "min(results['large']['mean']['real'])"
   ]
  },
  {
   "cell_type": "markdown",
   "metadata": {},
   "source": [
    "# Real "
   ]
  },
  {
   "cell_type": "markdown",
   "metadata": {},
   "source": [
    "## FDR 0.05"
   ]
  },
  {
   "cell_type": "code",
   "execution_count": 60,
   "metadata": {
    "collapsed": false
   },
   "outputs": [
    {
     "name": "stdout",
     "output_type": "stream",
     "text": [
      "0\n",
      "19\n",
      "0\n"
     ]
    }
   ],
   "source": [
    "\n",
    "print (sum(multipletests(results['small']['mean']['real'], method='fdr_bh')[0]))\n",
    "print (sum(multipletests(results['medium']['mean']['real'], method='fdr_bh')[0]))\n",
    "print (sum(multipletests(results['large']['mean']['real'], method='fdr_bh')[0]))"
   ]
  },
  {
   "cell_type": "code",
   "execution_count": null,
   "metadata": {
    "collapsed": true
   },
   "outputs": [],
   "source": []
  },
  {
   "cell_type": "markdown",
   "metadata": {},
   "source": [
    "## FDR 0.01"
   ]
  },
  {
   "cell_type": "code",
   "execution_count": 29,
   "metadata": {
    "collapsed": false
   },
   "outputs": [
    {
     "name": "stdout",
     "output_type": "stream",
     "text": [
      "203\n",
      "4236\n",
      "2363\n"
     ]
    }
   ],
   "source": [
    "\n",
    "print (sum(multipletests(np.array(all_real_pvalues_small).flatten(), method='fdr_bh',alpha=0.01)[0]))\n",
    "print (sum(multipletests(np.array(all_real_pvalues_medium).flatten(), method='fdr_bh',alpha=0.01)[0]))\n",
    "print (sum(multipletests(np.array(all_real_pvalues_large).flatten(), method='fdr_bh',alpha=0.01)[0]))"
   ]
  },
  {
   "cell_type": "markdown",
   "metadata": {},
   "source": [
    "# Shuffled"
   ]
  },
  {
   "cell_type": "code",
   "execution_count": 33,
   "metadata": {
    "collapsed": false
   },
   "outputs": [
    {
     "name": "stdout",
     "output_type": "stream",
     "text": [
      "641\n",
      "3757\n",
      "8003\n"
     ]
    }
   ],
   "source": [
    "print (sum(multipletests(np.array(all_shuffled_pvalues_small).flatten(), method='fdr_bh')[0]))\n",
    "print (sum(multipletests(np.array(all_shuffled_pvalues_medium).flatten(), method='fdr_bh')[0]))\n",
    "print (sum(multipletests(np.array(all_shuffled_pvalues_large).flatten(), method='fdr_bh')[0]))"
   ]
  },
  {
   "cell_type": "code",
   "execution_count": 34,
   "metadata": {
    "collapsed": false
   },
   "outputs": [
    {
     "name": "stdout",
     "output_type": "stream",
     "text": [
      "273\n",
      "1990\n",
      "2677\n"
     ]
    }
   ],
   "source": [
    "print (sum(multipletests(np.array(all_shuffled_pvalues_small).flatten(), method='fdr_bh', alpha=0.01)[0]))\n",
    "print (sum(multipletests(np.array(all_shuffled_pvalues_medium).flatten(), method='fdr_bh', alpha=0.01)[0]))\n",
    "print (sum(multipletests(np.array(all_shuffled_pvalues_large).flatten(), method='fdr_bh', alpha=0.01)[0]))"
   ]
  }
 ],
 "metadata": {
  "anaconda-cloud": {},
  "kernelspec": {
   "display_name": "Python [default]",
   "language": "python",
   "name": "python3"
  },
  "language_info": {
   "codemirror_mode": {
    "name": "ipython",
    "version": 3
   },
   "file_extension": ".py",
   "mimetype": "text/x-python",
   "name": "python",
   "nbconvert_exporter": "python",
   "pygments_lexer": "ipython3",
   "version": "3.5.2"
  },
  "nav_menu": {},
  "toc": {
   "navigate_menu": true,
   "number_sections": true,
   "sideBar": true,
   "threshold": 6,
   "toc_cell": false,
   "toc_section_display": "block",
   "toc_window_display": false
  },
  "widgets": {
   "state": {},
   "version": "1.1.2"
  }
 },
 "nbformat": 4,
 "nbformat_minor": 1
}
