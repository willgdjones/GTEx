{
 "cells": [
  {
   "cell_type": "code",
   "execution_count": 2,
   "metadata": {
    "collapsed": true
   },
   "outputs": [],
   "source": [
    "import sys\n",
    "sys.path = ['/nfs/gns/homes/willj/anaconda3/envs/GTEx/lib/python3.5/site-packages'] + sys.path\n",
    "import gzip\n",
    "import pandas as pd\n",
    "import numpy as np"
   ]
  },
  {
   "cell_type": "code",
   "execution_count": 16,
   "metadata": {
    "collapsed": false
   },
   "outputs": [],
   "source": [
    "with gzip.open('../../textfiles/Homo_sapiens.GRCh38.88.gtf.gz') as f:\n",
    "    x = f.read().decode('utf-8')"
   ]
  },
  {
   "cell_type": "code",
   "execution_count": 58,
   "metadata": {
    "collapsed": false
   },
   "outputs": [],
   "source": [
    "z = [y.split('\\t') for y in x.split('\\n')[5:-1]]"
   ]
  },
  {
   "cell_type": "code",
   "execution_count": 61,
   "metadata": {
    "collapsed": false
   },
   "outputs": [],
   "source": [
    "z = [y for y in z if y[2] == 'transcript']"
   ]
  },
  {
   "cell_type": "code",
   "execution_count": 68,
   "metadata": {
    "collapsed": true
   },
   "outputs": [],
   "source": [
    "example_transcript = ENSG00000223972"
   ]
  },
  {
   "cell_type": "code",
   "execution_count": 7,
   "metadata": {
    "collapsed": true
   },
   "outputs": [],
   "source": [
    "tissue = 'Lung'\n",
    "\n",
    "if tissue == 'Artery - Tibial':\n",
    "    tissue_filename = 'Artery_Tibial'\n",
    "elif tissue == 'Heart - Left Ventricle':\n",
    "    tissue_filename = 'Heart_Left_Ventricle'\n",
    "elif tissue == 'Breast - Mammary Tissue':\n",
    "    tissue_filename = 'Breast_Mammary_Tissue'\n",
    "elif tissue == 'Brain - Cerebellum':\n",
    "    tissue_filename = 'Brain_Cerebellum'\n",
    "else:\n",
    "    tissue_filename = tissue\n",
    "\n",
    "tissue_expression_filepath = '/nfs/research2/stegle/stegle_secure/GTEx/download/49139/PhenoGenotypeFiles/RootStudyConsentSet_phs000424.GTEx.v6.p1.c1.GRU/ExpressionFiles/phe000006.v2.GTEx_RNAseq.expression-data-matrixfmt.c1/parse_data/44_tissues/GTEx_Data_20150112_RNAseq_RNASeQCv1.1.8_gene_rpkm_{}_normalised_without_inverse_gene_expression.txt'.format(tissue_filename)"
   ]
  },
  {
   "cell_type": "code",
   "execution_count": 8,
   "metadata": {
    "collapsed": true
   },
   "outputs": [],
   "source": [
    "\n",
    "with open(tissue_expression_filepath, 'r') as f:\n",
    "    expression_table = np.array([x.split('\\t') for x in f.read().splitlines()])"
   ]
  },
  {
   "cell_type": "code",
   "execution_count": 61,
   "metadata": {
    "collapsed": false
   },
   "outputs": [],
   "source": []
  },
  {
   "cell_type": "markdown",
   "metadata": {},
   "source": [
    "I think it is difficult to extract this information from the faw gtf files. I will try to do so by using the ensembl API."
   ]
  },
  {
   "cell_type": "code",
   "execution_count": 62,
   "metadata": {
    "collapsed": false
   },
   "outputs": [],
   "source": [
    "from pyensembl import EnsemblRelease\n",
    "\n",
    "# release 77 uses human reference genome GRCh38\n",
    "data = EnsemblRelease(77)\n",
    "\n",
    "transcript_IDs = [x.split('.')[0] for x in expression_table[:,0][1:]]\n",
    "gene_functions = []\n",
    "for (i,ID) in enumerate(transcript_IDs):\n",
    "    try:\n",
    "        gene_functions.append(data.gene_by_id(ID).biotype)\n",
    "    except ValueError:\n",
    "        gene_functions.append('NA')\n",
    "        \n",
    "protein_coding_IDs = np.array(transcript_IDs)[np.array(gene_functions) == 'protein_coding']\n",
    "protein_coding_indexes = np.array([transcript_IDs.index(x) for x in protein_coding_IDs])"
   ]
  },
  {
   "cell_type": "code",
   "execution_count": 46,
   "metadata": {
    "collapsed": false
   },
   "outputs": [],
   "source": []
  },
  {
   "cell_type": "code",
   "execution_count": 54,
   "metadata": {
    "collapsed": false,
    "scrolled": true
   },
   "outputs": [],
   "source": [
    "pickle.dump(protein_coding_IDs, open('../../textfiles/lung_protein_coding_genes.py','wb'))"
   ]
  },
  {
   "cell_type": "code",
   "execution_count": 58,
   "metadata": {
    "collapsed": false
   },
   "outputs": [],
   "source": [
    "protein_coding_indexes = np.array([lung_transcripts.index(x) for x in protein_coding_IDs])"
   ]
  },
  {
   "cell_type": "code",
   "execution_count": 59,
   "metadata": {
    "collapsed": true
   },
   "outputs": [],
   "source": [
    "pickle.dump(protein_coding_indexes, open('../../textfiles/lung_protein_coding_indexes.py','wb'))"
   ]
  }
 ],
 "metadata": {
  "anaconda-cloud": {},
  "kernelspec": {
   "display_name": "Python [default]",
   "language": "python",
   "name": "python3"
  },
  "language_info": {
   "codemirror_mode": {
    "name": "ipython",
    "version": 3
   },
   "file_extension": ".py",
   "mimetype": "text/x-python",
   "name": "python",
   "nbconvert_exporter": "python",
   "pygments_lexer": "ipython3",
   "version": "3.5.2"
  },
  "nav_menu": {},
  "toc": {
   "navigate_menu": true,
   "number_sections": true,
   "sideBar": true,
   "threshold": 6,
   "toc_cell": false,
   "toc_section_display": "block",
   "toc_window_display": false
  },
  "widgets": {
   "state": {},
   "version": "1.1.2"
  }
 },
 "nbformat": 4,
 "nbformat_minor": 1
}
