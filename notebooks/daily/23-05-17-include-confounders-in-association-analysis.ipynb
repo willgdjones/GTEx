{
 "cells": [
  {
   "cell_type": "markdown",
   "metadata": {},
   "source": [
    "# Including confounders in association studies"
   ]
  },
  {
   "cell_type": "markdown",
   "metadata": {},
   "source": [
    "It is known that technical factors influence gene expression. For example, time between death and tissue harvesting is strongly associated to the expression of specific genes.\n",
    "\n",
    "We have generated image features from the final layer of a neural network (Inceptionetv3) retrained to differentiate between tissue types. Interestingly, certain features are strongly correlated with technical variation, suggesting that this technical variation manifests in the images. The transcripts that are known to be associated with these technical factors, then have a relationship to these image features.\n",
    "\n",
    "Are these image features associated with variation that is not purely technical? We use linear mixed models (LMMs) to answer this question. The goal is to account for known technical variation in the model, and only report unaccounted associations that are more likely to be biologically interesting."
   ]
  },
  {
   "cell_type": "markdown",
   "metadata": {},
   "source": [
    "One result of having technical factors causing so many associations is that it means that the resulting p-values are **highly inflated**. This means that we see far more significant pvalues than we expect to. For example, take the raw associations between the top 100 varying image features and the 100 most highly expressed genes along with the 100 most highly expressed transcripts. We show a QQ plot, which is a graph comparing the expected number of highly associated genes to the number of strong associations we expect to see by chance."
   ]
  },
  {
   "cell_type": "code",
   "execution_count": 35,
   "metadata": {
    "collapsed": false
   },
   "outputs": [
    {
     "name": "stderr",
     "output_type": "stream",
     "text": [
      "/nfs/gns/homes/willj/anaconda3/envs/GTEx/lib/python3.5/site-packages/numpy/lib/scimath.py:120: RuntimeWarning: invalid value encountered in less\n",
      "  if any(isreal(x) & (x < 0)):\n"
     ]
    },
    {
     "data": {
      "text/plain": [
       "<matplotlib.axes._subplots.AxesSubplot at 0x2b050bb1dcc0>"
      ]
     },
     "execution_count": 35,
     "metadata": {},
     "output_type": "execute_result"
    },
    {
     "data": {
      "image/png": "[encoded data removed]",
      "text/plain": [
       "<matplotlib.figure.Figure at 0x2b050ba52a58>"
      ]
     },
     "metadata": {},
     "output_type": "display_data"
    }
   ],
   "source": [
    "from limix.plot import qqplot\n",
    "most_expressed_transcript_idx, most_varying_feature_idx, results = pickle.load(open(GTEx_directory + '/data/intermediate/retrained_quick_pvalues.py','rb'))\n",
    "pvalues = results['mean_256_pvalues'].flatten()\n",
    "qqplot(pvalues,alphaLevel=0.05)"
   ]
  },
  {
   "cell_type": "markdown",
   "metadata": {},
   "source": [
    "We see many more strongly associated -log10 p-values than we expect.\n",
    "\n",
    "We can quantify the level of inflation by looking at the $\\lambda$ statistic. The lambda distribution looks at the distribution of the test statistic before they are converted into p-values. The $\\lambda$ value is defined as the median of the test-statistics, which are $\\chi^2$, divided by the median of the $\\chi^2$ distribution with one degree of freedom, which is 0.454. This value is also implemented in limix as shown below."
   ]
  },
  {
   "cell_type": "markdown",
   "metadata": {},
   "source": [
    "We can also see how these pvalues stack in a histogram."
   ]
  },
  {
   "cell_type": "code",
   "execution_count": 40,
   "metadata": {
    "collapsed": false
   },
   "outputs": [
    {
     "data": {
      "image/png": "[encoded data removed]",
      "text/plain": [
       "<matplotlib.figure.Figure at 0x2b050bf85c88>"
      ]
     },
     "metadata": {},
     "output_type": "display_data"
    }
   ],
   "source": [
    "plt.hist(pvalues,bins=100)\n",
    "plt.show()"
   ]
  },
  {
   "cell_type": "code",
   "execution_count": 17,
   "metadata": {
    "collapsed": true
   },
   "outputs": [],
   "source": [
    "import scipy.stats as st\n",
    "import scipy as sp\n",
    "def estimate_lambda(pv):\n",
    "    \"\"\"estimate lambda form a set of PV\"\"\"\n",
    "    LOD2 = sp.median(st.chi2.isf(pv, 1))\n",
    "    L = (LOD2 / 0.456)\n",
    "    return (L)"
   ]
  },
  {
   "cell_type": "code",
   "execution_count": 50,
   "metadata": {
    "collapsed": false
   },
   "outputs": [
    {
     "data": {
      "text/plain": [
       "5.0589366899190527"
      ]
     },
     "execution_count": 50,
     "metadata": {},
     "output_type": "execute_result"
    }
   ],
   "source": [
    "estimate_lambda(pvalues)"
   ]
  },
  {
   "cell_type": "markdown",
   "metadata": {},
   "source": [
    "We see an extremely high value of $\\lambda$ for these p-values. Trustworthy sets of p-values are generally close to 1. We would like to correct for this and achieve fewer globally associated p-values."
   ]
  },
  {
   "cell_type": "markdown",
   "metadata": {},
   "source": [
    "## Linear mixed models"
   ]
  },
  {
   "cell_type": "markdown",
   "metadata": {},
   "source": [
    "Linear mixed models account for known variation in linear models. They do this by quantifying the variation caused by **fixed effects** and **random effects** with respect to $i$ subjects.\n",
    "\n",
    "$$ Y_i = X_i \\beta + Z_iu_i + \\epsilon_i $$\n",
    "\n",
    "In our case, we have only one subject. Therefore $i = 1$\n",
    "\n",
    "$$ Y = X \\beta + Zu + \\epsilon $$\n",
    "\n",
    "$$u \\sim N(0,D), \\ \\ \\ \\epsilon \\sim N(0,R) $$\n",
    "\n",
    "The $X\\beta$ corresponds to the fixed effect, and the $Zu + \\epsilon$ corresponds to the random effect. $Y$ here represents our dependent phenotype.\n",
    "\n",
    "In our specific case, we want to quantify the variation of our image features outside of known technical factors. As such, we treat these factors as **fixed effects**. Fixed-effects are commonly used to capture the effect of being in a group, whereas random effect capture the effect of repeated trials from a single individual. Right now, we do not have any repeated measures, so we do not include random effects.\n",
    "\n",
    "Our models do not include \n",
    "\n",
    "LMM are already included in limix - a package developed by the Stegle group at the EBI which implements well known models from statistical genetics. Specifically, it is included as `limix.qtl.qtl_test_lmm`. This function takes in as parameters the snps matrix and phenotype vector, as well as optional parameters specifying the covariance structure of the data that we want to include as fixed effects. In our data, we have a matrix of gene expression values, but this can be inputted into limix without a problem. "
   ]
  },
  {
   "cell_type": "markdown",
   "metadata": {},
   "source": [
    "## Plan"
   ]
  },
  {
   "cell_type": "markdown",
   "metadata": {},
   "source": [
    "We want to choose the best way to account for this technical variation. How do we do this? First we choose two methods:\n",
    "- Include our 4 known technical factors as fixed effects.\n",
    "- Include the first 5 PCs as fixed effects.\n",
    "\n",
    "How do we decide which is the best method? We'll do this by measuring the inflation parameter $\\lambda$. This parameter is defined as the median of of the distribution of the raw test statistics, and the median of a $\\chi^2$ distribution with 1 degree of freedom. The closer this number is to 1, the more technical variation has been removed from the model."
   ]
  },
  {
   "cell_type": "markdown",
   "metadata": {},
   "source": [
    "## Specifying the technical covariates"
   ]
  },
  {
   "cell_type": "markdown",
   "metadata": {},
   "source": [
    "To specify the technical covariates, we mine the phenotype data."
   ]
  },
  {
   "cell_type": "code",
   "execution_count": 35,
   "metadata": {
    "collapsed": false
   },
   "outputs": [],
   "source": [
    "import pickle\n",
    "import pandas as pd\n",
    "import gzip\n",
    "phenotype_filepath = '/nfs/research2/stegle/stegle_secure/GTEx/download/49139/PhenoGenotypeFiles/RootStudyConsentSet_phs000424.GTEx.v6.p1.c1.GRU/PhenotypeFiles/phs000424.v6.pht002743.v6.p1.c1.GTEx_Sample_Attributes.GRU.txt.gz'\n",
    "with gzip.open(phenotype_filepath, 'rb') as f:\n",
    "    phenotype_array = [str(x, 'utf-8').split('\\t') for x in f.read().splitlines() if not str(x, 'utf-8').startswith('#')][1:]\n",
    "    phenotype_df = pd.DataFrame(phenotype_array)\n",
    "    phenotype_df.columns = phenotype_df.iloc[0]\n",
    "    phenotype_df = phenotype_df[1:]\n",
    "\n",
    "# import pandas as pd\n",
    "# df = pickle.load(open(GTEx_directory + '/data/phenotype_pandas_dataframe.py','rb'))\n",
    "\n",
    "lung_df = phenotype_df[phenotype_df['SMTSD'] == 'Lung']\n",
    "phenotype_idx = [[x.split('-')[1] for x in lung_df['SAMPID']].index(ID) for ID in [x.decode('utf-8').split('-')[1] for x in donor_IDs]]\n",
    "\n",
    "SMTSISCH = np.log(np.array(lung_df['SMTSISCH']).astype(np.float32))\n",
    "SMTSISCH = SMTSISCH[phenotype_idx]\n",
    "SMRIN = np.array([float(x) if x != '' else 0 for x in np.array(lung_df['SMRIN']) ])\n",
    "SMRIN = SMRIN[phenotype_idx]\n",
    "SMEXNCRT = np.array([float(x) if x != '' else 0 for x in np.array(lung_df['SMEXNCRT']) ])\n",
    "SMEXNCRT = SMEXNCRT[phenotype_idx]\n",
    "SMNTRNRT = np.array([float(x) if x != '' else 0 for x in np.array(lung_df['SMNTRNRT']) ])\n",
    "SMNTRNRT = SMNTRNRT[phenotype_idx]\n",
    "raw_technical_covariates = np.array([SMTSISCH,SMRIN,SMEXNCRT,SMNTRNRT]).T"
   ]
  },
  {
   "cell_type": "markdown",
   "metadata": {},
   "source": [
    "These acronyms, SMTSISCH, SMRIN, SMEXNCRT, and SMNTRNRT mean:\n",
    "- Time between tissue death and harvesting\n",
    "- RIN number (RNA degradation)\n",
    "- Exon mapping number\n",
    "- Intro mapping number\n",
    "\n",
    "Respectively. They can directly be added into lmm as covariates."
   ]
  },
  {
   "cell_type": "markdown",
   "metadata": {},
   "source": [
    "Now we load in all the precomputed features"
   ]
  },
  {
   "cell_type": "code",
   "execution_count": 1,
   "metadata": {
    "collapsed": true
   },
   "outputs": [],
   "source": [
    "import os\n",
    "import sys\n",
    "sys.path = ['/nfs/gns/homes/willj/anaconda3/envs/GTEx/lib/python3.5/site-packages'] + sys.path\n",
    "GTEx_directory = '/hps/nobackup/research/stegle/users/willj/GTEx'\n",
    "import numpy as np\n",
    "import matplotlib.pyplot as plt\n",
    "%matplotlib inline\n",
    "import scipy\n",
    "import h5py\n",
    "from scipy.stats import pearsonr\n",
    "import statsmodels.stats.multitest as smm\n",
    "import seaborn\n",
    "import pickle\n",
    "import pandas\n",
    "\n",
    "import h5py\n",
    "mean_features = {}\n",
    "with h5py.File(GTEx_directory + '/data/intermediate/new_retrained_inceptionet_aggregations.hdf5','r') as f:\n",
    "    expression = f['lung']['256']['expression'].value\n",
    "    donor_IDs = f['lung']['256']['donor_IDs'].value\n",
    "    for s in ['128','256','512','1024','2048']:\n",
    "        size_mean_features = f['lung'][s]['mean'].value\n",
    "        mean_features[s] = size_mean_features\n",
    "        \n",
    "        \n",
    "    expression_IDs = f['lung']['256']['expression_IDs'].value\n",
    "\n",
    "most_expressed_transcript_idx, most_varying_feature_idx, results = pickle.load(open(GTEx_directory + '/data/intermediate/retrained_quick_pvalues.py','rb'))\n",
    "\n",
    "filt_expression = expression[:,most_expressed_transcript_idx]\n",
    "filt_features = expression[:,most_varying_feature_idx]"
   ]
  },
  {
   "cell_type": "markdown",
   "metadata": {},
   "source": [
    "We take the top 100 most variable image features, along with the top 100 transcripts with highest mean expression and the 100 transcript with the highest variance"
   ]
  },
  {
   "cell_type": "code",
   "execution_count": 2,
   "metadata": {
    "collapsed": false
   },
   "outputs": [
    {
     "name": "stdout",
     "output_type": "stream",
     "text": [
      "Raw features:\n",
      "(274, 1024) (274, 28683)\n",
      "Filtered features:\n",
      "(274, 200) (274, 100)\n"
     ]
    }
   ],
   "source": [
    "print (\"Raw features:\")\n",
    "print (mean_features['256'].shape, expression.shape)\n",
    "print (\"Filtered features:\")\n",
    "print (filt_expression.shape, filt_features.shape)"
   ]
  },
  {
   "cell_type": "code",
   "execution_count": 15,
   "metadata": {
    "collapsed": false,
    "scrolled": true
   },
   "outputs": [],
   "source": [
    "from limix.qtl import qtl_test_lmm\n",
    "feature = 0\n",
    "single_feature = filt_features[:,feature].copy()\n",
    "res = qtl_test_lmm(single_feature, filt_expression.astype(float))"
   ]
  },
  {
   "cell_type": "code",
   "execution_count": 19,
   "metadata": {
    "collapsed": false
   },
   "outputs": [
    {
     "name": "stderr",
     "output_type": "stream",
     "text": [
      "/nfs/gns/homes/willj/anaconda3/envs/GTEx/lib/python3.5/site-packages/numpy/lib/scimath.py:120: RuntimeWarning: invalid value encountered in less\n",
      "  if any(isreal(x) & (x < 0)):\n"
     ]
    },
    {
     "data": {
      "text/plain": [
       "<matplotlib.axes._subplots.AxesSubplot at 0x2ba50ab70940>"
      ]
     },
     "execution_count": 19,
     "metadata": {},
     "output_type": "execute_result"
    },
    {
     "data": {
      "image/png": "[encoded data removed]",
      "text/plain": [
       "<matplotlib.figure.Figure at 0x2ba50abfe080>"
      ]
     },
     "metadata": {},
     "output_type": "display_data"
    }
   ],
   "source": [
    "from limix.plot import qqplot\n",
    "lim_pvalues = res.getPv().flatten()\n",
    "qqplot(lim_pvalues)"
   ]
  },
  {
   "cell_type": "markdown",
   "metadata": {},
   "source": [
    "Even using lim, we see that our p-values are less inflated. Indeed, we can look at our $\\lambda$ statistic."
   ]
  },
  {
   "cell_type": "code",
   "execution_count": 20,
   "metadata": {
    "collapsed": false
   },
   "outputs": [
    {
     "data": {
      "text/plain": [
       "4.9322407064541958"
      ]
     },
     "execution_count": 20,
     "metadata": {},
     "output_type": "execute_result"
    }
   ],
   "source": [
    "estimate_lambda(lim_pvalues)"
   ]
  },
  {
   "cell_type": "markdown",
   "metadata": {},
   "source": [
    "This $\\lambda$ statistics is still extremely high. Most papers report a $\\lambda$ statistic of closer to 1, so we still have some work to do."
   ]
  },
  {
   "cell_type": "markdown",
   "metadata": {},
   "source": [
    "## Including technical variation in the limix model."
   ]
  },
  {
   "cell_type": "code",
   "execution_count": 71,
   "metadata": {
    "collapsed": false,
    "scrolled": true
   },
   "outputs": [
    {
     "name": "stderr",
     "output_type": "stream",
     "text": [
      "/nfs/gns/homes/willj/anaconda3/envs/GTEx/lib/python3.5/site-packages/numpy/lib/scimath.py:120: RuntimeWarning: invalid value encountered in less\n",
      "  if any(isreal(x) & (x < 0)):\n"
     ]
    },
    {
     "data": {
      "text/plain": [
       "4.7386686768123596"
      ]
     },
     "execution_count": 71,
     "metadata": {},
     "output_type": "execute_result"
    },
    {
     "data": {
      "image/png": "[encoded data removed]",
      "text/plain": [
       "<matplotlib.figure.Figure at 0x2ba510fbf160>"
      ]
     },
     "metadata": {},
     "output_type": "display_data"
    }
   ],
   "source": [
    "from limix.qtl import qtl_test_lmm\n",
    "feature = 0\n",
    "single_feature = filt_features[:,feature].copy()\n",
    "res = qtl_test_lmm(single_feature, filt_expression.astype(float),covs=raw_technical_covariates)\n",
    "pvalues = res.getPv()\n",
    "from limix.plot import qqplot\n",
    "lim_pvalues = res.getPv().flatten()\n",
    "qqplot(lim_pvalues)\n",
    "estimate_lambda(lim_pvalues)"
   ]
  },
  {
   "cell_type": "markdown",
   "metadata": {},
   "source": [
    "Here we see a reduction in the $\\lambda$ value, but not by much. It is also much high than 1."
   ]
  },
  {
   "cell_type": "markdown",
   "metadata": {},
   "source": [
    "## Including top 5 PCs as covariates"
   ]
  },
  {
   "cell_type": "markdown",
   "metadata": {},
   "source": [
    "If we include the technical covariates in the model, we still see a high level of inflation. What about if we include the first 5 PCs?"
   ]
  },
  {
   "cell_type": "code",
   "execution_count": 79,
   "metadata": {
    "collapsed": false
   },
   "outputs": [
    {
     "name": "stdout",
     "output_type": "stream",
     "text": [
      "(274, 5)\n"
     ]
    }
   ],
   "source": [
    "from sklearn.decomposition import PCA\n",
    "pca = PCA(n_components=5)\n",
    "\n",
    "pca_transform = pca.fit_transform(filt_expression)\n",
    "\n",
    "print (pca_transform.shape)"
   ]
  },
  {
   "cell_type": "code",
   "execution_count": 80,
   "metadata": {
    "collapsed": false
   },
   "outputs": [
    {
     "name": "stderr",
     "output_type": "stream",
     "text": [
      "/nfs/gns/homes/willj/anaconda3/envs/GTEx/lib/python3.5/site-packages/numpy/lib/scimath.py:120: RuntimeWarning: invalid value encountered in less\n",
      "  if any(isreal(x) & (x < 0)):\n"
     ]
    },
    {
     "data": {
      "text/plain": [
       "273.62991264731505"
      ]
     },
     "execution_count": 80,
     "metadata": {},
     "output_type": "execute_result"
    },
    {
     "data": {
      "image/png": "[encoded data removed]",
      "text/plain": [
       "<matplotlib.figure.Figure at 0x2ba50ad2d3c8>"
      ]
     },
     "metadata": {},
     "output_type": "display_data"
    }
   ],
   "source": [
    "from limix.qtl import qtl_test_lmm\n",
    "feature = 0\n",
    "single_feature = filt_features[:,feature].copy()\n",
    "res = qtl_test_lmm(single_feature, filt_expression.astype(float), covs=pca_transform)\n",
    "pvalues = res.getPv()\n",
    "from limix.plot import qqplot\n",
    "lim_pvalues = res.getPv().flatten()\n",
    "qqplot(lim_pvalues)\n",
    "estimate_lambda(lim_pvalues)"
   ]
  },
  {
   "cell_type": "markdown",
   "metadata": {},
   "source": [
    "This doesn't seem to work at all."
   ]
  }
 ],
 "metadata": {
  "anaconda-cloud": {},
  "kernelspec": {
   "display_name": "Python [default]",
   "language": "python",
   "name": "python3"
  },
  "language_info": {
   "codemirror_mode": {
    "name": "ipython",
    "version": 3
   },
   "file_extension": ".py",
   "mimetype": "text/x-python",
   "name": "python",
   "nbconvert_exporter": "python",
   "pygments_lexer": "ipython3",
   "version": "3.5.2"
  },
  "nav_menu": {},
  "toc": {
   "navigate_menu": true,
   "number_sections": true,
   "sideBar": true,
   "threshold": 6,
   "toc_cell": false,
   "toc_section_display": "block",
   "toc_window_display": false
  },
  "widgets": {
   "state": {},
   "version": "1.1.2"
  }
 },
 "nbformat": 4,
 "nbformat_minor": 2
}
