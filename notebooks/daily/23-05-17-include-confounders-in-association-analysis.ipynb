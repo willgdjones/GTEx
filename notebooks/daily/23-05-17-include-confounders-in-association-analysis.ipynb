{
 "cells": [
  {
   "cell_type": "markdown",
   "metadata": {},
   "source": [
    "# Including confounders in association studies"
   ]
  },
  {
   "cell_type": "markdown",
   "metadata": {},
   "source": [
    "It is known that technical factors influence gene expression. For example, time between death and tissue harvesting is strongly associated to the expression of specific genes.\n",
    "\n",
    "We have generated image features from the final layer of a neural network (Inceptionetv3) retrained to differentiate between tissue types. Interestingly, certain features are strongly correlated with technical variation, suggesting that this technical variation manifests in the images. The transcripts that are known to be associated with these technical factors, then have a relationship to these image features.\n",
    "\n",
    "Are these image features associated with variation that is not purely technical? We use linear mixed models (LMMs) to answer this question. The goal is to account for known technical variation in the model, and only report unaccounted associations that are more likely to be biologically interesting."
   ]
  },
  {
   "cell_type": "markdown",
   "metadata": {},
   "source": [
    "One result of having technical factors causing so many associations is that it means that the resulting p-values are **highly inflated**. This means that we see far more significant pvalues than we expect to. For example, take the raw associations between the top 100 varying image features and the 100 most highly expressed genes along with the 100 most highly expressed transcripts. We show a QQ plot, which is a graph comparing the expected number of highly associated genes to the number of strong associations we expect to see by chance."
   ]
  },
  {
   "cell_type": "code",
   "execution_count": 35,
   "metadata": {
    "collapsed": false
   },
   "outputs": [
    {
     "name": "stderr",
     "output_type": "stream",
     "text": [
      "/nfs/gns/homes/willj/anaconda3/envs/GTEx/lib/python3.5/site-packages/numpy/lib/scimath.py:120: RuntimeWarning: invalid value encountered in less\n",
      "  if any(isreal(x) & (x < 0)):\n"
     ]
    },
    {
     "data": {
      "text/plain": [
       "<matplotlib.axes._subplots.AxesSubplot at 0x2b050bb1dcc0>"
      ]
     },
     "execution_count": 35,
     "metadata": {},
     "output_type": "execute_result"
    },
    {
     "data": {
      "image/png": "[encoded data removed]",
      "text/plain": [
       "<matplotlib.figure.Figure at 0x2b050ba52a58>"
      ]
     },
     "metadata": {},
     "output_type": "display_data"
    }
   ],
   "source": [
    "from limix.plot import qqplot\n",
    "most_expressed_transcript_idx, most_varying_feature_idx, results = pickle.load(open(GTEx_directory + '/data/intermediate/retrained_quick_pvalues.py','rb'))\n",
    "pvalues = results['mean_256_pvalues'].flatten()\n",
    "qqplot(pvalues,alphaLevel=0.05)"
   ]
  },
  {
   "cell_type": "markdown",
   "metadata": {},
   "source": [
    "We see many more strongly associated -log10 p-values than we expect.\n",
    "\n",
    "We can quantify the level of inflation by looking at the $\\lambda$ statistic. The lambda distribution looks at the distribution of the test statistic before they are converted into p-values. The $\\lambda$ value is defined as the median of the test-statistics, which are $\\chi^2$, divided by the median of the $\\chi^2$ distribution with one degree of freedom, which is 0.454. This value is also implemented in limix as shown below."
   ]
  },
  {
   "cell_type": "markdown",
   "metadata": {},
   "source": [
    "We can also see how these pvalues stack in a histogram."
   ]
  },
  {
   "cell_type": "code",
   "execution_count": 40,
   "metadata": {
    "collapsed": false
   },
   "outputs": [
    {
     "data": {
      "image/png": "[encoded data removed]",
      "text/plain": [
       "<matplotlib.figure.Figure at 0x2b050bf85c88>"
      ]
     },
     "metadata": {},
     "output_type": "display_data"
    }
   ],
   "source": [
    "plt.hist(pvalues,bins=100)\n",
    "plt.show()"
   ]
  },
  {
   "cell_type": "code",
   "execution_count": 49,
   "metadata": {
    "collapsed": true
   },
   "outputs": [],
   "source": [
    "import scipy.stats as st\n",
    "import scipy as sp\n",
    "def estimate_lambda(pv):\n",
    "    \"\"\"estimate lambda form a set of PV\"\"\"\n",
    "    LOD2 = sp.median(st.chi2.isf(pv, 1))\n",
    "    L = (LOD2 / 0.456)\n",
    "    return (L)"
   ]
  },
  {
   "cell_type": "code",
   "execution_count": 50,
   "metadata": {
    "collapsed": false
   },
   "outputs": [
    {
     "data": {
      "text/plain": [
       "5.0589366899190527"
      ]
     },
     "execution_count": 50,
     "metadata": {},
     "output_type": "execute_result"
    }
   ],
   "source": [
    "estimate_lambda(pvalues)"
   ]
  },
  {
   "cell_type": "markdown",
   "metadata": {},
   "source": [
    "We see an extremely high value of $\\lambda$ for these p-values. Trustworthy sets of p-values are generally close to 1. We would like to correct for this and achieve fewer globally associated p-values."
   ]
  },
  {
   "cell_type": "markdown",
   "metadata": {},
   "source": [
    "## Linear mixed models"
   ]
  },
  {
   "cell_type": "markdown",
   "metadata": {},
   "source": [
    "Linear mixed models account for known variation in linear models. They do this by quantifying the variation caused by **fixed effects** and **random effects** with respect to $i$ subjects.\n",
    "\n",
    "$$ Y_i = X_i \\beta + Z_iu_i + \\epsilon_i $$\n",
    "\n",
    "In our case, we have only one subject. Therefore $i = 1$\n",
    "\n",
    "$$ Y = X \\beta + Zu + \\epsilon $$\n",
    "\n",
    "$$u \\sim N(0,D), \\ \\ \\ \\epsilon \\sim N(0,R) $$\n",
    "\n",
    "The $X\\beta$ corresponds to the fixed effect, and the $Zu + \\epsilon$ corresponds to the random effect. $Y$ here represents our dependent phenotype.\n",
    "\n",
    "In our specific case, we want to quantify the variation of our image features outside of known technical factors. As such, we treat these factors as **fixed effects**. Fixed-effects are commonly used to capture the effect of being in a group, whereas random effect capture the effect of repeated trials from a single individual. Right now, we do not have any repeated measures, so we do not include random effects.\n",
    "\n",
    "Our models do not include \n",
    "\n",
    "LMM are already included in limix - a package developed by the Stegle group at the EBI which implements well known models from statistical genetics. Specifically, it is included as `limix.qtl.qtl_test_lmm`. This function takes in as parameters the snps matrix and phenotype vector, as well as optional parameters specifying the covariance structure of the data that we want to include as fixed effects. In our data, we have a matrix of gene expression values, but this can be inputted into limix without a problem. "
   ]
  },
  {
   "cell_type": "markdown",
   "metadata": {},
   "source": [
    "## Specifying the technical covariates"
   ]
  },
  {
   "cell_type": "markdown",
   "metadata": {},
   "source": [
    "To specify the technical covariates, we mine the phenotype data."
   ]
  },
  {
   "cell_type": "code",
   "execution_count": 88,
   "metadata": {
    "collapsed": false
   },
   "outputs": [],
   "source": [
    "import pickle\n",
    "import pandas as pd\n",
    "import gzip\n",
    "phenotype_filepath = '/nfs/research2/stegle/stegle_secure/GTEx/download/49139/PhenoGenotypeFiles/RootStudyConsentSet_phs000424.GTEx.v6.p1.c1.GRU/PhenotypeFiles/phs000424.v6.pht002743.v6.p1.c1.GTEx_Sample_Attributes.GRU.txt.gz'\n",
    "with gzip.open(phenotype_filepath, 'rb') as f:\n",
    "    phenotype_array = [str(x, 'utf-8').split('\\t') for x in f.read().splitlines() if not str(x, 'utf-8').startswith('#')][1:]\n",
    "    phenotype_df = pd.DataFrame(phenotype_array)\n",
    "    phenotype_df.columns = phenotype_df.iloc[0]\n",
    "    phenotype_df = phenotype_df[1:]\n",
    "\n",
    "# import pandas as pd\n",
    "# df = pickle.load(open(GTEx_directory + '/data/phenotype_pandas_dataframe.py','rb'))\n",
    "\n",
    "lung_df = phenotype_df[phenotype_df['SMTSD'] == 'Lung']\n",
    "phenotype_idx = [[x.split('-')[1] for x in lung_df['SAMPID']].index(ID) for ID in [x.decode('utf-8').split('-')[1] for x in donor_IDs]]\n",
    "\n",
    "SMTSISCH = np.log(np.array(lung_df['SMTSISCH']).astype(np.float32))\n",
    "SMTSISCH = SMTSISCH[phenotype_idx]\n",
    "SMRIN = np.array([float(x) if x != '' else 0 for x in np.array(lung_df['SMRIN']) ])\n",
    "SMRIN = SMRIN[phenotype_idx]\n",
    "SMEXNCRT = np.array([float(x) if x != '' else 0 for x in np.array(lung_df['SMEXNCRT']) ])\n",
    "SMEXNCRT = SMEXNCRT[phenotype_idx]\n",
    "SMNTRNRT = np.array([float(x) if x != '' else 0 for x in np.array(lung_df['SMNTRNRT']) ])\n",
    "SMNTRNRT = SMNTRNRT[phenotype_idx]"
   ]
  },
  {
   "cell_type": "markdown",
   "metadata": {},
   "source": [
    "These acronyms, SMTSISCH, SMRIN, SMEXNCRT, and SMNTRNRT mean:\n",
    "- Time between tissue death and harvesting\n",
    "- RIN number (RNA degradation)\n",
    "- Exon mapping number\n",
    "- Intro mapping number\n",
    "\n",
    "Respectively. They can directly be added into lmm as covariates."
   ]
  },
  {
   "cell_type": "markdown",
   "metadata": {},
   "source": [
    "Now we load in all the precomputed features"
   ]
  },
  {
   "cell_type": "code",
   "execution_count": 3,
   "metadata": {
    "collapsed": true
   },
   "outputs": [],
   "source": [
    "import os\n",
    "import sys\n",
    "sys.path = ['/nfs/gns/homes/willj/anaconda3/envs/GTEx/lib/python3.5/site-packages'] + sys.path\n",
    "GTEx_directory = '/hps/nobackup/research/stegle/users/willj/GTEx'\n",
    "import numpy as np\n",
    "import matplotlib.pyplot as plt\n",
    "%matplotlib inline\n",
    "import scipy\n",
    "import h5py\n",
    "from scipy.stats import pearsonr\n",
    "import statsmodels.stats.multitest as smm\n",
    "import seaborn\n",
    "import pickle\n",
    "import pandas\n",
    "\n",
    "import h5py\n",
    "mean_features = {}\n",
    "with h5py.File(GTEx_directory + '/data/intermediate/new_retrained_inceptionet_aggregations.hdf5','r') as f:\n",
    "    expression = f['lung']['256']['expression'].value\n",
    "    donor_IDs = f['lung']['256']['donor_IDs'].value\n",
    "    for s in ['128','256','512','1024','2048']:\n",
    "        size_mean_features = f['lung'][s]['mean'].value\n",
    "        mean_features[s] = size_mean_features\n",
    "        \n",
    "        \n",
    "    expression_IDs = f['lung']['256']['expression_IDs'].value\n",
    "\n",
    "most_expressed_transcript_idx, most_varying_feature_idx, results = pickle.load(open(GTEx_directory + '/data/intermediate/retrained_quick_pvalues.py','rb'))\n",
    "\n",
    "filt_expression = expression[:,most_expressed_transcript_idx]\n",
    "filt_features = expression[:,most_varying_feature_idx]"
   ]
  },
  {
   "cell_type": "markdown",
   "metadata": {},
   "source": [
    "We take the top 100 most variable image features, along with the top 100 transcripts with highest mean expression and the 100 transcript with the highest variance"
   ]
  },
  {
   "cell_type": "code",
   "execution_count": 16,
   "metadata": {
    "collapsed": false
   },
   "outputs": [
    {
     "name": "stdout",
     "output_type": "stream",
     "text": [
      "Raw features:\n",
      "(274, 1024) (274, 28683)\n",
      "Filtered features:\n",
      "(274, 200) (274, 100)\n"
     ]
    }
   ],
   "source": [
    "print (\"Raw features:\")\n",
    "print (mean_features['256'].shape, expression.shape)\n",
    "print (\"Filtered features:\")\n",
    "print (filt_expression.shape, filt_features.shape)"
   ]
  },
  {
   "cell_type": "code",
   "execution_count": 18,
   "metadata": {
    "collapsed": false,
    "scrolled": true
   },
   "outputs": [
    {
     "ename": "ValueError",
     "evalue": "array must be of type int, float, long or double",
     "output_type": "error",
     "traceback": [
      "\u001b[0;31m---------------------------------------------------------------------------\u001b[0m",
      "\u001b[0;31mValueError\u001b[0m                                Traceback (most recent call last)",
      "\u001b[0;32m<ipython-input-18-e5c3c91465c8>\u001b[0m in \u001b[0;36m<module>\u001b[0;34m()\u001b[0m\n\u001b[1;32m      2\u001b[0m \u001b[0mfeature\u001b[0m \u001b[0;34m=\u001b[0m \u001b[0;36m0\u001b[0m\u001b[0;34m\u001b[0m\u001b[0m\n\u001b[1;32m      3\u001b[0m \u001b[0msingle_feature\u001b[0m \u001b[0;34m=\u001b[0m \u001b[0mfilt_features\u001b[0m\u001b[0;34m[\u001b[0m\u001b[0;34m:\u001b[0m\u001b[0;34m,\u001b[0m\u001b[0mfeature\u001b[0m\u001b[0;34m]\u001b[0m\u001b[0;34m.\u001b[0m\u001b[0mcopy\u001b[0m\u001b[0;34m(\u001b[0m\u001b[0;34m)\u001b[0m\u001b[0;34m\u001b[0m\u001b[0m\n\u001b[0;32m----> 4\u001b[0;31m \u001b[0mqtl_test_lmm\u001b[0m\u001b[0;34m(\u001b[0m\u001b[0msingle_feature\u001b[0m\u001b[0;34m,\u001b[0m \u001b[0mfilt_expression\u001b[0m\u001b[0;34m.\u001b[0m\u001b[0mastype\u001b[0m\u001b[0;34m(\u001b[0m\u001b[0mfloat\u001b[0m\u001b[0;34m)\u001b[0m\u001b[0;34m)\u001b[0m\u001b[0;34m\u001b[0m\u001b[0m\n\u001b[0m",
      "\u001b[0;32m/nfs/gns/homes/willj/anaconda3/envs/GTEx/lib/python3.5/site-packages/limix/qtl/qtl.py\u001b[0m in \u001b[0;36mqtl_test_lmm\u001b[0;34m(snps, pheno, K, covs, test, NumIntervalsDelta0, NumIntervalsDeltaAlt, searchDelta, verbose)\u001b[0m\n\u001b[1;32m    155\u001b[0m         \u001b[0mNumIntervalsDeltaAlt\u001b[0m\u001b[0;34m=\u001b[0m\u001b[0mNumIntervalsDeltaAlt\u001b[0m\u001b[0;34m,\u001b[0m\u001b[0;34m\u001b[0m\u001b[0m\n\u001b[1;32m    156\u001b[0m         \u001b[0msearchDelta\u001b[0m\u001b[0;34m=\u001b[0m\u001b[0msearchDelta\u001b[0m\u001b[0;34m,\u001b[0m\u001b[0;34m\u001b[0m\u001b[0m\n\u001b[0;32m--> 157\u001b[0;31m         verbose=verbose)\n\u001b[0m\u001b[1;32m    158\u001b[0m     \u001b[0;32mreturn\u001b[0m \u001b[0mlmm_\u001b[0m\u001b[0;34m\u001b[0m\u001b[0m\n\u001b[1;32m    159\u001b[0m \u001b[0;34m\u001b[0m\u001b[0m\n",
      "\u001b[0;32m/nfs/gns/homes/willj/anaconda3/envs/GTEx/lib/python3.5/site-packages/limix/qtl/lmm.py\u001b[0m in \u001b[0;36m__init__\u001b[0;34m(self, snps, pheno, K, covs, test, NumIntervalsDelta0, NumIntervalsDeltaAlt, searchDelta, verbose)\u001b[0m\n\u001b[1;32m    150\u001b[0m         \u001b[0;31m# run\u001b[0m\u001b[0;34m\u001b[0m\u001b[0;34m\u001b[0m\u001b[0m\n\u001b[1;32m    151\u001b[0m         \u001b[0mself\u001b[0m\u001b[0;34m.\u001b[0m\u001b[0mverbose\u001b[0m \u001b[0;34m=\u001b[0m \u001b[0mverbose\u001b[0m\u001b[0;34m\u001b[0m\u001b[0m\n\u001b[0;32m--> 152\u001b[0;31m         \u001b[0mself\u001b[0m\u001b[0;34m.\u001b[0m\u001b[0mprocess\u001b[0m\u001b[0;34m(\u001b[0m\u001b[0;34m)\u001b[0m\u001b[0;34m\u001b[0m\u001b[0m\n\u001b[0m\u001b[1;32m    153\u001b[0m \u001b[0;34m\u001b[0m\u001b[0m\n\u001b[1;32m    154\u001b[0m     \u001b[0;32mdef\u001b[0m \u001b[0mprocess\u001b[0m\u001b[0;34m(\u001b[0m\u001b[0mself\u001b[0m\u001b[0;34m)\u001b[0m\u001b[0;34m:\u001b[0m\u001b[0;34m\u001b[0m\u001b[0m\n",
      "\u001b[0;32m/nfs/gns/homes/willj/anaconda3/envs/GTEx/lib/python3.5/site-packages/limix/qtl/lmm.py\u001b[0m in \u001b[0;36mprocess\u001b[0;34m(self)\u001b[0m\n\u001b[1;32m    161\u001b[0m             \u001b[0mself\u001b[0m\u001b[0;34m.\u001b[0m\u001b[0m_lmm\u001b[0m \u001b[0;34m=\u001b[0m \u001b[0mlimix_legacy\u001b[0m\u001b[0;34m.\u001b[0m\u001b[0mdeprecated\u001b[0m\u001b[0;34m.\u001b[0m\u001b[0mCLMM\u001b[0m\u001b[0;34m(\u001b[0m\u001b[0;34m)\u001b[0m\u001b[0;34m\u001b[0m\u001b[0m\n\u001b[1;32m    162\u001b[0m             \u001b[0mself\u001b[0m\u001b[0;34m.\u001b[0m\u001b[0m_lmm\u001b[0m\u001b[0;34m.\u001b[0m\u001b[0msetK\u001b[0m\u001b[0;34m(\u001b[0m\u001b[0mself\u001b[0m\u001b[0;34m.\u001b[0m\u001b[0mK\u001b[0m\u001b[0;34m)\u001b[0m\u001b[0;34m\u001b[0m\u001b[0m\n\u001b[0;32m--> 163\u001b[0;31m             \u001b[0mself\u001b[0m\u001b[0;34m.\u001b[0m\u001b[0m_lmm\u001b[0m\u001b[0;34m.\u001b[0m\u001b[0msetSNPs\u001b[0m\u001b[0;34m(\u001b[0m\u001b[0mself\u001b[0m\u001b[0;34m.\u001b[0m\u001b[0msnps\u001b[0m\u001b[0;34m)\u001b[0m\u001b[0;34m\u001b[0m\u001b[0m\n\u001b[0m\u001b[1;32m    164\u001b[0m             \u001b[0mself\u001b[0m\u001b[0;34m.\u001b[0m\u001b[0m_lmm\u001b[0m\u001b[0;34m.\u001b[0m\u001b[0msetPheno\u001b[0m\u001b[0;34m(\u001b[0m\u001b[0mself\u001b[0m\u001b[0;34m.\u001b[0m\u001b[0mpheno\u001b[0m\u001b[0;34m)\u001b[0m\u001b[0;34m\u001b[0m\u001b[0m\n\u001b[1;32m    165\u001b[0m             \u001b[0mself\u001b[0m\u001b[0;34m.\u001b[0m\u001b[0m_lmm\u001b[0m\u001b[0;34m.\u001b[0m\u001b[0msetCovs\u001b[0m\u001b[0;34m(\u001b[0m\u001b[0mself\u001b[0m\u001b[0;34m.\u001b[0m\u001b[0mcovs\u001b[0m\u001b[0;34m)\u001b[0m\u001b[0;34m\u001b[0m\u001b[0m\n",
      "\u001b[0;32m/nfs/gns/homes/willj/anaconda3/envs/GTEx/lib/python3.5/site-packages/limix_legacy/deprecated/core.py\u001b[0m in \u001b[0;36msetSNPs\u001b[0;34m(self, snps)\u001b[0m\n\u001b[1;32m  11358\u001b[0m \u001b[0;34m\u001b[0m\u001b[0m\n\u001b[1;32m  11359\u001b[0m         \"\"\"\n\u001b[0;32m> 11360\u001b[0;31m         \u001b[0;32mreturn\u001b[0m \u001b[0m_core\u001b[0m\u001b[0;34m.\u001b[0m\u001b[0mALMM_setSNPs\u001b[0m\u001b[0;34m(\u001b[0m\u001b[0mself\u001b[0m\u001b[0;34m,\u001b[0m \u001b[0msnps\u001b[0m\u001b[0;34m)\u001b[0m\u001b[0;34m\u001b[0m\u001b[0m\n\u001b[0m\u001b[1;32m  11361\u001b[0m \u001b[0;34m\u001b[0m\u001b[0m\n\u001b[1;32m  11362\u001b[0m \u001b[0;34m\u001b[0m\u001b[0m\n",
      "\u001b[0;31mValueError\u001b[0m: array must be of type int, float, long or double"
     ]
    }
   ],
   "source": [
    "from limix.qtl import qtl_test_lmm\n",
    "feature = 0\n",
    "single_feature = filt_features[:,feature].copy()\n",
    "qtl_test_lmm(single_feature, filt_expression.astype(float))"
   ]
  }
 ],
 "metadata": {
  "anaconda-cloud": {},
  "kernelspec": {
   "display_name": "Python [default]",
   "language": "python",
   "name": "python3"
  },
  "language_info": {
   "codemirror_mode": {
    "name": "ipython",
    "version": 3
   },
   "file_extension": ".py",
   "mimetype": "text/x-python",
   "name": "python",
   "nbconvert_exporter": "python",
   "pygments_lexer": "ipython3",
   "version": "3.5.2"
  },
  "nav_menu": {},
  "toc": {
   "navigate_menu": true,
   "number_sections": true,
   "sideBar": true,
   "threshold": 6,
   "toc_cell": false,
   "toc_section_display": "block",
   "toc_window_display": false
  },
  "widgets": {
   "state": {},
   "version": "1.1.2"
  }
 },
 "nbformat": 4,
 "nbformat_minor": 2
}
