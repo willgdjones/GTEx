{
 "cells": [
  {
   "cell_type": "code",
   "execution_count": 3,
   "metadata": {
    "collapsed": true,
    "hide_input": true
   },
   "outputs": [],
   "source": [
    "import os\n",
    "import sys\n",
    "sys.path = ['/nfs/gns/homes/willj/anaconda3/envs/GTEx/lib/python3.5/site-packages'] + sys.path\n",
    "GTEx_directory = '/hps/nobackup/research/stegle/users/willj/GTEx'\n",
    "import openslide\n",
    "from openslide.deepzoom import DeepZoomGenerator\n",
    "from openslide import open_slide\n",
    "import numpy as np\n",
    "import matplotlib.pyplot as plt\n",
    "%matplotlib inline\n",
    "import scipy\n",
    "import h5py\n",
    "\n",
    "tissue = 'Lung'\n",
    "# ID\n",
    "tissue_filepath = os.path.join(GTEx_directory,'data','raw',tissue)\n",
    "tissue_images = os.listdir(tissue_filepath)\n",
    "tissue_IDs = [x.split('.')[0] for x in tissue_images]\n"
   ]
  },
  {
   "cell_type": "markdown",
   "metadata": {},
   "source": [
    "# Choose a lung image slice"
   ]
  },
  {
   "cell_type": "code",
   "execution_count": 4,
   "metadata": {
    "collapsed": true
   },
   "outputs": [],
   "source": [
    "ID = 'GTEX-145MF-0726'\n",
    "with h5py.File(GTEx_directory + '/data/better_covering_patches/{}_256.hdf5'.format(ID),'r') as f:\n",
    "    patches = f['patches'].value\n",
    "\n",
    "with h5py.File(GTEx_directory + '/data/retrained_inceptionet_features.hdf5','r') as f:\n",
    "    features = f['lung']['features']['256'][ID].value"
   ]
  },
  {
   "cell_type": "markdown",
   "metadata": {},
   "source": [
    "# Look at the maximally activating patches for associated features from Leo's analysis"
   ]
  },
  {
   "cell_type": "code",
   "execution_count": null,
   "metadata": {},
   "outputs": [],
   "source": [
    "h = 70\n",
    "feature = 895\n",
    "feature_vector = features[:,feature]\n",
    "ordered_idx = np.argsort(feature_vector)[::-1]\n",
    "ordered_patches = patches[ordered_idx]\n",
    "f,a = plt.subplots(int(h/10),10, figsize=(10,10))\n",
    "for i in range(h):\n",
    "    a.flatten()[i].imshow(ordered_patches[i])\n",
    "    a.flatten()[i].set_title(feature_vector[ordered_idx[i]])\n",
    "    a.flatten()[i].axis('off')\n",
    "    \n",
    "normalised_feature_vector = np.clip(500*feature_vector / max(feature_vector), 0,255)"
   ]
  },
  {
   "cell_type": "markdown",
   "metadata": {},
   "source": [
    "This feature seems to activate in whitespace"
   ]
  },
  {
   "cell_type": "markdown",
   "metadata": {},
   "source": [
    "# Visualising activation areas on the tissue slice"
   ]
  },
  {
   "cell_type": "markdown",
   "metadata": {},
   "source": [
    "I construct the mask with the same parameters as when I first extract patches. This results in the same patch centers as. We know this because len(mask_coords) = len(patches)"
   ]
  },
  {
   "cell_type": "code",
   "execution_count": null,
   "metadata": {},
   "outputs": [],
   "source": [
    "print (len(mask_coords))"
   ]
  },
  {
   "cell_type": "code",
   "execution_count": null,
   "metadata": {},
   "outputs": [],
   "source": [
    "print (len(features))"
   ]
  },
  {
   "cell_type": "code",
   "execution_count": null,
   "metadata": {
    "hide_input": false,
    "scrolled": false
   },
   "outputs": [],
   "source": [
    "import cv2\n",
    "from scipy.misc import imresize\n",
    "import mahotas\n",
    "import os\n",
    "image_filepath = os.path.join(GTEx_directory,'data','raw',tissue, ID + '.svs')\n",
    "\n",
    "image_slide = open_slide(image_filepath)\n",
    "# cv2.line(image_slide, (0,128), (200,128),color=[255,255,255], thickness=1)\n",
    "toplevel = image_slide.level_count - 1\n",
    "topdim = image_slide.level_dimensions[-1]\n",
    "topdownsample = image_slide.level_downsamples[-1]\n",
    "topdownsampleint = int(topdownsample)\n",
    "\n",
    "toplevelslide = image_slide.read_region((0,0), toplevel, topdim)\n",
    "toplevelslide = np.array(toplevelslide)\n",
    "toplevelslide = toplevelslide[:,:,0:3]\n",
    "slide = toplevelslide\n",
    "\n",
    "blurredslide = cv2.GaussianBlur(slide, (51,51),0)\n",
    "blurredslide = cv2.cvtColor(blurredslide, cv2.COLOR_BGR2GRAY)\n",
    "T_otsu = mahotas.otsu(blurredslide)\n",
    "\n",
    "mask = np.zeros_like(slide)\n",
    "mask = mask[:,:,0]\n",
    "mask[blurredslide < T_otsu] = 255\n",
    "\n",
    "# plt.imshow(cv2.bitwise_and(slide, slide, mask=mask))\n",
    "\n",
    "patchsize = 256\n",
    "downsampledpatchsize = patchsize / topdownsampleint\n",
    "xlimit = int(topdim[1] / downsampledpatchsize)\n",
    "ylimit = int(topdim[0] / downsampledpatchsize)\n",
    "\n",
    "\n",
    "# Find downsampled coords\n",
    "coords = []\n",
    "for i in range(xlimit):\n",
    "    for j in range(ylimit):\n",
    "        x = int(downsampledpatchsize/2 + i*downsampledpatchsize)\n",
    "        y = int(downsampledpatchsize/2 + j*downsampledpatchsize)\n",
    "        coords.append((x,y))\n",
    "\n",
    "# Find coords in downsampled mask\n",
    "mask_coords = []\n",
    "for c in coords:\n",
    "    x = c[0]\n",
    "    y = c[1]\n",
    "    if mask[x,y] > 0:\n",
    "        mask_coords.append(c)\n",
    "        \n",
    "slidemarkings = slide.copy()\n",
    "for (j,c) in enumerate(mask_coords):\n",
    "    x = c[0]\n",
    "    y = c[1]\n",
    "    \n",
    "    slidemarkings[x-2:x+2,y-2:y+2] = [normalised_feature_vector[j],0,0]\n",
    "    \n",
    "plt.figure(figsize=(100,100))\n",
    "plt.imshow(cv2.bitwise_and(slidemarkings, slidemarkings, mask=mask))"
   ]
  },
  {
   "cell_type": "markdown",
   "metadata": {},
   "source": [
    "Displaying the activations across the entire image slice suggests that the feature picks up areas of white space in the image"
   ]
  },
  {
   "cell_type": "markdown",
   "metadata": {},
   "source": [
    "# Zooming in"
   ]
  },
  {
   "cell_type": "code",
   "execution_count": null,
   "metadata": {},
   "outputs": [],
   "source": [
    "plt.figure(figsize=(100,100))\n",
    "plt.imshow(cv2.bitwise_and(slidemarkings, slidemarkings, mask=mask)[500:1500,1000:2000])"
   ]
  },
  {
   "cell_type": "markdown",
   "metadata": {},
   "source": [
    "The feature seems to localise to airhole pockets."
   ]
  },
  {
   "cell_type": "code",
   "execution_count": 47,
   "metadata": {
    "collapsed": true
   },
   "outputs": [],
   "source": [
    "# Convert downsampled masked coords to full masked coords\n",
    "full_mask_coords = []\n",
    "for c in mask_coords:\n",
    "    x = c[0]\n",
    "    y = c[1]\n",
    "    full_x = int(topdownsample*x)\n",
    "    full_y = int(topdownsample*y)\n",
    "    full_mask_coords.append((full_x,full_y))"
   ]
  },
  {
   "cell_type": "markdown",
   "metadata": {},
   "source": [
    "# Repeat for feature 783"
   ]
  },
  {
   "cell_type": "code",
   "execution_count": null,
   "metadata": {
    "collapsed": true,
    "scrolled": false
   },
   "outputs": [],
   "source": [
    "h = 70\n",
    "feature = 783\n",
    "feature_vector = features[:,feature]\n",
    "ordered_idx = np.argsort(feature_vector)[::-1]\n",
    "ordered_patches = patches[ordered_idx]\n",
    "f,a = plt.subplots(int(h/10),10, figsize=(10,10))\n",
    "for i in range(h):\n",
    "    a.flatten()[i].imshow(ordered_patches[i])\n",
    "    a.flatten()[i].set_title(feature_vector[ordered_idx[i]])\n",
    "    a.flatten()[i].axis('off')\n",
    "    \n",
    "normalised_feature_vector = np.clip(500*feature_vector / max(feature_vector), 0,255)"
   ]
  },
  {
   "cell_type": "code",
   "execution_count": 1,
   "metadata": {
    "scrolled": false
   },
   "outputs": [
    {
     "ename": "NameError",
     "evalue": "name 'GTEx_directory' is not defined",
     "output_type": "error",
     "traceback": [
      "\u001b[0;31m---------------------------------------------------------------------------\u001b[0m",
      "\u001b[0;31mNameError\u001b[0m                                 Traceback (most recent call last)",
      "\u001b[0;32m<ipython-input-1-67afeb59f352>\u001b[0m in \u001b[0;36m<module>\u001b[0;34m()\u001b[0m\n\u001b[1;32m      3\u001b[0m \u001b[0;32mimport\u001b[0m \u001b[0mmahotas\u001b[0m\u001b[0;34m\u001b[0m\u001b[0m\n\u001b[1;32m      4\u001b[0m \u001b[0;32mimport\u001b[0m \u001b[0mos\u001b[0m\u001b[0;34m\u001b[0m\u001b[0m\n\u001b[0;32m----> 5\u001b[0;31m \u001b[0mimage_filepath\u001b[0m \u001b[0;34m=\u001b[0m \u001b[0mos\u001b[0m\u001b[0;34m.\u001b[0m\u001b[0mpath\u001b[0m\u001b[0;34m.\u001b[0m\u001b[0mjoin\u001b[0m\u001b[0;34m(\u001b[0m\u001b[0mGTEx_directory\u001b[0m\u001b[0;34m,\u001b[0m\u001b[0;34m'data'\u001b[0m\u001b[0;34m,\u001b[0m\u001b[0;34m'raw'\u001b[0m\u001b[0;34m,\u001b[0m\u001b[0mtissue\u001b[0m\u001b[0;34m,\u001b[0m \u001b[0mID\u001b[0m \u001b[0;34m+\u001b[0m \u001b[0;34m'.svs'\u001b[0m\u001b[0;34m)\u001b[0m\u001b[0;34m\u001b[0m\u001b[0m\n\u001b[0m\u001b[1;32m      6\u001b[0m \u001b[0;34m\u001b[0m\u001b[0m\n\u001b[1;32m      7\u001b[0m \u001b[0mimage_slide\u001b[0m \u001b[0;34m=\u001b[0m \u001b[0mopen_slide\u001b[0m\u001b[0;34m(\u001b[0m\u001b[0mimage_filepath\u001b[0m\u001b[0;34m)\u001b[0m\u001b[0;34m\u001b[0m\u001b[0m\n",
      "\u001b[0;31mNameError\u001b[0m: name 'GTEx_directory' is not defined"
     ]
    }
   ],
   "source": [
    "import cv2\n",
    "from scipy.misc import imresize\n",
    "import mahotas\n",
    "import os\n",
    "image_filepath = os.path.join(GTEx_directory,'data','raw',tissue, ID + '.svs')\n",
    "\n",
    "image_slide = open_slide(image_filepath)\n",
    "# cv2.line(image_slide, (0,128), (200,128),color=[255,255,255], thickness=1)\n",
    "toplevel = image_slide.level_count - 1\n",
    "topdim = image_slide.level_dimensions[-1]\n",
    "topdownsample = image_slide.level_downsamples[-1]\n",
    "topdownsampleint = int(topdownsample)\n",
    "\n",
    "toplevelslide = image_slide.read_region((0,0), toplevel, topdim)\n",
    "toplevelslide = np.array(toplevelslide)\n",
    "toplevelslide = toplevelslide[:,:,0:3]\n",
    "slide = toplevelslide\n",
    "\n",
    "blurredslide = cv2.GaussianBlur(slide, (51,51),0)\n",
    "blurredslide = cv2.cvtColor(blurredslide, cv2.COLOR_BGR2GRAY)\n",
    "T_otsu = mahotas.otsu(blurredslide)\n",
    "\n",
    "mask = np.zeros_like(slide)\n",
    "mask = mask[:,:,0]\n",
    "mask[blurredslide < T_otsu] = 255\n",
    "\n",
    "# plt.imshow(cv2.bitwise_and(slide, slide, mask=mask))\n",
    "\n",
    "patchsize = 256\n",
    "downsampledpatchsize = patchsize / topdownsampleint\n",
    "xlimit = int(topdim[1] / downsampledpatchsize)\n",
    "ylimit = int(topdim[0] / downsampledpatchsize)\n",
    "\n",
    "\n",
    "# Find downsampled coords\n",
    "coords = []\n",
    "for i in range(xlimit):\n",
    "    for j in range(ylimit):\n",
    "        x = int(downsampledpatchsize/2 + i*downsampledpatchsize)\n",
    "        y = int(downsampledpatchsize/2 + j*downsampledpatchsize)\n",
    "        coords.append((x,y))\n",
    "\n",
    "# Find coords in downsampled mask\n",
    "mask_coords = []\n",
    "for c in coords:\n",
    "    x = c[0]\n",
    "    y = c[1]\n",
    "    if mask[x,y] > 0:\n",
    "        mask_coords.append(c)\n",
    "        \n",
    "slidemarkings = slide.copy()\n",
    "for (j,c) in enumerate(mask_coords):\n",
    "    x = c[0]\n",
    "    y = c[1]\n",
    "    \n",
    "    slidemarkings[x-2:x+2,y-2:y+2] = [normalised_feature_vector[j],0,0]\n",
    "    \n",
    "plt.figure(figsize=(100,100))\n",
    "plt.imshow(cv2.bitwise_and(slidemarkings, slidemarkings, mask=mask))"
   ]
  },
  {
   "cell_type": "code",
   "execution_count": 2,
   "metadata": {},
   "outputs": [
    {
     "ename": "NameError",
     "evalue": "name 'plt' is not defined",
     "output_type": "error",
     "traceback": [
      "\u001b[0;31m---------------------------------------------------------------------------\u001b[0m",
      "\u001b[0;31mNameError\u001b[0m                                 Traceback (most recent call last)",
      "\u001b[0;32m<ipython-input-2-8ed06ee5269f>\u001b[0m in \u001b[0;36m<module>\u001b[0;34m()\u001b[0m\n\u001b[0;32m----> 1\u001b[0;31m \u001b[0mplt\u001b[0m\u001b[0;34m.\u001b[0m\u001b[0mfigure\u001b[0m\u001b[0;34m(\u001b[0m\u001b[0mfigsize\u001b[0m\u001b[0;34m=\u001b[0m\u001b[0;34m(\u001b[0m\u001b[0;36m100\u001b[0m\u001b[0;34m,\u001b[0m\u001b[0;36m100\u001b[0m\u001b[0;34m)\u001b[0m\u001b[0;34m)\u001b[0m\u001b[0;34m\u001b[0m\u001b[0m\n\u001b[0m\u001b[1;32m      2\u001b[0m \u001b[0mplt\u001b[0m\u001b[0;34m.\u001b[0m\u001b[0mimshow\u001b[0m\u001b[0;34m(\u001b[0m\u001b[0mcv2\u001b[0m\u001b[0;34m.\u001b[0m\u001b[0mbitwise_and\u001b[0m\u001b[0;34m(\u001b[0m\u001b[0mslidemarkings\u001b[0m\u001b[0;34m,\u001b[0m \u001b[0mslidemarkings\u001b[0m\u001b[0;34m,\u001b[0m \u001b[0mmask\u001b[0m\u001b[0;34m=\u001b[0m\u001b[0mmask\u001b[0m\u001b[0;34m)\u001b[0m\u001b[0;34m[\u001b[0m\u001b[0;36m1500\u001b[0m\u001b[0;34m:\u001b[0m\u001b[0;36m2500\u001b[0m\u001b[0;34m,\u001b[0m\u001b[0;36m500\u001b[0m\u001b[0;34m:\u001b[0m\u001b[0;36m1500\u001b[0m\u001b[0;34m]\u001b[0m\u001b[0;34m)\u001b[0m\u001b[0;34m\u001b[0m\u001b[0m\n",
      "\u001b[0;31mNameError\u001b[0m: name 'plt' is not defined"
     ]
    }
   ],
   "source": [
    "plt.figure(figsize=(100,100))\n",
    "plt.imshow(cv2.bitwise_and(slidemarkings, slidemarkings, mask=mask)[1500:2500,500:1500])"
   ]
  },
  {
   "cell_type": "markdown",
   "metadata": {},
   "source": [
    "Harder to interpret these regions"
   ]
  }
 ],
 "metadata": {
  "kernelspec": {
   "display_name": "Python 3",
   "language": "python",
   "name": "python3"
  },
  "language_info": {
   "codemirror_mode": {
    "name": "ipython",
    "version": 3
   },
   "file_extension": ".py",
   "mimetype": "text/x-python",
   "name": "python",
   "nbconvert_exporter": "python",
   "pygments_lexer": "ipython3",
   "version": "3.5.2"
  },
  "nav_menu": {},
  "toc": {
   "navigate_menu": true,
   "number_sections": true,
   "sideBar": true,
   "threshold": 6,
   "toc_cell": false,
   "toc_section_display": "block",
   "toc_window_display": false
  },
  "widgets": {
   "state": {},
   "version": "1.1.2"
  }
 },
 "nbformat": 4,
 "nbformat_minor": 1
}
