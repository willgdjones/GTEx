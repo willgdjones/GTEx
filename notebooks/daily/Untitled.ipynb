{
 "cells": [
  {
   "cell_type": "code",
   "execution_count": 596,
   "metadata": {},
   "outputs": [
    {
     "name": "stdout",
     "output_type": "stream",
     "text": [
      "Filtered technical features:\n",
      "(231, 200) (231, 100)\n"
     ]
    }
   ],
   "source": [
    "import os\n",
    "import sys\n",
    "sys.path = ['/nfs/gns/homes/willj/anaconda3/envs/GTEx/lib/python3.5/site-packages'] + sys.path\n",
    "GTEx_directory = '/hps/nobackup/research/stegle/users/willj/GTEx'\n",
    "import pickle\n",
    "import matplotlib.pyplot as plt\n",
    "%matplotlib inline\n",
    "import seaborn\n",
    "import numpy as np\n",
    "from limix.plot import qqplot\n",
    "import warnings\n",
    "import h5py\n",
    "from scipy.stats import pearsonr\n",
    "import statsmodels.stats.multitest as smm\n",
    "import gzip\n",
    "import pandas as pd\n",
    "\n",
    "mean_features = {}\n",
    "with h5py.File(GTEx_directory + '/data/intermediate/new_retrained_inceptionet_aggregations.hdf5','r') as f:\n",
    "    expression = f['lung']['256']['expression'].value\n",
    "    donor_IDs = f['lung']['256']['donor_IDs'].value\n",
    "    for s in ['128','256','512','1024','2048']:\n",
    "        size_mean_features = f['lung'][s]['mean'].value\n",
    "        mean_features[s] = size_mean_features\n",
    "        \n",
    "        \n",
    "    expression_IDs = f['lung']['256']['expression_IDs'].value\n",
    "\n",
    "most_expressed_transcript_idx, most_varying_feature_idx, results = pickle.load(open(GTEx_directory + '/data/intermediate/retrained_quick_pvalues.py','rb'))\n",
    "\n",
    "filt_expression = expression[:,most_expressed_transcript_idx]\n",
    "filt_features = mean_features['256'][:,most_varying_feature_idx]\n",
    "\n",
    "phenotype_filepath = '/nfs/research2/stegle/stegle_secure/GTEx/download/49139/PhenoGenotypeFiles/RootStudyConsentSet_phs000424.GTEx.v6.p1.c1.GRU/PhenotypeFiles/phs000424.v6.pht002743.v6.p1.c1.GTEx_Sample_Attributes.GRU.txt.gz'\n",
    "with gzip.open(phenotype_filepath, 'rb') as f:\n",
    "    phenotype_array = [str(x, 'utf-8').split('\\t') for x in f.read().splitlines() if not str(x, 'utf-8').startswith('#')][1:]\n",
    "    phenotype_df = pd.DataFrame(phenotype_array)\n",
    "    phenotype_df.columns = phenotype_df.iloc[0]\n",
    "    phenotype_df = phenotype_df[1:]\n",
    "\n",
    "lung_df = phenotype_df[phenotype_df['SMTSD'] == 'Lung']\n",
    "phenotype_idx = [[x.split('-')[1] for x in lung_df['SAMPID']].index(ID) for ID in [x.decode('utf-8').split('-')[1] for x in donor_IDs]]\n",
    "\n",
    "\n",
    "lung_df = phenotype_df[phenotype_df['SMTSD'] == 'Lung']\n",
    "lung_df = lung_df.iloc[phenotype_idx,:]\n",
    "\n",
    "filt_tech_expression =  filt_expression[technical_idx,:]\n",
    "filt_tech_features =  filt_features[technical_idx,:]\n",
    "print (\"Filtered technical features:\")\n",
    "print (filt_tech_expression.shape, filt_tech_features.shape)"
   ]
  },
  {
   "cell_type": "code",
   "execution_count": 780,
   "metadata": {},
   "outputs": [
    {
     "data": {
      "image/png": "[encoded data removed]",
      "text/plain": [
       "<matplotlib.figure.Figure at 0x2b9d2b40f860>"
      ]
     },
     "metadata": {},
     "output_type": "display_data"
    }
   ],
   "source": [
    "plt.hist(results['mean_256_pvalues'].flatten(),bins=100)\n",
    "plt.show()"
   ]
  },
  {
   "cell_type": "markdown",
   "metadata": {},
   "source": [
    "This results in 76 covariates for each of the 274 lung samples."
   ]
  },
  {
   "cell_type": "markdown",
   "metadata": {},
   "source": [
    "We define our function to again estimate the inflation parameter, $\\lambda$."
   ]
  },
  {
   "cell_type": "code",
   "execution_count": 597,
   "metadata": {
    "collapsed": true
   },
   "outputs": [],
   "source": [
    "import scipy.stats as st\n",
    "import scipy as sp\n",
    "def estimate_lambda(pv):\n",
    "    \"\"\"estimate lambda form a set of PV\"\"\"\n",
    "    LOD2 = sp.median(st.chi2.isf(pv, 1))\n",
    "    null_median = st.chi2.median(1)\n",
    "    L = (LOD2 / null_median)\n",
    "    return (L)"
   ]
  },
  {
   "cell_type": "markdown",
   "metadata": {},
   "source": [
    "We take only the samples for which we have technical factors. "
   ]
  },
  {
   "cell_type": "code",
   "execution_count": 598,
   "metadata": {
    "collapsed": true
   },
   "outputs": [],
   "source": [
    "clean_lung_df = pd.DataFrame()\n",
    "for col in lung_df.columns:\n",
    "    clean_factor = pd.to_numeric(lung_df[col],errors='coerce')\n",
    "    clean_lung_df[col] = clean_factor\n",
    "    \n",
    "\n",
    "clean_lung_df = clean_lung_df.dropna(how='all',axis=1)\n",
    "technical_idx = np.array(clean_lung_df.isnull().sum(axis=1) == 0)\n",
    "clean_lung_df = clean_lung_df.dropna(how='any',axis=0)\n",
    "raw_technical_covariates = np.array(clean_lung_df)\n",
    "filter_technical_cov_idx = np.std(raw_technical_covariates,axis=0) < 100\n",
    "raw_technical_covariates = raw_technical_covariates[:,filter_technical_cov_idx]"
   ]
  },
  {
   "cell_type": "markdown",
   "metadata": {},
   "source": [
    "This results in a total of 231 samples. We also ensure that we take technical factors with limited variance (< 100), this results in 29 continuous technical factors."
   ]
  },
  {
   "cell_type": "code",
   "execution_count": 599,
   "metadata": {},
   "outputs": [
    {
     "name": "stdout",
     "output_type": "stream",
     "text": [
      "Raw features:\n",
      "(274, 1024) (274, 28683)\n",
      "Filtered features:\n",
      "(274, 200) (274, 100)\n",
      "Technical factors:\n",
      "(231, 29)\n"
     ]
    }
   ],
   "source": [
    "print (\"Raw features:\")\n",
    "print (mean_features['256'].shape, expression.shape)\n",
    "print (\"Filtered features:\")\n",
    "print (filt_expression.shape, filt_features.shape)\n",
    "print (\"Technical factors:\")\n",
    "print (raw_technical_covariates.shape)"
   ]
  },
  {
   "cell_type": "markdown",
   "metadata": {},
   "source": [
    "Here are the names of the different technical factors we have included. Here are some example descriptions:\n",
    "* SMATSSCR: Autolysis score\n",
    "* SMRIN: RNA degradation (RIN) number\n",
    "* SMTSISCH: Ischemic time"
   ]
  },
  {
   "cell_type": "code",
   "execution_count": 578,
   "metadata": {
    "scrolled": true
   },
   "outputs": [
    {
     "data": {
      "text/plain": [
       "Index(['dbGaP_Sample_ID', 'SMATSSCR', 'SMRIN', 'SMUBRID', 'SMTSISCH',\n",
       "       'SMTSPAX', 'SME2MPRT', 'SMCHMPRS', 'SMNTRART', 'SMNUMGPS', 'SMMAPRT',\n",
       "       'SMEXNCRT', 'SM550NRM', 'SMGNSDTC', 'SMUNMPRT', 'SM350NRM', 'SMRDLGTH',\n",
       "       'SMMNCPB', 'SME1MMRT', 'SMSFLGTH', 'SMESTLBS', 'SMMPPD', 'SMNTERRT',\n",
       "       'SMRRNANM', 'SMRDTTL', 'SMVQCFL', 'SMMNCV', 'SMTRSCPT', 'SMMPPDPR',\n",
       "       'SMCGLGTH', 'SMGAPPCT', 'SMUNPDRD', 'SMNTRNRT', 'SMMPUNRT', 'SMEXPEFF',\n",
       "       'SMMPPDUN', 'SME2MMRT', 'SME2ANTI', 'SMALTALG', 'SME2SNSE', 'SMMFLGTH',\n",
       "       'SME1ANTI', 'SMSPLTRD', 'SMBSMMRT', 'SME1SNSE', 'SME1PCTS', 'SMRRNART',\n",
       "       'SME1MPRT', 'SMNUM5CD', 'SMDPMPRT', 'SME2PCTS'],\n",
       "      dtype='object')"
      ]
     },
     "execution_count": 578,
     "metadata": {},
     "output_type": "execute_result"
    }
   ],
   "source": [
    "clean_lung_df.columns"
   ]
  },
  {
   "cell_type": "markdown",
   "metadata": {},
   "source": [
    "This histogram shows the standard deviations of the technical covariates we have chosen to look at. Note that there are technical factors that still vary a great deal."
   ]
  },
  {
   "cell_type": "code",
   "execution_count": 580,
   "metadata": {},
   "outputs": [
    {
     "data": {
      "image/png": "[encoded data removed]",
      "text/plain": [
       "<matplotlib.figure.Figure at 0x2b9d1b4e8f98>"
      ]
     },
     "metadata": {},
     "output_type": "display_data"
    }
   ],
   "source": [
    "plt.hist(raw_technical_covariates.std(axis=0),bins=100)\n",
    "plt.show()"
   ]
  },
  {
   "cell_type": "markdown",
   "metadata": {},
   "source": [
    "Take the first 20 PCs of the expression matrix."
   ]
  },
  {
   "cell_type": "markdown",
   "metadata": {
    "collapsed": true
   },
   "source": [
    "We would like to investigate how including these known technical covariates impact the analysis. "
   ]
  },
  {
   "cell_type": "code",
   "execution_count": 780,
   "metadata": {},
   "outputs": [
    {
     "data": {
      "image/png": "[encoded data removed]",
      "text/plain": [
       "<matplotlib.figure.Figure at 0x2b9d2b40f860>"
      ]
     },
     "metadata": {},
     "output_type": "display_data"
    }
   ],
   "source": [
    "plt.hist(results['mean_256_pvalues'].flatten(),bins=100)\n",
    "plt.show()"
   ]
  },
  {
   "cell_type": "markdown",
   "metadata": {},
   "source": [
    "This results in 76 covariates for each of the 274 lung samples."
   ]
  },
  {
   "cell_type": "markdown",
   "metadata": {},
   "source": [
    "We define our function to again estimate the inflation parameter, $\\lambda$."
   ]
  },
  {
   "cell_type": "code",
   "execution_count": 597,
   "metadata": {
    "collapsed": true
   },
   "outputs": [],
   "source": [
    "import scipy.stats as st\n",
    "import scipy as sp\n",
    "def estimate_lambda(pv):\n",
    "    \"\"\"estimate lambda form a set of PV\"\"\"\n",
    "    LOD2 = sp.median(st.chi2.isf(pv, 1))\n",
    "    null_median = st.chi2.median(1)\n",
    "    L = (LOD2 / null_median)\n",
    "    return (L)"
   ]
  },
  {
   "cell_type": "markdown",
   "metadata": {},
   "source": [
    "We take only the samples for which we have technical factors. "
   ]
  },
  {
   "cell_type": "code",
   "execution_count": 598,
   "metadata": {
    "collapsed": true
   },
   "outputs": [],
   "source": [
    "clean_lung_df = pd.DataFrame()\n",
    "for col in lung_df.columns:\n",
    "    clean_factor = pd.to_numeric(lung_df[col],errors='coerce')\n",
    "    clean_lung_df[col] = clean_factor\n",
    "    \n",
    "\n",
    "clean_lung_df = clean_lung_df.dropna(how='all',axis=1)\n",
    "technical_idx = np.array(clean_lung_df.isnull().sum(axis=1) == 0)\n",
    "clean_lung_df = clean_lung_df.dropna(how='any',axis=0)\n",
    "raw_technical_covariates = np.array(clean_lung_df)\n",
    "filter_technical_cov_idx = np.std(raw_technical_covariates,axis=0) < 100\n",
    "raw_technical_covariates = raw_technical_covariates[:,filter_technical_cov_idx]"
   ]
  },
  {
   "cell_type": "markdown",
   "metadata": {},
   "source": [
    "This results in a total of 231 samples. We also ensure that we take technical factors with limited variance (< 100), this results in 29 continuous technical factors."
   ]
  },
  {
   "cell_type": "code",
   "execution_count": 599,
   "metadata": {},
   "outputs": [
    {
     "name": "stdout",
     "output_type": "stream",
     "text": [
      "Raw features:\n",
      "(274, 1024) (274, 28683)\n",
      "Filtered features:\n",
      "(274, 200) (274, 100)\n",
      "Technical factors:\n",
      "(231, 29)\n"
     ]
    }
   ],
   "source": [
    "print (\"Raw features:\")\n",
    "print (mean_features['256'].shape, expression.shape)\n",
    "print (\"Filtered features:\")\n",
    "print (filt_expression.shape, filt_features.shape)\n",
    "print (\"Technical factors:\")\n",
    "print (raw_technical_covariates.shape)"
   ]
  },
  {
   "cell_type": "markdown",
   "metadata": {},
   "source": [
    "Here are the names of the different technical factors we have included. Here are some example descriptions:\n",
    "* SMATSSCR: Autolysis score\n",
    "* SMRIN: RNA degradation (RIN) number\n",
    "* SMTSISCH: Ischemic time"
   ]
  },
  {
   "cell_type": "code",
   "execution_count": 578,
   "metadata": {
    "scrolled": true
   },
   "outputs": [
    {
     "data": {
      "text/plain": [
       "Index(['dbGaP_Sample_ID', 'SMATSSCR', 'SMRIN', 'SMUBRID', 'SMTSISCH',\n",
       "       'SMTSPAX', 'SME2MPRT', 'SMCHMPRS', 'SMNTRART', 'SMNUMGPS', 'SMMAPRT',\n",
       "       'SMEXNCRT', 'SM550NRM', 'SMGNSDTC', 'SMUNMPRT', 'SM350NRM', 'SMRDLGTH',\n",
       "       'SMMNCPB', 'SME1MMRT', 'SMSFLGTH', 'SMESTLBS', 'SMMPPD', 'SMNTERRT',\n",
       "       'SMRRNANM', 'SMRDTTL', 'SMVQCFL', 'SMMNCV', 'SMTRSCPT', 'SMMPPDPR',\n",
       "       'SMCGLGTH', 'SMGAPPCT', 'SMUNPDRD', 'SMNTRNRT', 'SMMPUNRT', 'SMEXPEFF',\n",
       "       'SMMPPDUN', 'SME2MMRT', 'SME2ANTI', 'SMALTALG', 'SME2SNSE', 'SMMFLGTH',\n",
       "       'SME1ANTI', 'SMSPLTRD', 'SMBSMMRT', 'SME1SNSE', 'SME1PCTS', 'SMRRNART',\n",
       "       'SME1MPRT', 'SMNUM5CD', 'SMDPMPRT', 'SME2PCTS'],\n",
       "      dtype='object')"
      ]
     },
     "execution_count": 578,
     "metadata": {},
     "output_type": "execute_result"
    }
   ],
   "source": [
    "clean_lung_df.columns"
   ]
  },
  {
   "cell_type": "markdown",
   "metadata": {},
   "source": [
    "This histogram shows the standard deviations of the technical covariates we have chosen to look at. Note that there are technical factors that still vary a great deal."
   ]
  },
  {
   "cell_type": "code",
   "execution_count": 580,
   "metadata": {},
   "outputs": [
    {
     "data": {
      "image/png": "[encoded data removed]",
      "text/plain": [
       "<matplotlib.figure.Figure at 0x2b9d1b4e8f98>"
      ]
     },
     "metadata": {},
     "output_type": "display_data"
    }
   ],
   "source": [
    "plt.hist(raw_technical_covariates.std(axis=0),bins=100)\n",
    "plt.show()"
   ]
  },
  {
   "cell_type": "markdown",
   "metadata": {},
   "source": [
    "Take the first 20 PCs of the expression matrix."
   ]
  },
  {
   "cell_type": "markdown",
   "metadata": {
    "collapsed": true
   },
   "source": [
    "We would like to investigate how including these known technical covariates impact the analysis. "
   ]
  },
  {
   "cell_type": "code",
   "execution_count": null,
   "metadata": {
    "collapsed": true
   },
   "outputs": [],
   "source": [
    "pvalue_results = {}"
   ]
  },
  {
   "cell_type": "code",
   "execution_count": null,
   "metadata": {
    "collapsed": true
   },
   "outputs": [],
   "source": [
    "pvalue_results = {}"
   ]
  },
  {
   "cell_type": "markdown",
   "metadata": {},
   "source": [
    "1. No cov parameter\n",
    "2. 29 technical factors as cov parameter\n",
    "3. 20 PC components as cov parameter\n",
    "4. 20 PCs + 29 technical factors as cov parameter"
   ]
  },
  {
   "cell_type": "code",
   "execution_count": 600,
   "metadata": {
    "collapsed": true
   },
   "outputs": [],
   "source": [
    "from sklearn.decomposition import PCA\n",
    "pca = PCA(n_components=20)\n",
    "pca_expression = pca.fit_transform(expression)"
   ]
  },
  {
   "cell_type": "code",
   "execution_count": 846,
   "metadata": {},
   "outputs": [
    {
     "data": {
      "text/plain": [
       "(231, 21)"
      ]
     },
     "execution_count": 846,
     "metadata": {},
     "output_type": "execute_result"
    }
   ],
   "source": [
    "pca_covariates.shape"
   ]
  },
  {
   "cell_type": "code",
   "execution_count": 844,
   "metadata": {},
   "outputs": [
    {
     "data": {
      "text/plain": [
       "(231, 50)"
      ]
     },
     "execution_count": 844,
     "metadata": {},
     "output_type": "execute_result"
    }
   ],
   "source": [
    "np.hstack([pca_covariates, raw_technical_covariates]).shape"
   ]
  },
  {
   "cell_type": "code",
   "execution_count": 678,
   "metadata": {},
   "outputs": [
    {
     "name": "stdout",
     "output_type": "stream",
     "text": [
      "0 3.73688944142 1.36613025456 1.80748845551 2.44427865077\n",
      "10 10.7134964061 4.85926910717 1.78892463032 2.2352341152\n",
      "20 6.50071041449 2.17914364798 2.47411391018 2.32712941172\n",
      "30 4.73560429028 1.65691255132 2.46887640124 2.72839904426\n",
      "40 8.62348542576 4.10333518817 1.54183282284 1.54295547312\n",
      "50 1.55795154534 1.80363968436 1.1368550962 1.44246229062\n",
      "60 8.95118358183 3.8284880359 2.74818135065 2.66668328236\n",
      "70 9.35435673122 3.71166452752 1.59707094936 1.75258668597\n",
      "80 3.26833717286 2.32122236038 2.41168137505 2.83900991922\n",
      "90 7.507732478 1.78325311987 3.33953467138 2.46586508977\n"
     ]
    }
   ],
   "source": [
    "from limix.qtl import qtl_test_lmm\n",
    "from limix.plot import qqplot\n",
    "\n",
    "pca_covariates = np.ones((sum(technical_idx),21))\n",
    "pca_covariates[:,1:] = pca_expression[technical_idx]\n",
    "\n",
    "technical_pvalues = {}\n",
    "technical_and_pca_pvalues = {}\n",
    "raw_pvalues = {}\n",
    "pca_pvalues = {}\n",
    "\n",
    "for f in range(100):\n",
    "    single_feature = filt_tech_features[:,f].copy()\n",
    "    technical_res = qtl_test_lmm(single_feature, filt_tech_expression.astype(float),covs=raw_technical_covariates)\n",
    "    pca_res = qtl_test_lmm(single_feature, filt_tech_expression.astype(float),covs=pca_covariates)\n",
    "    technical_and_pca_res = qtl_test_lmm(single_feature, filt_tech_expression.astype(float),covs=np.hstack([pca_covariates, raw_technical_covariates]))\n",
    "    raw_res = qtl_test_lmm(single_feature, filt_tech_expression.astype(float))\n",
    "    \n",
    "    t_pvalues = technical_res.getPv().flatten()\n",
    "    r_pvalues = raw_res.getPv().flatten()\n",
    "    tp_pvalues = technical_and_pca_res.getPv().flatten()\n",
    "    p_pvalues = pca_res.getPv().flatten()\n",
    "\n",
    "    \n",
    "    technical_pvalues[f] = t_pvalues\n",
    "    raw_pvalues[f] = r_pvalues\n",
    "    pca_pvalues[f] = p_pvalues\n",
    "    technical_and_pca_pvalues[f] = tp_pvalues\n",
    "    \n",
    "    if f % 10 == 0:\n",
    "        print (f,estimate_lambda(r_pvalues),estimate_lambda(t_pvalues), estimate_lambda(p_pvalues), estimate_lambda(tp_pvalues) )"
   ]
  },
  {
   "cell_type": "code",
   "execution_count": 682,
   "metadata": {
    "collapsed": true
   },
   "outputs": [],
   "source": [
    "full_technical_pvalues = []\n",
    "full_technical_and_pca_pvalues = []\n",
    "full_raw_pvalues = []\n",
    "full_pca_pvalues = []\n",
    "\n",
    "for f in range(100):\n",
    "    full_technical_pvalues.extend(technical_pvalues[f].tolist())\n",
    "    full_raw_pvalues.extend(raw_pvalues[f].tolist())\n",
    "    full_pca_pvalues.extend(pca_pvalues[f].tolist())\n",
    "    full_technical_and_pca_pvalues.extend(technical_and_pca_pvalues[f].tolist())"
   ]
  },
  {
   "cell_type": "code",
   "execution_count": 759,
   "metadata": {
    "scrolled": true
   },
   "outputs": [
    {
     "name": "stderr",
     "output_type": "stream",
     "text": [
      "/nfs/gns/homes/willj/anaconda3/envs/GTEx/lib/python3.5/site-packages/numpy/lib/scimath.py:120: RuntimeWarning: invalid value encountered in less\n",
      "  if any(isreal(x) & (x < 0)):\n"
     ]
    },
    {
     "data": {
      "text/plain": [
       "<matplotlib.axes._subplots.AxesSubplot at 0x2b9d25857da0>"
      ]
     },
     "execution_count": 759,
     "metadata": {},
     "output_type": "execute_result"
    },
    {
     "data": {
      "image/png": "[encoded data removed]",
      "text/plain": [
       "<matplotlib.figure.Figure at 0x2b9d25f5ad68>"
      ]
     },
     "metadata": {},
     "output_type": "display_data"
    }
   ],
   "source": [
    "qqplot(np.array(full_technical_pvalues))\n",
    "qqplot(np.array(full_technical_and_pca_pvalues))\n",
    "qqplot(np.array(full_raw_pvalues))\n",
    "qqplot(np.array(full_pca_pvalues))"
   ]
  },
  {
   "cell_type": "markdown",
   "metadata": {},
   "source": [
    "Calculating p-values using lim with using different covariance sets:\n",
    "* red - raw. $\\lambda = 4.71$\n",
    "* blue - 29 technical factors. $\\lambda = 2.57$\n",
    "* green - 20 PC componenets. $\\lambda = 1.53$\n",
    "* purple - 20 PCs + 29 technical factors. $\\lambda = 1.76$"
   ]
  },
  {
   "cell_type": "code",
   "execution_count": 790,
   "metadata": {},
   "outputs": [
    {
     "name": "stdout",
     "output_type": "stream",
     "text": [
      "5.08505917487\n",
      "2.75811323967\n",
      "1.61946494585\n",
      "1.87844375679\n"
     ]
    }
   ],
   "source": [
    "print (estimate_lambda(np.array(full_raw_pvalues)[np.array(full_raw_pvalues) < 1]))\n",
    "print (estimate_lambda(np.array(full_technical_pvalues)[np.array(full_technical_pvalues) < 1]))\n",
    "print (estimate_lambda(np.array(full_pca_pvalues)[np.array(full_pca_pvalues) < 1]))\n",
    "print (estimate_lambda(np.array(full_technical_and_pca_pvalues)[np.array(full_technical_and_pca_pvalues) < 1]))"
   ]
  },
  {
   "cell_type": "code",
   "execution_count": 791,
   "metadata": {},
   "outputs": [
    {
     "name": "stdout",
     "output_type": "stream",
     "text": [
      "4323\n",
      "1357\n",
      "104\n",
      "77\n"
     ]
    }
   ],
   "source": [
    "print (sum(smm.multipletests(np.array(full_raw_pvalues),method='fdr_bh',alpha=0.01)[0]))\n",
    "print (sum(smm.multipletests(np.array(full_technical_pvalues),method='fdr_bh',alpha=0.01)[0]))\n",
    "print (sum(smm.multipletests(np.array(full_pca_pvalues),method='fdr_bh',alpha=0.01)[0]))\n",
    "print (sum(smm.multipletests(np.array(full_technical_and_pca_pvalues),method='fdr_bh',alpha=0.01)[0]))\n"
   ]
  },
  {
   "cell_type": "code",
   "execution_count": 850,
   "metadata": {},
   "outputs": [
    {
     "name": "stdout",
     "output_type": "stream",
     "text": [
      "1907\n",
      "6\n"
     ]
    }
   ],
   "source": [
    "print (sum(smm.multipletests(np.array(full_raw_pvalues),method='bonf',alpha=0.01)[0]))\n",
    "print (sum(smm.multipletests(np.array(full_technical_and_pca_pvalues),method='bonf',alpha=0.01)[0]))"
   ]
  },
  {
   "cell_type": "markdown",
   "metadata": {},
   "source": [
    "We can see that the much of the inflation disappears when using the first 20 PCs as covariates. There is not much difference when then including the technical factors."
   ]
  },
  {
   "cell_type": "markdown",
   "metadata": {},
   "source": [
    "# How does this change when using different numbers of PCs?"
   ]
  },
  {
   "cell_type": "code",
   "execution_count": 606,
   "metadata": {
    "collapsed": true
   },
   "outputs": [],
   "source": [
    "from sklearn.decomposition import PCA\n",
    "pca = PCA(n_components=20)\n",
    "pca_expression = pca.fit_transform(expression)\n",
    "\n",
    "pca_covariates = np.ones(shape=(len(phenotype_idx),21))\n",
    "pca_covariates[:,1:] = pca_expression"
   ]
  },
  {
   "cell_type": "code",
   "execution_count": 851,
   "metadata": {},
   "outputs": [
    {
     "name": "stdout",
     "output_type": "stream",
     "text": [
      "(231, 21)\n"
     ]
    }
   ],
   "source": [
    "print (pca_covariates.shape)"
   ]
  },
  {
   "cell_type": "code",
   "execution_count": 608,
   "metadata": {},
   "outputs": [
    {
     "name": "stdout",
     "output_type": "stream",
     "text": [
      "0 2.61011822323\n",
      "1 2.45640707069\n",
      "2 2.35283520603\n",
      "3 1.72723805151\n",
      "4 1.76075013684\n",
      "5 1.65674416009\n",
      "6 1.67749756037\n",
      "7 1.72823053394\n",
      "8 1.68459614238\n",
      "9 1.71881789142\n",
      "10 1.60821788616\n",
      "11 1.63787424924\n",
      "12 1.53902719261\n",
      "13 1.53092602898\n",
      "14 1.50275431314\n",
      "15 1.47314213856\n",
      "16 1.48789357744\n",
      "17 1.4380809707\n",
      "18 1.47569962002\n",
      "19 1.51882083761\n"
     ]
    }
   ],
   "source": [
    "from limix.qtl import qtl_test_lmm\n",
    "lambdas = []\n",
    "full_pvalues = {}\n",
    "for pc in range(20):\n",
    "    pca_pvalues = {}\n",
    "\n",
    "    for f in range(100):\n",
    "        single_feature = filt_features[:,f].copy()\n",
    "        \n",
    "        pca_res = qtl_test_lmm(single_feature, filt_expression.astype(float),covs=pca_covariates[:,:pc+1])\n",
    "        p_pvalues = pca_res.getPv().flatten()\n",
    "        pca_pvalues[f] = p_pvalues\n",
    "\n",
    "\n",
    "    full_pca_pvalues = []\n",
    "    for f in range(100):\n",
    "        full_pca_pvalues.extend(pca_pvalues[f].tolist())\n",
    "    lamb = estimate_lambda(full_pca_pvalues)\n",
    "    lambdas.append(lamb)\n",
    "    full_pvalues[pc] = full_pca_pvalues \n",
    "    print (pc,lamb)"
   ]
  },
  {
   "cell_type": "code",
   "execution_count": 610,
   "metadata": {},
   "outputs": [
    {
     "data": {
      "text/plain": [
       "<matplotlib.text.Text at 0x2b9d25a8cfd0>"
      ]
     },
     "execution_count": 610,
     "metadata": {},
     "output_type": "execute_result"
    },
    {
     "data": {
      "image/png": "[encoded data removed]",
      "text/plain": [
       "<matplotlib.figure.Figure at 0x2b9d25a99860>"
      ]
     },
     "metadata": {},
     "output_type": "display_data"
    }
   ],
   "source": [
    "plt.plot(lambdas)\n",
    "plt.title(\"Lambda vs number of PCs used as covariates\")\n",
    "plt.xlabel(\"PCs\")\n",
    "plt.ylabel(\"Lambda\")"
   ]
  },
  {
   "cell_type": "markdown",
   "metadata": {},
   "source": [
    "There seems to be a minimum at 20 PCs with lambda ~ 1."
   ]
  },
  {
   "cell_type": "code",
   "execution_count": 611,
   "metadata": {
    "scrolled": true
   },
   "outputs": [
    {
     "name": "stderr",
     "output_type": "stream",
     "text": [
      "/nfs/gns/homes/willj/anaconda3/envs/GTEx/lib/python3.5/site-packages/numpy/lib/scimath.py:120: RuntimeWarning: invalid value encountered in less\n",
      "  if any(isreal(x) & (x < 0)):\n"
     ]
    },
    {
     "data": {
      "image/png": "[encoded data removed]",
      "text/plain": [
       "<matplotlib.figure.Figure at 0x2b9d25b31240>"
      ]
     },
     "metadata": {},
     "output_type": "display_data"
    }
   ],
   "source": [
    "for pc in range(20):\n",
    "    qqplot(np.array(full_pvalues[pc]))"
   ]
  },
  {
   "cell_type": "markdown",
   "metadata": {},
   "source": [
    "1. No cov parameter\n",
    "2. 29 technical factors as cov parameter\n",
    "3. 20 PC components as cov parameter\n",
    "4. 20 PCs + 29 technical factors as cov parameter"
   ]
  },
  {
   "cell_type": "code",
   "execution_count": 600,
   "metadata": {
    "collapsed": true
   },
   "outputs": [],
   "source": [
    "from sklearn.decomposition import PCA\n",
    "pca = PCA(n_components=20)\n",
    "pca_expression = pca.fit_transform(expression)"
   ]
  },
  {
   "cell_type": "code",
   "execution_count": 846,
   "metadata": {},
   "outputs": [
    {
     "data": {
      "text/plain": [
       "(231, 21)"
      ]
     },
     "execution_count": 846,
     "metadata": {},
     "output_type": "execute_result"
    }
   ],
   "source": [
    "pca_covariates.shape"
   ]
  },
  {
   "cell_type": "code",
   "execution_count": 844,
   "metadata": {},
   "outputs": [
    {
     "data": {
      "text/plain": [
       "(231, 50)"
      ]
     },
     "execution_count": 844,
     "metadata": {},
     "output_type": "execute_result"
    }
   ],
   "source": [
    "np.hstack([pca_covariates, raw_technical_covariates]).shape"
   ]
  },
  {
   "cell_type": "code",
   "execution_count": 678,
   "metadata": {},
   "outputs": [
    {
     "name": "stdout",
     "output_type": "stream",
     "text": [
      "0 3.73688944142 1.36613025456 1.80748845551 2.44427865077\n",
      "10 10.7134964061 4.85926910717 1.78892463032 2.2352341152\n",
      "20 6.50071041449 2.17914364798 2.47411391018 2.32712941172\n",
      "30 4.73560429028 1.65691255132 2.46887640124 2.72839904426\n",
      "40 8.62348542576 4.10333518817 1.54183282284 1.54295547312\n",
      "50 1.55795154534 1.80363968436 1.1368550962 1.44246229062\n",
      "60 8.95118358183 3.8284880359 2.74818135065 2.66668328236\n",
      "70 9.35435673122 3.71166452752 1.59707094936 1.75258668597\n",
      "80 3.26833717286 2.32122236038 2.41168137505 2.83900991922\n",
      "90 7.507732478 1.78325311987 3.33953467138 2.46586508977\n"
     ]
    }
   ],
   "source": [
    "from limix.qtl import qtl_test_lmm\n",
    "from limix.plot import qqplot\n",
    "\n",
    "pca_covariates = np.ones((sum(technical_idx),21))\n",
    "pca_covariates[:,1:] = pca_expression[technical_idx]\n",
    "\n",
    "technical_pvalues = {}\n",
    "technical_and_pca_pvalues = {}\n",
    "raw_pvalues = {}\n",
    "pca_pvalues = {}\n",
    "\n",
    "for f in range(100):\n",
    "    single_feature = filt_tech_features[:,f].copy()\n",
    "    technical_res = qtl_test_lmm(single_feature, filt_tech_expression.astype(float),covs=raw_technical_covariates)\n",
    "    pca_res = qtl_test_lmm(single_feature, filt_tech_expression.astype(float),covs=pca_covariates)\n",
    "    technical_and_pca_res = qtl_test_lmm(single_feature, filt_tech_expression.astype(float),covs=np.hstack([pca_covariates, raw_technical_covariates]))\n",
    "    raw_res = qtl_test_lmm(single_feature, filt_tech_expression.astype(float))\n",
    "    \n",
    "    t_pvalues = technical_res.getPv().flatten()\n",
    "    r_pvalues = raw_res.getPv().flatten()\n",
    "    tp_pvalues = technical_and_pca_res.getPv().flatten()\n",
    "    p_pvalues = pca_res.getPv().flatten()\n",
    "\n",
    "    \n",
    "    technical_pvalues[f] = t_pvalues\n",
    "    raw_pvalues[f] = r_pvalues\n",
    "    pca_pvalues[f] = p_pvalues\n",
    "    technical_and_pca_pvalues[f] = tp_pvalues\n",
    "    \n",
    "    if f % 10 == 0:\n",
    "        print (f,estimate_lambda(r_pvalues),estimate_lambda(t_pvalues), estimate_lambda(p_pvalues), estimate_lambda(tp_pvalues) )"
   ]
  },
  {
   "cell_type": "code",
   "execution_count": 682,
   "metadata": {
    "collapsed": true
   },
   "outputs": [],
   "source": [
    "full_technical_pvalues = []\n",
    "full_technical_and_pca_pvalues = []\n",
    "full_raw_pvalues = []\n",
    "full_pca_pvalues = []\n",
    "\n",
    "for f in range(100):\n",
    "    full_technical_pvalues.extend(technical_pvalues[f].tolist())\n",
    "    full_raw_pvalues.extend(raw_pvalues[f].tolist())\n",
    "    full_pca_pvalues.extend(pca_pvalues[f].tolist())\n",
    "    full_technical_and_pca_pvalues.extend(technical_and_pca_pvalues[f].tolist())"
   ]
  },
  {
   "cell_type": "code",
   "execution_count": 759,
   "metadata": {
    "scrolled": true
   },
   "outputs": [
    {
     "name": "stderr",
     "output_type": "stream",
     "text": [
      "/nfs/gns/homes/willj/anaconda3/envs/GTEx/lib/python3.5/site-packages/numpy/lib/scimath.py:120: RuntimeWarning: invalid value encountered in less\n",
      "  if any(isreal(x) & (x < 0)):\n"
     ]
    },
    {
     "data": {
      "text/plain": [
       "<matplotlib.axes._subplots.AxesSubplot at 0x2b9d25857da0>"
      ]
     },
     "execution_count": 759,
     "metadata": {},
     "output_type": "execute_result"
    },
    {
     "data": {
      "image/png": "[encoded data removed]",
      "text/plain": [
       "<matplotlib.figure.Figure at 0x2b9d25f5ad68>"
      ]
     },
     "metadata": {},
     "output_type": "display_data"
    }
   ],
   "source": [
    "qqplot(np.array(full_technical_pvalues))\n",
    "qqplot(np.array(full_technical_and_pca_pvalues))\n",
    "qqplot(np.array(full_raw_pvalues))\n",
    "qqplot(np.array(full_pca_pvalues))"
   ]
  },
  {
   "cell_type": "markdown",
   "metadata": {},
   "source": [
    "Calculating p-values using lim with using different covariance sets:\n",
    "* red - raw. $\\lambda = 4.71$\n",
    "* blue - 29 technical factors. $\\lambda = 2.57$\n",
    "* green - 20 PC componenets. $\\lambda = 1.53$\n",
    "* purple - 20 PCs + 29 technical factors. $\\lambda = 1.76$"
   ]
  },
  {
   "cell_type": "code",
   "execution_count": 790,
   "metadata": {},
   "outputs": [
    {
     "name": "stdout",
     "output_type": "stream",
     "text": [
      "5.08505917487\n",
      "2.75811323967\n",
      "1.61946494585\n",
      "1.87844375679\n"
     ]
    }
   ],
   "source": [
    "print (estimate_lambda(np.array(full_raw_pvalues)[np.array(full_raw_pvalues) < 1]))\n",
    "print (estimate_lambda(np.array(full_technical_pvalues)[np.array(full_technical_pvalues) < 1]))\n",
    "print (estimate_lambda(np.array(full_pca_pvalues)[np.array(full_pca_pvalues) < 1]))\n",
    "print (estimate_lambda(np.array(full_technical_and_pca_pvalues)[np.array(full_technical_and_pca_pvalues) < 1]))"
   ]
  },
  {
   "cell_type": "code",
   "execution_count": 791,
   "metadata": {},
   "outputs": [
    {
     "name": "stdout",
     "output_type": "stream",
     "text": [
      "4323\n",
      "1357\n",
      "104\n",
      "77\n"
     ]
    }
   ],
   "source": [
    "print (sum(smm.multipletests(np.array(full_raw_pvalues),method='fdr_bh',alpha=0.01)[0]))\n",
    "print (sum(smm.multipletests(np.array(full_technical_pvalues),method='fdr_bh',alpha=0.01)[0]))\n",
    "print (sum(smm.multipletests(np.array(full_pca_pvalues),method='fdr_bh',alpha=0.01)[0]))\n",
    "print (sum(smm.multipletests(np.array(full_technical_and_pca_pvalues),method='fdr_bh',alpha=0.01)[0]))\n"
   ]
  },
  {
   "cell_type": "code",
   "execution_count": 850,
   "metadata": {},
   "outputs": [
    {
     "name": "stdout",
     "output_type": "stream",
     "text": [
      "1907\n",
      "6\n"
     ]
    }
   ],
   "source": [
    "print (sum(smm.multipletests(np.array(full_raw_pvalues),method='bonf',alpha=0.01)[0]))\n",
    "print (sum(smm.multipletests(np.array(full_technical_and_pca_pvalues),method='bonf',alpha=0.01)[0]))"
   ]
  },
  {
   "cell_type": "markdown",
   "metadata": {},
   "source": [
    "We can see that the much of the inflation disappears when using the first 20 PCs as covariates. There is not much difference when then including the technical factors."
   ]
  },
  {
   "cell_type": "markdown",
   "metadata": {},
   "source": [
    "# How does this change when using different numbers of PCs?"
   ]
  },
  {
   "cell_type": "code",
   "execution_count": 606,
   "metadata": {
    "collapsed": true
   },
   "outputs": [],
   "source": [
    "from sklearn.decomposition import PCA\n",
    "pca = PCA(n_components=20)\n",
    "pca_expression = pca.fit_transform(expression)\n",
    "\n",
    "pca_covariates = np.ones(shape=(len(phenotype_idx),21))\n",
    "pca_covariates[:,1:] = pca_expression"
   ]
  },
  {
   "cell_type": "code",
   "execution_count": 851,
   "metadata": {},
   "outputs": [
    {
     "name": "stdout",
     "output_type": "stream",
     "text": [
      "(231, 21)\n"
     ]
    }
   ],
   "source": [
    "print (pca_covariates.shape)"
   ]
  },
  {
   "cell_type": "code",
   "execution_count": 608,
   "metadata": {},
   "outputs": [
    {
     "name": "stdout",
     "output_type": "stream",
     "text": [
      "0 2.61011822323\n",
      "1 2.45640707069\n",
      "2 2.35283520603\n",
      "3 1.72723805151\n",
      "4 1.76075013684\n",
      "5 1.65674416009\n",
      "6 1.67749756037\n",
      "7 1.72823053394\n",
      "8 1.68459614238\n",
      "9 1.71881789142\n",
      "10 1.60821788616\n",
      "11 1.63787424924\n",
      "12 1.53902719261\n",
      "13 1.53092602898\n",
      "14 1.50275431314\n",
      "15 1.47314213856\n",
      "16 1.48789357744\n",
      "17 1.4380809707\n",
      "18 1.47569962002\n",
      "19 1.51882083761\n"
     ]
    }
   ],
   "source": [
    "from limix.qtl import qtl_test_lmm\n",
    "lambdas = []\n",
    "full_pvalues = {}\n",
    "for pc in range(20):\n",
    "    pca_pvalues = {}\n",
    "\n",
    "    for f in range(100):\n",
    "        single_feature = filt_features[:,f].copy()\n",
    "        \n",
    "        pca_res = qtl_test_lmm(single_feature, filt_expression.astype(float),covs=pca_covariates[:,:pc+1])\n",
    "        p_pvalues = pca_res.getPv().flatten()\n",
    "        pca_pvalues[f] = p_pvalues\n",
    "\n",
    "\n",
    "    full_pca_pvalues = []\n",
    "    for f in range(100):\n",
    "        full_pca_pvalues.extend(pca_pvalues[f].tolist())\n",
    "    lamb = estimate_lambda(full_pca_pvalues)\n",
    "    lambdas.append(lamb)\n",
    "    full_pvalues[pc] = full_pca_pvalues \n",
    "    print (pc,lamb)"
   ]
  },
  {
   "cell_type": "code",
   "execution_count": 610,
   "metadata": {},
   "outputs": [
    {
     "data": {
      "text/plain": [
       "<matplotlib.text.Text at 0x2b9d25a8cfd0>"
      ]
     },
     "execution_count": 610,
     "metadata": {},
     "output_type": "execute_result"
    },
    {
     "data": {
      "image/png": "[encoded data removed]",
      "text/plain": [
       "<matplotlib.figure.Figure at 0x2b9d25a99860>"
      ]
     },
     "metadata": {},
     "output_type": "display_data"
    }
   ],
   "source": [
    "plt.plot(lambdas)\n",
    "plt.title(\"Lambda vs number of PCs used as covariates\")\n",
    "plt.xlabel(\"PCs\")\n",
    "plt.ylabel(\"Lambda\")"
   ]
  },
  {
   "cell_type": "markdown",
   "metadata": {},
   "source": [
    "There seems to be a minimum at 20 PCs with lambda ~ 1."
   ]
  },
  {
   "cell_type": "code",
   "execution_count": 611,
   "metadata": {
    "scrolled": true
   },
   "outputs": [
    {
     "name": "stderr",
     "output_type": "stream",
     "text": [
      "/nfs/gns/homes/willj/anaconda3/envs/GTEx/lib/python3.5/site-packages/numpy/lib/scimath.py:120: RuntimeWarning: invalid value encountered in less\n",
      "  if any(isreal(x) & (x < 0)):\n"
     ]
    },
    {
     "data": {
      "image/png": "[encoded data removed]",
      "text/plain": [
       "<matplotlib.figure.Figure at 0x2b9d25b31240>"
      ]
     },
     "metadata": {},
     "output_type": "display_data"
    }
   ],
   "source": [
    "for pc in range(20):\n",
    "    qqplot(np.array(full_pvalues[pc]))"
   ]
  },
  {
   "cell_type": "code",
   "execution_count": null,
   "metadata": {
    "collapsed": true
   },
   "outputs": [],
   "source": [
    "import os\n",
    "import sys\n",
    "sys.path = ['/nfs/gns/homes/willj/anaconda3/envs/GTEx/lib/python3.5/site-packages'] + sys.path\n",
    "GTEx_directory = '/hps/nobackup/research/stegle/users/willj/GTEx'\n",
    "import pickle\n",
    "import matplotlib.pyplot as plt\n",
    "%matplotlib inline\n",
    "import seaborn\n",
    "import numpy as np\n",
    "from limix.plot import qqplot\n",
    "import warnings\n",
    "import h5py\n",
    "from scipy.stats import pearsonr\n",
    "import statsmodels.stats.multitest as smm\n",
    "import gzip\n",
    "import pandas as pd\n",
    "\n",
    "mean_features = {}\n",
    "with h5py.File(GTEx_directory + '/data/intermediate/new_retrained_inceptionet_aggregations.hdf5','r') as f:\n",
    "    expression = f['lung']['256']['expression'].value\n",
    "    donor_IDs = f['lung']['256']['donor_IDs'].value\n",
    "    for s in ['128','256','512','1024','2048']:\n",
    "        size_mean_features = f['lung'][s]['mean'].value\n",
    "        mean_features[s] = size_mean_features\n",
    "        \n",
    "        \n",
    "    expression_IDs = f['lung']['256']['expression_IDs'].value\n",
    "\n",
    "most_expressed_transcript_idx, most_varying_feature_idx, results = pickle.load(open(GTEx_directory + '/data/intermediate/retrained_quick_pvalues.py','rb'))\n",
    "\n",
    "filt_expression = expression[:,most_expressed_transcript_idx]\n",
    "filt_features = mean_features['256'][:,most_varying_feature_idx]\n",
    "\n",
    "phenotype_filepath = '/nfs/research2/stegle/stegle_secure/GTEx/download/49139/PhenoGenotypeFiles/RootStudyConsentSet_phs000424.GTEx.v6.p1.c1.GRU/PhenotypeFiles/phs000424.v6.pht002743.v6.p1.c1.GTEx_Sample_Attributes.GRU.txt.gz'\n",
    "with gzip.open(phenotype_filepath, 'rb') as f:\n",
    "    phenotype_array = [str(x, 'utf-8').split('\\t') for x in f.read().splitlines() if not str(x, 'utf-8').startswith('#')][1:]\n",
    "    phenotype_df = pd.DataFrame(phenotype_array)\n",
    "    phenotype_df.columns = phenotype_df.iloc[0]\n",
    "    phenotype_df = phenotype_df[1:]\n",
    "\n",
    "lung_df = phenotype_df[phenotype_df['SMTSD'] == 'Lung']\n",
    "phenotype_idx = [[x.split('-')[1] for x in lung_df['SAMPID']].index(ID) for ID in [x.decode('utf-8').split('-')[1] for x in donor_IDs]]\n",
    "\n",
    "\n",
    "lung_df = phenotype_df[phenotype_df['SMTSD'] == 'Lung']\n",
    "lung_df = lung_df.iloc[phenotype_idx,:]\n",
    "\n",
    "filt_tech_expression =  filt_expression[technical_idx,:]\n",
    "filt_tech_features =  filt_features[technical_idx,:]\n",
    "print (\"Filtered technical features:\")\n",
    "print (filt_tech_expression.shape, filt_tech_features.shape)\n"
   ]
  }
 ],
 "metadata": {
  "kernelspec": {
   "display_name": "Python 3",
   "language": "python",
   "name": "python3"
  },
  "language_info": {
   "codemirror_mode": {
    "name": "ipython",
    "version": 3
   },
   "file_extension": ".py",
   "mimetype": "text/x-python",
   "name": "python",
   "nbconvert_exporter": "python",
   "pygments_lexer": "ipython3",
   "version": "3.5.2"
  },
  "nav_menu": {},
  "toc": {
   "navigate_menu": true,
   "number_sections": true,
   "sideBar": true,
   "threshold": 6,
   "toc_cell": false,
   "toc_section_display": "block",
   "toc_window_display": false
  }
 },
 "nbformat": 4,
 "nbformat_minor": 2
}
