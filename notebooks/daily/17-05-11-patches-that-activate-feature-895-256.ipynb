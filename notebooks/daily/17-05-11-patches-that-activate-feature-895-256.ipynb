{
 "cells": [
  {
   "cell_type": "markdown",
   "metadata": {},
   "source": [
    "Here I choose patches / features from 50 images, and find random patches that are contained in each centile. Each row corresponds to 10 images taken from each centile"
   ]
  },
  {
   "cell_type": "code",
   "execution_count": 1,
   "metadata": {
    "scrolled": false
   },
   "outputs": [
    {
     "name": "stdout",
     "output_type": "stream",
     "text": [
      "GTEX-13VXU-2726\n",
      "GTEX-12WSN-0626\n",
      "GTEX-13N11-0326\n",
      "GTEX-ZC5H-0926\n",
      "GTEX-1399U-0826\n",
      "GTEX-13O3Q-0526\n",
      "GTEX-RVPV-1726\n",
      "GTEX-T5JC-0826\n",
      "GTEX-WY7C-0426\n",
      "GTEX-P44H-1126\n",
      "GTEX-WRHU-0226\n",
      "GTEX-P4QT-0526\n",
      "GTEX-Q2AI-0526\n",
      "GTEX-P4QS-0526\n",
      "GTEX-11GSP-0726\n",
      "GTEX-PVOW-1026\n",
      "GTEX-ZAB5-0626\n",
      "GTEX-OOBK-0526\n",
      "GTEX-XOT4-1426\n",
      "GTEX-SNOS-0426\n"
     ]
    }
   ],
   "source": [
    "import os\n",
    "import sys\n",
    "sys.path = ['/nfs/gns/homes/willj/anaconda3/envs/GTEx/lib/python3.5/site-packages'] + sys.path\n",
    "GTEx_directory = '/hps/nobackup/research/stegle/users/willj/GTEx'\n",
    "import numpy as np\n",
    "import matplotlib.pyplot as plt\n",
    "%matplotlib inline\n",
    "import scipy\n",
    "import h5py\n",
    "\n",
    "def get_patches_in_percentile_range(percentile_range,patches,feature_vector):\n",
    "\n",
    "    \"\"\"Return the patches with in a given percentile range\"\"\"\n",
    "    \n",
    "    percentile_top = percentile_range[1]\n",
    "    percentile_bottom = percentile_range[0]\n",
    "    \n",
    "    top_limit = np.percentile(feature_vector,percentile_top)\n",
    "    bottom_limit = np.percentile(feature_vector,percentile_bottom)\n",
    "    bool_idx = np.bitwise_and(feature_vector >= bottom_limit, feature_vector <= top_limit)\n",
    "    idx = list(np.squeeze(np.argwhere(bool_idx)))\n",
    "    patches_in_percentile = [all_patches[i] for i in idx]\n",
    "    features_in_percentile = feature_vector[np.bitwise_and(feature_vector >= bottom_limit, feature_vector <= top_limit)]\n",
    "    return patches_in_percentile, features_in_percentile\n",
    "\n",
    "tissue = 'Lung'\n",
    "patch_size = 256\n",
    "feature = 895\n",
    "\n",
    "tissue_filepath = os.path.join(GTEx_directory,'data','raw',tissue)\n",
    "tissue_images = os.listdir(tissue_filepath)\n",
    "all_tissue_IDs = [x.split('.')[0] for x in tissue_images]\n",
    "\n",
    "with h5py.File(GTEx_directory + '/data/retrained_inceptionet_features.hdf5','r') as f:\n",
    "    filt_tissue_IDs = list(f['lung']['features']['512'].keys())\n",
    "\n",
    "all_patches = []\n",
    "all_features = []\n",
    "for ID in np.random.choice(filt_tissue_IDs,20):\n",
    "    print (ID)\n",
    "    \n",
    "    with h5py.File(GTEx_directory + '/data/better_covering_patches/{}_{}.hdf5'.format(ID,patch_size),'r') as f:\n",
    "        patches = list(f['patches'].value)\n",
    "        all_patches.extend(patches)\n",
    "\n",
    "    with h5py.File(GTEx_directory + '/data/retrained_inceptionet_features.hdf5','r') as f:\n",
    "        features = list(f['lung']['features'][str(patch_size)][ID].value)\n",
    "        all_features.extend(features)\n",
    "\n",
    "all_features = np.array(all_features)\n",
    "# all_patches = np.array(all_patches)"
   ]
  },
  {
   "cell_type": "code",
   "execution_count": 2,
   "metadata": {
    "scrolled": false
   },
   "outputs": [
    {
     "name": "stdout",
     "output_type": "stream",
     "text": [
      "91473\n"
     ]
    }
   ],
   "source": [
    "print (len(all_features))"
   ]
  },
  {
   "cell_type": "code",
   "execution_count": null,
   "metadata": {
    "scrolled": false
   },
   "outputs": [
    {
     "name": "stdout",
     "output_type": "stream",
     "text": [
      "[37855 44074 31619 22718 23261   984 10050 39900  5594   296]\n",
      "[37174 46185 16634 32880 48419 25705  7531 30974    54 20924]\n",
      "[  952 14912 46315 30518 38923 15055 16745 22996 28123 26286]\n",
      "[47600  2390   246 14602 36693 25758 40684  7432 34941 18219]\n",
      "[32598 34672 44381 48257 47394 30348 25645 28450  1727 22999]\n",
      "[ 5817 16765 43453 25391  1554 30547 11269   731    92 24049]\n",
      "[2151 8552 7799    5  567 2094  930 2307 8523 2304]\n",
      "[5156 6868 5287 6206  263 6559 9112 8827 3090  959]\n",
      "[4673 6844 6410 7631 2333 2746 8490 6909 7793 5003]\n",
      "[6916 2581 4633  212 6818 4547  113 2759 3550 8895]\n"
     ]
    }
   ],
   "source": [
    "feature_vector = all_features[:,feature]\n",
    "f, a = plt.subplots(10,10, figsize=(100,100))\n",
    "for i in range(0,10):\n",
    "    percentile_range = [10*i,10*(i+1)]\n",
    "    patches_in_percentile, features_in_percentile = get_patches_in_percentile_range(percentile_range,all_patches,feature_vector)\n",
    "    random_idx_in_percentile = np.random.choice(range(len(patches_in_percentile)),10)\n",
    "    print (random_idx_in_percentile)\n",
    "    random_images_in_percentile = [patches_in_percentile[k] for k in random_idx_in_percentile]\n",
    "    random_features_in_percentile = features_in_percentile[random_idx_in_percentile]\n",
    "    for j in range(10):\n",
    "        a[i][j].imshow(random_images_in_percentile[j])\n",
    "        a[i][j].set_title(random_features_in_percentile[j], size=50)"
   ]
  }
 ],
 "metadata": {
  "kernelspec": {
   "display_name": "Python 3",
   "language": "python",
   "name": "python3"
  },
  "language_info": {
   "codemirror_mode": {
    "name": "ipython",
    "version": 3
   },
   "file_extension": ".py",
   "mimetype": "text/x-python",
   "name": "python",
   "nbconvert_exporter": "python",
   "pygments_lexer": "ipython3",
   "version": "3.5.2"
  },
  "nav_menu": {},
  "toc": {
   "navigate_menu": true,
   "number_sections": true,
   "sideBar": true,
   "threshold": 6,
   "toc_cell": false,
   "toc_section_display": "block",
   "toc_window_display": false
  }
 },
 "nbformat": 4,
 "nbformat_minor": 2
}
