{
 "cells": [
  {
   "cell_type": "code",
   "execution_count": 596,
   "metadata": {},
   "outputs": [
    {
     "name": "stdout",
     "output_type": "stream",
     "text": [
      "Filtered technical features:\n",
      "(231, 200) (231, 100)\n"
     ]
    }
   ],
   "source": [
    "import os\n",
    "import sys\n",
    "sys.path = ['/nfs/gns/homes/willj/anaconda3/envs/GTEx/lib/python3.5/site-packages'] + sys.path\n",
    "GTEx_directory = '/hps/nobackup/research/stegle/users/willj/GTEx'\n",
    "import pickle\n",
    "import matplotlib.pyplot as plt\n",
    "%matplotlib inline\n",
    "import seaborn\n",
    "import numpy as np\n",
    "from limix.plot import qqplot\n",
    "import warnings\n",
    "import h5py\n",
    "from scipy.stats import pearsonr\n",
    "import statsmodels.stats.multitest as smm\n",
    "import gzip\n",
    "import pandas as pd\n",
    "\n",
    "mean_features = {}\n",
    "with h5py.File(GTEx_directory + '/data/intermediate/new_retrained_inceptionet_aggregations.hdf5','r') as f:\n",
    "    expression = f['lung']['256']['expression'].value\n",
    "    donor_IDs = f['lung']['256']['donor_IDs'].value\n",
    "    for s in ['128','256','512','1024','2048']:\n",
    "        size_mean_features = f['lung'][s]['mean'].value\n",
    "        mean_features[s] = size_mean_features\n",
    "        \n",
    "        \n",
    "    expression_IDs = f['lung']['256']['expression_IDs'].value\n",
    "\n",
    "most_expressed_transcript_idx, most_varying_feature_idx, results = pickle.load(open(GTEx_directory + '/data/intermediate/retrained_quick_pvalues.py','rb'))\n",
    "\n",
    "filt_expression = expression[:,most_expressed_transcript_idx]\n",
    "filt_features = mean_features['256'][:,most_varying_feature_idx]\n",
    "\n",
    "phenotype_filepath = '/nfs/research2/stegle/stegle_secure/GTEx/download/49139/PhenoGenotypeFiles/RootStudyConsentSet_phs000424.GTEx.v6.p1.c1.GRU/PhenotypeFiles/phs000424.v6.pht002743.v6.p1.c1.GTEx_Sample_Attributes.GRU.txt.gz'\n",
    "with gzip.open(phenotype_filepath, 'rb') as f:\n",
    "    phenotype_array = [str(x, 'utf-8').split('\\t') for x in f.read().splitlines() if not str(x, 'utf-8').startswith('#')][1:]\n",
    "    phenotype_df = pd.DataFrame(phenotype_array)\n",
    "    phenotype_df.columns = phenotype_df.iloc[0]\n",
    "    phenotype_df = phenotype_df[1:]\n",
    "\n",
    "lung_df = phenotype_df[phenotype_df['SMTSD'] == 'Lung']\n",
    "phenotype_idx = [[x.split('-')[1] for x in lung_df['SAMPID']].index(ID) for ID in [x.decode('utf-8').split('-')[1] for x in donor_IDs]]\n",
    "\n",
    "\n",
    "lung_df = phenotype_df[phenotype_df['SMTSD'] == 'Lung']\n",
    "lung_df = lung_df.iloc[phenotype_idx,:]\n",
    "\n",
    "filt_tech_expression =  filt_expression[technical_idx,:]\n",
    "filt_tech_features =  filt_features[technical_idx,:]\n",
    "print (\"Filtered technical features:\")\n",
    "print (filt_tech_expression.shape, filt_tech_features.shape)"
   ]
  },
  {
   "cell_type": "code",
   "execution_count": 596,
   "metadata": {},
   "outputs": [
    {
     "name": "stdout",
     "output_type": "stream",
     "text": [
      "Filtered technical features:\n",
      "(231, 200) (231, 100)\n"
     ]
    }
   ],
   "source": [
    "import os\n",
    "import sys\n",
    "sys.path = ['/nfs/gns/homes/willj/anaconda3/envs/GTEx/lib/python3.5/site-packages'] + sys.path\n",
    "GTEx_directory = '/hps/nobackup/research/stegle/users/willj/GTEx'\n",
    "import pickle\n",
    "import matplotlib.pyplot as plt\n",
    "%matplotlib inline\n",
    "import seaborn\n",
    "import numpy as np\n",
    "from limix.plot import qqplot\n",
    "import warnings\n",
    "import h5py\n",
    "from scipy.stats import pearsonr\n",
    "import statsmodels.stats.multitest as smm\n",
    "import gzip\n",
    "import pandas as pd\n",
    "\n",
    "mean_features = {}\n",
    "with h5py.File(GTEx_directory + '/data/intermediate/new_retrained_inceptionet_aggregations.hdf5','r') as f:\n",
    "    expression = f['lung']['256']['expression'].value\n",
    "    donor_IDs = f['lung']['256']['donor_IDs'].value\n",
    "    for s in ['128','256','512','1024','2048']:\n",
    "        size_mean_features = f['lung'][s]['mean'].value\n",
    "        mean_features[s] = size_mean_features\n",
    "        \n",
    "        \n",
    "    expression_IDs = f['lung']['256']['expression_IDs'].value\n",
    "\n",
    "most_expressed_transcript_idx, most_varying_feature_idx, results = pickle.load(open(GTEx_directory + '/data/intermediate/retrained_quick_pvalues.py','rb'))\n",
    "\n",
    "filt_expression = expression[:,most_expressed_transcript_idx]\n",
    "filt_features = mean_features['256'][:,most_varying_feature_idx]\n",
    "\n",
    "phenotype_filepath = '/nfs/research2/stegle/stegle_secure/GTEx/download/49139/PhenoGenotypeFiles/RootStudyConsentSet_phs000424.GTEx.v6.p1.c1.GRU/PhenotypeFiles/phs000424.v6.pht002743.v6.p1.c1.GTEx_Sample_Attributes.GRU.txt.gz'\n",
    "with gzip.open(phenotype_filepath, 'rb') as f:\n",
    "    phenotype_array = [str(x, 'utf-8').split('\\t') for x in f.read().splitlines() if not str(x, 'utf-8').startswith('#')][1:]\n",
    "    phenotype_df = pd.DataFrame(phenotype_array)\n",
    "    phenotype_df.columns = phenotype_df.iloc[0]\n",
    "    phenotype_df = phenotype_df[1:]\n",
    "\n",
    "lung_df = phenotype_df[phenotype_df['SMTSD'] == 'Lung']\n",
    "phenotype_idx = [[x.split('-')[1] for x in lung_df['SAMPID']].index(ID) for ID in [x.decode('utf-8').split('-')[1] for x in donor_IDs]]\n",
    "\n",
    "\n",
    "lung_df = phenotype_df[phenotype_df['SMTSD'] == 'Lung']\n",
    "lung_df = lung_df.iloc[phenotype_idx,:]\n",
    "\n",
    "filt_tech_expression =  filt_expression[technical_idx,:]\n",
    "filt_tech_features =  filt_features[technical_idx,:]\n",
    "print (\"Filtered technical features:\")\n",
    "print (filt_tech_expression.shape, filt_tech_features.shape)"
   ]
  },
  {
   "cell_type": "code",
   "execution_count": 780,
   "metadata": {},
   "outputs": [
    {
     "data": {
      "image/png": "[encoded data removed]",
      "text/plain": [
       "<matplotlib.figure.Figure at 0x2b9d2b40f860>"
      ]
     },
     "metadata": {},
     "output_type": "display_data"
    }
   ],
   "source": [
    "plt.hist(results['mean_256_pvalues'].flatten(),bins=100)\n",
    "plt.show()"
   ]
  },
  {
   "cell_type": "markdown",
   "metadata": {},
   "source": [
    "This results in 76 covariates for each of the 274 lung samples."
   ]
  },
  {
   "cell_type": "markdown",
   "metadata": {},
   "source": [
    "We define our function to again estimate the inflation parameter, $\\lambda$."
   ]
  },
  {
   "cell_type": "code",
   "execution_count": 597,
   "metadata": {
    "collapsed": true
   },
   "outputs": [],
   "source": [
    "import scipy.stats as st\n",
    "import scipy as sp\n",
    "def estimate_lambda(pv):\n",
    "    \"\"\"estimate lambda form a set of PV\"\"\"\n",
    "    LOD2 = sp.median(st.chi2.isf(pv, 1))\n",
    "    null_median = st.chi2.median(1)\n",
    "    L = (LOD2 / null_median)\n",
    "    return (L)"
   ]
  },
  {
   "cell_type": "markdown",
   "metadata": {},
   "source": [
    "We take only the samples for which we have technical factors. "
   ]
  },
  {
   "cell_type": "code",
   "execution_count": 598,
   "metadata": {
    "collapsed": true
   },
   "outputs": [],
   "source": [
    "clean_lung_df = pd.DataFrame()\n",
    "for col in lung_df.columns:\n",
    "    clean_factor = pd.to_numeric(lung_df[col],errors='coerce')\n",
    "    clean_lung_df[col] = clean_factor\n",
    "    \n",
    "\n",
    "clean_lung_df = clean_lung_df.dropna(how='all',axis=1)\n",
    "technical_idx = np.array(clean_lung_df.isnull().sum(axis=1) == 0)\n",
    "clean_lung_df = clean_lung_df.dropna(how='any',axis=0)\n",
    "raw_technical_covariates = np.array(clean_lung_df)\n",
    "filter_technical_cov_idx = np.std(raw_technical_covariates,axis=0) < 100\n",
    "raw_technical_covariates = raw_technical_covariates[:,filter_technical_cov_idx]"
   ]
  },
  {
   "cell_type": "markdown",
   "metadata": {},
   "source": [
    "This results in a total of 231 samples. We also ensure that we take technical factors with limited variance (< 100), this results in 29 continuous technical factors."
   ]
  },
  {
   "cell_type": "code",
   "execution_count": 599,
   "metadata": {},
   "outputs": [
    {
     "name": "stdout",
     "output_type": "stream",
     "text": [
      "Raw features:\n",
      "(274, 1024) (274, 28683)\n",
      "Filtered features:\n",
      "(274, 200) (274, 100)\n",
      "Technical factors:\n",
      "(231, 29)\n"
     ]
    }
   ],
   "source": [
    "print (\"Raw features:\")\n",
    "print (mean_features['256'].shape, expression.shape)\n",
    "print (\"Filtered features:\")\n",
    "print (filt_expression.shape, filt_features.shape)\n",
    "print (\"Technical factors:\")\n",
    "print (raw_technical_covariates.shape)"
   ]
  },
  {
   "cell_type": "markdown",
   "metadata": {},
   "source": [
    "Here are the names of the different technical factors we have included. Here are some example descriptions:\n",
    "* SMATSSCR: Autolysis score\n",
    "* SMRIN: RNA degradation (RIN) number\n",
    "* SMTSISCH: Ischemic time"
   ]
  },
  {
   "cell_type": "code",
   "execution_count": 578,
   "metadata": {
    "scrolled": true
   },
   "outputs": [
    {
     "data": {
      "text/plain": [
       "Index(['dbGaP_Sample_ID', 'SMATSSCR', 'SMRIN', 'SMUBRID', 'SMTSISCH',\n",
       "       'SMTSPAX', 'SME2MPRT', 'SMCHMPRS', 'SMNTRART', 'SMNUMGPS', 'SMMAPRT',\n",
       "       'SMEXNCRT', 'SM550NRM', 'SMGNSDTC', 'SMUNMPRT', 'SM350NRM', 'SMRDLGTH',\n",
       "       'SMMNCPB', 'SME1MMRT', 'SMSFLGTH', 'SMESTLBS', 'SMMPPD', 'SMNTERRT',\n",
       "       'SMRRNANM', 'SMRDTTL', 'SMVQCFL', 'SMMNCV', 'SMTRSCPT', 'SMMPPDPR',\n",
       "       'SMCGLGTH', 'SMGAPPCT', 'SMUNPDRD', 'SMNTRNRT', 'SMMPUNRT', 'SMEXPEFF',\n",
       "       'SMMPPDUN', 'SME2MMRT', 'SME2ANTI', 'SMALTALG', 'SME2SNSE', 'SMMFLGTH',\n",
       "       'SME1ANTI', 'SMSPLTRD', 'SMBSMMRT', 'SME1SNSE', 'SME1PCTS', 'SMRRNART',\n",
       "       'SME1MPRT', 'SMNUM5CD', 'SMDPMPRT', 'SME2PCTS'],\n",
       "      dtype='object')"
      ]
     },
     "execution_count": 578,
     "metadata": {},
     "output_type": "execute_result"
    }
   ],
   "source": [
    "clean_lung_df.columns"
   ]
  },
  {
   "cell_type": "markdown",
   "metadata": {},
   "source": [
    "This histogram shows the standard deviations of the technical covariates we have chosen to look at. Note that there are technical factors that still vary a great deal."
   ]
  },
  {
   "cell_type": "code",
   "execution_count": 580,
   "metadata": {},
   "outputs": [
    {
     "data": {
      "image/png": "[encoded data removed]",
      "text/plain": [
       "<matplotlib.figure.Figure at 0x2b9d1b4e8f98>"
      ]
     },
     "metadata": {},
     "output_type": "display_data"
    }
   ],
   "source": [
    "plt.hist(raw_technical_covariates.std(axis=0),bins=100)\n",
    "plt.show()"
   ]
  },
  {
   "cell_type": "markdown",
   "metadata": {},
   "source": [
    "Take the first 20 PCs of the expression matrix."
   ]
  },
  {
   "cell_type": "markdown",
   "metadata": {
    "collapsed": true
   },
   "source": [
    "We would like to investigate how including these known technical covariates impact the analysis. "
   ]
  },
  {
   "cell_type": "code",
   "execution_count": 780,
   "metadata": {},
   "outputs": [
    {
     "data": {
      "image/png": "[encoded data removed]",
      "text/plain": [
       "<matplotlib.figure.Figure at 0x2b9d2b40f860>"
      ]
     },
     "metadata": {},
     "output_type": "display_data"
    }
   ],
   "source": [
    "plt.hist(results['mean_256_pvalues'].flatten(),bins=100)\n",
    "plt.show()"
   ]
  },
  {
   "cell_type": "markdown",
   "metadata": {},
   "source": [
    "This results in 76 covariates for each of the 274 lung samples."
   ]
  },
  {
   "cell_type": "markdown",
   "metadata": {},
   "source": [
    "We define our function to again estimate the inflation parameter, $\\lambda$."
   ]
  },
  {
   "cell_type": "code",
   "execution_count": 597,
   "metadata": {
    "collapsed": true
   },
   "outputs": [],
   "source": [
    "import scipy.stats as st\n",
    "import scipy as sp\n",
    "def estimate_lambda(pv):\n",
    "    \"\"\"estimate lambda form a set of PV\"\"\"\n",
    "    LOD2 = sp.median(st.chi2.isf(pv, 1))\n",
    "    null_median = st.chi2.median(1)\n",
    "    L = (LOD2 / null_median)\n",
    "    return (L)"
   ]
  },
  {
   "cell_type": "markdown",
   "metadata": {},
   "source": [
    "We take only the samples for which we have technical factors. "
   ]
  },
  {
   "cell_type": "code",
   "execution_count": 598,
   "metadata": {
    "collapsed": true
   },
   "outputs": [],
   "source": [
    "clean_lung_df = pd.DataFrame()\n",
    "for col in lung_df.columns:\n",
    "    clean_factor = pd.to_numeric(lung_df[col],errors='coerce')\n",
    "    clean_lung_df[col] = clean_factor\n",
    "    \n",
    "\n",
    "clean_lung_df = clean_lung_df.dropna(how='all',axis=1)\n",
    "technical_idx = np.array(clean_lung_df.isnull().sum(axis=1) == 0)\n",
    "clean_lung_df = clean_lung_df.dropna(how='any',axis=0)\n",
    "raw_technical_covariates = np.array(clean_lung_df)\n",
    "filter_technical_cov_idx = np.std(raw_technical_covariates,axis=0) < 100\n",
    "raw_technical_covariates = raw_technical_covariates[:,filter_technical_cov_idx]"
   ]
  },
  {
   "cell_type": "markdown",
   "metadata": {},
   "source": [
    "This results in a total of 231 samples. We also ensure that we take technical factors with limited variance (< 100), this results in 29 continuous technical factors."
   ]
  },
  {
   "cell_type": "code",
   "execution_count": 599,
   "metadata": {},
   "outputs": [
    {
     "name": "stdout",
     "output_type": "stream",
     "text": [
      "Raw features:\n",
      "(274, 1024) (274, 28683)\n",
      "Filtered features:\n",
      "(274, 200) (274, 100)\n",
      "Technical factors:\n",
      "(231, 29)\n"
     ]
    }
   ],
   "source": [
    "print (\"Raw features:\")\n",
    "print (mean_features['256'].shape, expression.shape)\n",
    "print (\"Filtered features:\")\n",
    "print (filt_expression.shape, filt_features.shape)\n",
    "print (\"Technical factors:\")\n",
    "print (raw_technical_covariates.shape)"
   ]
  },
  {
   "cell_type": "markdown",
   "metadata": {},
   "source": [
    "Here are the names of the different technical factors we have included. Here are some example descriptions:\n",
    "* SMATSSCR: Autolysis score\n",
    "* SMRIN: RNA degradation (RIN) number\n",
    "* SMTSISCH: Ischemic time"
   ]
  },
  {
   "cell_type": "code",
   "execution_count": 578,
   "metadata": {
    "scrolled": true
   },
   "outputs": [
    {
     "data": {
      "text/plain": [
       "Index(['dbGaP_Sample_ID', 'SMATSSCR', 'SMRIN', 'SMUBRID', 'SMTSISCH',\n",
       "       'SMTSPAX', 'SME2MPRT', 'SMCHMPRS', 'SMNTRART', 'SMNUMGPS', 'SMMAPRT',\n",
       "       'SMEXNCRT', 'SM550NRM', 'SMGNSDTC', 'SMUNMPRT', 'SM350NRM', 'SMRDLGTH',\n",
       "       'SMMNCPB', 'SME1MMRT', 'SMSFLGTH', 'SMESTLBS', 'SMMPPD', 'SMNTERRT',\n",
       "       'SMRRNANM', 'SMRDTTL', 'SMVQCFL', 'SMMNCV', 'SMTRSCPT', 'SMMPPDPR',\n",
       "       'SMCGLGTH', 'SMGAPPCT', 'SMUNPDRD', 'SMNTRNRT', 'SMMPUNRT', 'SMEXPEFF',\n",
       "       'SMMPPDUN', 'SME2MMRT', 'SME2ANTI', 'SMALTALG', 'SME2SNSE', 'SMMFLGTH',\n",
       "       'SME1ANTI', 'SMSPLTRD', 'SMBSMMRT', 'SME1SNSE', 'SME1PCTS', 'SMRRNART',\n",
       "       'SME1MPRT', 'SMNUM5CD', 'SMDPMPRT', 'SME2PCTS'],\n",
       "      dtype='object')"
      ]
     },
     "execution_count": 578,
     "metadata": {},
     "output_type": "execute_result"
    }
   ],
   "source": [
    "clean_lung_df.columns"
   ]
  },
  {
   "cell_type": "markdown",
   "metadata": {},
   "source": [
    "This histogram shows the standard deviations of the technical covariates we have chosen to look at. Note that there are technical factors that still vary a great deal."
   ]
  },
  {
   "cell_type": "code",
   "execution_count": 580,
   "metadata": {},
   "outputs": [
    {
     "data": {
      "image/png": "[encoded data removed]",
      "text/plain": [
       "<matplotlib.figure.Figure at 0x2b9d1b4e8f98>"
      ]
     },
     "metadata": {},
     "output_type": "display_data"
    }
   ],
   "source": [
    "plt.hist(raw_technical_covariates.std(axis=0),bins=100)\n",
    "plt.show()"
   ]
  },
  {
   "cell_type": "markdown",
   "metadata": {},
   "source": [
    "Take the first 20 PCs of the expression matrix."
   ]
  },
  {
   "cell_type": "markdown",
   "metadata": {
    "collapsed": true
   },
   "source": [
    "We would like to investigate how including these known technical covariates impact the analysis. "
   ]
  },
  {
   "cell_type": "code",
   "execution_count": null,
   "metadata": {
    "collapsed": true
   },
   "outputs": [],
   "source": []
  }
 ],
 "metadata": {
  "kernelspec": {
   "display_name": "Python 3",
   "language": "python",
   "name": "python3"
  },
  "language_info": {
   "codemirror_mode": {
    "name": "ipython",
    "version": 3
   },
   "file_extension": ".py",
   "mimetype": "text/x-python",
   "name": "python",
   "nbconvert_exporter": "python",
   "pygments_lexer": "ipython3",
   "version": "3.5.2"
  },
  "nav_menu": {},
  "toc": {
   "navigate_menu": true,
   "number_sections": true,
   "sideBar": true,
   "threshold": 6,
   "toc_cell": false,
   "toc_section_display": "block",
   "toc_window_display": false
  }
 },
 "nbformat": 4,
 "nbformat_minor": 2
}
