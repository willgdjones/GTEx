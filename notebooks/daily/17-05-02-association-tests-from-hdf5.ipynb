{
 "cells": [
  {
   "cell_type": "code",
   "execution_count": 2,
   "metadata": {
    "collapsed": true
   },
   "outputs": [],
   "source": [
    "import pdb\n",
    "import sys\n",
    "sys.path = ['/nfs/gns/homes/willj/anaconda3/envs/GTEx/lib/python3.5/site-packages'] + sys.path\n",
    "import pickle\n",
    "import math\n",
    "import numpy as np\n",
    "import matplotlib.pyplot as plt\n",
    "import random\n",
    "from scipy.stats import pearsonr\n",
    "from lim.genetics import qtl\n",
    "from lim.genetics.phenotype import NormalPhenotype\n",
    "import logging\n",
    "import argparse\n",
    "import os\n",
    "from pyensembl import EnsemblRelease\n",
    "lim_logging = logging.getLogger('lim')\n",
    "lim_logging.setLevel(logging.CRITICAL)\n",
    "import h5py"
   ]
  },
  {
   "cell_type": "code",
   "execution_count": 4,
   "metadata": {
    "collapsed": true
   },
   "outputs": [],
   "source": [
    "GTEx_directory = '/hps/nobackup/research/stegle/users/willj/GTEx'"
   ]
  },
  {
   "cell_type": "code",
   "execution_count": 26,
   "metadata": {
    "collapsed": true
   },
   "outputs": [],
   "source": [
    "tissue = 'Lung'\n",
    "tissue_expression_filepath = '/nfs/research2/stegle/stegle_secure/GTEx/download/49139/PhenoGenotypeFiles/RootStudyConsentSet_phs000424.GTEx.v6.p1.c1.GRU/ExpressionFiles/phe000006.v2.GTEx_RNAseq.expression-data-matrixfmt.c1/parse_data/44_tissues/GTEx_Data_20150112_RNAseq_RNASeQCv1.1.8_gene_rpkm_{}_normalised_without_inverse_gene_expression.txt'.format(tissue)\n",
    "with open(tissue_expression_filepath, 'r') as f:\n",
    "    expression_table = np.array([x.split('\\t') for x in f.read().splitlines()])\n",
    "    expression_matrix = expression_table[1:,1:].astype(np.float32)\n",
    "\n",
    "individual_tissue_expression_donor_IDs = [x.split('-')[1] for x in expression_table[0,:][1:]]\n",
    "expression_IDs = [n.encode(\"ascii\", \"ignore\") for n in expression_table[1:,0]]"
   ]
  },
  {
   "cell_type": "code",
   "execution_count": 27,
   "metadata": {},
   "outputs": [
    {
     "name": "stdout",
     "output_type": "stream",
     "text": [
      "1024\n",
      "128\n",
      "2048\n",
      "256\n",
      "512\n"
     ]
    }
   ],
   "source": [
    "with h5py.File(GTEx_directory + '/retrained_inceptionet_aggregations.hdf5','w') as g:\n",
    "    with h5py.File(GTEx_directory + '/retrained_inceptionet_features.hdf5','r') as f:\n",
    "        for size in list(f['lung']['features'].keys()):\n",
    "            mean_aggregated_features = []\n",
    "            median_aggregated_features = []\n",
    "            aggregated_expression = []\n",
    "            print (size)\n",
    "            for ID in list(f['lung']['features'][size].keys()):\n",
    "                patch_features = f['lung']['features'][size][ID].value\n",
    "                mean_patch_features = np.mean(patch_features,axis=0)\n",
    "                median_patch_features = np.median(patch_features,axis=0)\n",
    "                \n",
    "                mean_aggregated_features.append(mean_patch_features)\n",
    "                median_aggregated_features.append(median_patch_features)\n",
    "            \n",
    "                image_expression = f['lung']['expression'][ID].value\n",
    "                aggregated_expression.append(image_expression)\n",
    "                \n",
    "            size_group = g.create_group('lung/{}'.format(size))\n",
    "            size_group.create_dataset('median', data=mean_aggregated_features)\n",
    "            size_group.create_dataset('mean', data=median_aggregated_features)\n",
    "            size_group.create_dataset('expression',data=aggregated_expression)\n",
    "            size_group.create_dataset('expression_IDs',data=expression_IDs)\n",
    "    \n",
    "\n"
   ]
  },
  {
   "cell_type": "code",
   "execution_count": 32,
   "metadata": {},
   "outputs": [
    {
     "name": "stdout",
     "output_type": "stream",
     "text": [
      "(274, 28683)\n"
     ]
    }
   ],
   "source": [
    "with h5py.File(GTEx_directory + '/retrained_inceptionet_aggregations.hdf5','r') as g:\n",
    "    print (g['lung']['256']['expression'].value.shape)"
   ]
  }
 ],
 "metadata": {
  "kernelspec": {
   "display_name": "Python 3",
   "language": "python",
   "name": "python3"
  },
  "language_info": {
   "codemirror_mode": {
    "name": "ipython",
    "version": 3
   },
   "file_extension": ".py",
   "mimetype": "text/x-python",
   "name": "python",
   "nbconvert_exporter": "python",
   "pygments_lexer": "ipython3",
   "version": "3.5.2"
  },
  "nav_menu": {},
  "toc": {
   "navigate_menu": true,
   "number_sections": true,
   "sideBar": true,
   "threshold": 6,
   "toc_cell": false,
   "toc_section_display": "block",
   "toc_window_display": false
  }
 },
 "nbformat": 4,
 "nbformat_minor": 2
}
